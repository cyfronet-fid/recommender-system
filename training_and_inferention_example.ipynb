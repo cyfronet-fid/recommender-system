{
 "cells": [
  {
   "cell_type": "markdown",
   "id": "numerous-berlin",
   "metadata": {},
   "source": [
    "### Import section"
   ]
  },
  {
   "cell_type": "code",
   "execution_count": 1,
   "id": "varied-gardening",
   "metadata": {},
   "outputs": [],
   "source": [
    "from mongoengine import connect, disconnect\n",
    "from settings import DevelopmentConfig, TestingConfig\n",
    "from tests.factories.marketplace import UserFactory, ServiceFactory\n",
    "import random\n",
    "\n",
    "\n",
    "from recommender.engine.pre_agent.datasets import *\n",
    "from recommender.engine.pre_agent.preprocessing import *\n",
    "from recommender.engine.pre_agent.models import *\n",
    "\n",
    "from recommender.models import User, Service, PytorchDataset\n",
    "\n",
    "import time\n",
    "from tqdm.auto import tqdm, trange\n",
    "\n",
    "import torch\n",
    "from torch.utils.data import random_split, DataLoader\n",
    "from torch.optim import SGD\n",
    "from torch.nn import BCELoss\n",
    "\n",
    "\n",
    "from recommender.engine.pre_agent.training import *\n",
    "\n",
    "from matplotlib import pyplot as plt\n",
    "\n",
    "from tests.factories.populate_database import populate_users_and_services"
   ]
  },
  {
   "cell_type": "markdown",
   "id": "insured-locator",
   "metadata": {},
   "source": [
    "### connect to database"
   ]
  },
  {
   "cell_type": "markdown",
   "id": "opening-bacteria",
   "metadata": {},
   "source": [
    "##### testing database"
   ]
  },
  {
   "cell_type": "code",
   "execution_count": 2,
   "id": "average-organizer",
   "metadata": {},
   "outputs": [
    {
     "data": {
      "text/plain": [
       "mongomock.MongoClient('localhost', 27017)"
      ]
     },
     "execution_count": 2,
     "metadata": {},
     "output_type": "execute_result"
    }
   ],
   "source": [
    "disconnect()\n",
    "connect(host=TestingConfig.MONGODB_HOST)"
   ]
  },
  {
   "cell_type": "code",
   "execution_count": 3,
   "id": "widespread-spring",
   "metadata": {},
   "outputs": [
    {
     "data": {
      "application/vnd.jupyter.widget-view+json": {
       "model_id": "5d31d039756f4e47b9b766bb44e61c6f",
       "version_major": 2,
       "version_minor": 0
      },
      "text/plain": [
       "No one services creating...:   0%|          | 0/1 [00:00<?, ?it/s]"
      ]
     },
     "metadata": {},
     "output_type": "display_data"
    },
    {
     "data": {
      "application/vnd.jupyter.widget-view+json": {
       "model_id": "1ff73bd4bd9b4e8a9bf8c26ac968c5ea",
       "version_major": 2,
       "version_minor": 0
      },
      "text/plain": [
       "Common services creating...:   0%|          | 0/10 [00:00<?, ?it/s]"
      ]
     },
     "metadata": {},
     "output_type": "display_data"
    },
    {
     "data": {
      "application/vnd.jupyter.widget-view+json": {
       "model_id": "02911d7e2aa04269aaa95f4af212d476",
       "version_major": 2,
       "version_minor": 0
      },
      "text/plain": [
       "Users creating...:   0%|          | 0/10 [00:00<?, ?it/s]"
      ]
     },
     "metadata": {},
     "output_type": "display_data"
    }
   ],
   "source": [
    "# Populate database with artificial data\n",
    "\n",
    "COMMON_SERVICES_NUMBER = 10\n",
    "NO_ONE_SERVICES_NUMBER = int(COMMON_SERVICES_NUMBER/10)\n",
    "USERS_NUMBER = 10\n",
    "K_COMMON_SERVICES_MIN = 3\n",
    "K_COMMON_SERVICES_MAX = 7\n",
    "\n",
    "populate_users_and_services(\n",
    "    common_services_number=COMMON_SERVICES_NUMBER,\n",
    "    no_one_services_number=NO_ONE_SERVICES_NUMBER,\n",
    "    users_number=USERS_NUMBER,\n",
    "    k_common_services_min=K_COMMON_SERVICES_MIN,\n",
    "    k_common_services_max=K_COMMON_SERVICES_MAX\n",
    ")"
   ]
  },
  {
   "cell_type": "markdown",
   "id": "verbal-bosnia",
   "metadata": {},
   "source": [
    "##### development database"
   ]
  },
  {
   "cell_type": "markdown",
   "id": "special-israeli",
   "metadata": {},
   "source": [
    "If you want to use development databse make sure that there is at least one user with at least on category/scientific_domain and least one accessed_service"
   ]
  },
  {
   "cell_type": "code",
   "execution_count": 4,
   "id": "worth-snapshot",
   "metadata": {},
   "outputs": [],
   "source": [
    "# disconnect()\n",
    "# connect(host=DevelopmentConfig.MONGODB_HOST)"
   ]
  },
  {
   "cell_type": "markdown",
   "id": "general-exclusion",
   "metadata": {},
   "source": [
    "### Precalculate tensors"
   ]
  },
  {
   "cell_type": "code",
   "execution_count": 5,
   "id": "discrete-share",
   "metadata": {},
   "outputs": [
    {
     "data": {
      "application/vnd.jupyter.widget-view+json": {
       "model_id": "a23eda019c3046de95a12661f705e8f9",
       "version_major": 2,
       "version_minor": 0
      },
      "text/plain": [
       "Calculating users dataframes...:   0%|          | 0/10 [00:00<?, ?it/s]"
      ]
     },
     "metadata": {},
     "output_type": "display_data"
    },
    {
     "data": {
      "application/vnd.jupyter.widget-view+json": {
       "model_id": "bb61d0f3b2ec4cfd90c2d5a423ed2459",
       "version_major": 2,
       "version_minor": 0
      },
      "text/plain": [
       "Saving users tensors...:   0%|          | 0/10 [00:00<?, ?it/s]"
      ]
     },
     "metadata": {},
     "output_type": "display_data"
    },
    {
     "data": {
      "application/vnd.jupyter.widget-view+json": {
       "model_id": "6435ab49dd364f67b0de58065490ccd6",
       "version_major": 2,
       "version_minor": 0
      },
      "text/plain": [
       "Calculating services dataframes...:   0%|          | 0/11 [00:00<?, ?it/s]"
      ]
     },
     "metadata": {},
     "output_type": "display_data"
    },
    {
     "data": {
      "application/vnd.jupyter.widget-view+json": {
       "model_id": "4530604b2080433d8c13b708b54c3a91",
       "version_major": 2,
       "version_minor": 0
      },
      "text/plain": [
       "Saving services tensors...:   0%|          | 0/11 [00:00<?, ?it/s]"
      ]
     },
     "metadata": {},
     "output_type": "display_data"
    }
   ],
   "source": [
    "precalc_users_and_service_tensors()"
   ]
  },
  {
   "cell_type": "code",
   "execution_count": 6,
   "id": "secondary-extra",
   "metadata": {},
   "outputs": [
    {
     "data": {
      "application/vnd.jupyter.widget-view+json": {
       "model_id": "5911984b50ad47939a88336bf9047dcc",
       "version_major": 2,
       "version_minor": 0
      },
      "text/plain": [
       "Generating dataset...:   0%|          | 0/10 [00:00<?, ?it/s]"
      ]
     },
     "metadata": {},
     "output_type": "display_data"
    },
    {
     "name": "stdout",
     "output_type": "stream",
     "text": [
      "Spliting into Train/Valid/Test datasets...\n",
      "finished!\n",
      "Train/Valid/Test datasets saving...\n",
      "finished!\n"
     ]
    },
    {
     "data": {
      "text/plain": [
       "(<torch.utils.data.dataset.Subset at 0x7f5f789e6b90>,\n",
       " <torch.utils.data.dataset.Subset at 0x7f601ee78510>,\n",
       " <torch.utils.data.dataset.Subset at 0x7f5f7879f390>)"
      ]
     },
     "execution_count": 6,
     "metadata": {},
     "output_type": "execute_result"
    }
   ],
   "source": [
    "create_datasets()"
   ]
  },
  {
   "cell_type": "markdown",
   "id": "acoustic-nightlife",
   "metadata": {},
   "source": [
    "### Training"
   ]
  },
  {
   "cell_type": "code",
   "execution_count": null,
   "id": "hawaiian-equipment",
   "metadata": {},
   "outputs": [],
   "source": [
    "# Get datasets and dataloaders\n",
    "train_ds = load_last_dataset(TRAIN_DS_NAME)\n",
    "valid_ds = load_last_dataset(VALID_DS_NAME)\n",
    "test_ds = load_last_dataset(TEST_DS_NAME)\n",
    "\n",
    "BATCH_SIZE = 32\n",
    "\n",
    "train_ds_dl = DataLoader(train_ds, batch_size=BATCH_SIZE, shuffle=True)\n",
    "valid_ds_dl = DataLoader(valid_ds, batch_size=BATCH_SIZE, shuffle=True)\n",
    "test_ds_dl = DataLoader(test_ds, batch_size=BATCH_SIZE, shuffle=True)\n",
    "\n",
    "# Model\n",
    "USER_FEATURES_DIM = train_ds[0][USERS].shape[0]\n",
    "SERVICE_FEATURES_DIM = train_ds[0][SERVICES].shape[0]\n",
    "USER_EMBEDDING_DIM = 32\n",
    "SERVICE_EMBEDDING_DIM = 64\n",
    "\n",
    "neural_cf_model = NeuralColaborativeFilteringModel(\n",
    "    user_features_dim=USER_FEATURES_DIM,\n",
    "    user_embedding_dim=USER_EMBEDDING_DIM,\n",
    "    service_features_dim=SERVICE_FEATURES_DIM,\n",
    "    service_embedding_dim=SERVICE_EMBEDDING_DIM,\n",
    ")\n",
    "\n",
    "loss_function = BCELoss()\n",
    "\n",
    "LR = 0.01\n",
    "optimizer = SGD(neural_cf_model.parameters(), lr=LR)\n",
    "\n",
    "EPOCHS = 2000\n",
    "\n",
    "losses, accuracies, val_losses, val_accuracies = train(\n",
    "    model=neural_cf_model,\n",
    "    epochs=EPOCHS,\n",
    "    train_ds_dl=train_ds_dl,\n",
    "    valid_ds_dl=valid_ds_dl,\n",
    "    loss_function=loss_function,\n",
    "    accuracy_function=accuracy_function,\n",
    "    optimizer=optimizer\n",
    ")"
   ]
  },
  {
   "cell_type": "markdown",
   "id": "julian-irrigation",
   "metadata": {},
   "source": [
    "### Visualize loss"
   ]
  },
  {
   "cell_type": "code",
   "execution_count": 8,
   "id": "pretty-defendant",
   "metadata": {},
   "outputs": [
    {
     "data": {
      "image/png": "[encoded data removed]",
      "text/plain": [
       "<Figure size 432x288 with 1 Axes>"
      ]
     },
     "metadata": {
      "needs_background": "light"
     },
     "output_type": "display_data"
    }
   ],
   "source": [
    "plt.plot([float(loss) for loss in losses])\n",
    "plt.plot([float(loss) for loss in val_losses], color=\"red\")\n",
    "plt.show()"
   ]
  },
  {
   "cell_type": "markdown",
   "id": "christian-necklace",
   "metadata": {},
   "source": [
    "### Visualize accuracy"
   ]
  },
  {
   "cell_type": "code",
   "execution_count": 9,
   "id": "normal-soccer",
   "metadata": {},
   "outputs": [
    {
     "data": {
      "image/png": "[encoded data removed]",
      "text/plain": [
       "<Figure size 432x288 with 1 Axes>"
      ]
     },
     "metadata": {
      "needs_background": "light"
     },
     "output_type": "display_data"
    }
   ],
   "source": [
    "plt.plot([float(acc) for acc in accuracies])\n",
    "plt.plot([float(acc) for acc in val_accuracies], color=\"red\")\n",
    "plt.show()"
   ]
  },
  {
   "cell_type": "markdown",
   "id": "ongoing-variety",
   "metadata": {},
   "source": [
    "### Model Evaluation"
   ]
  },
  {
   "cell_type": "code",
   "execution_count": 10,
   "id": "macro-treatment",
   "metadata": {},
   "outputs": [
    {
     "name": "stdout",
     "output_type": "stream",
     "text": [
      "Testing loss: 0.6959970593452454, testing accuracy: 0.5\n"
     ]
    }
   ],
   "source": [
    "loss, acc = evaluate(neural_cf_model, test_ds_dl, loss_function, accuracy_function)\n",
    "print(f\"Testing loss: {loss}, testing accuracy: {acc}\")"
   ]
  },
  {
   "cell_type": "markdown",
   "id": "sized-heath",
   "metadata": {},
   "source": [
    "### Model saving"
   ]
  },
  {
   "cell_type": "markdown",
   "id": "vulnerable-fantasy",
   "metadata": {},
   "source": [
    "Transformers are save automatically after creation and fitting inside raw_dataset_to_tensors function so only model should be saved manually."
   ]
  },
  {
   "cell_type": "code",
   "execution_count": 11,
   "id": "experimental-martin",
   "metadata": {},
   "outputs": [],
   "source": [
    "save_module(neural_cf_model, name=NEURAL_CF)"
   ]
  },
  {
   "cell_type": "markdown",
   "id": "engaging-guinea",
   "metadata": {},
   "source": [
    "### Inferention"
   ]
  },
  {
   "cell_type": "markdown",
   "id": "unexpected-intelligence",
   "metadata": {},
   "source": [
    "Model loading:"
   ]
  },
  {
   "cell_type": "code",
   "execution_count": 12,
   "id": "advanced-respect",
   "metadata": {},
   "outputs": [],
   "source": [
    "neural_cf_model = load_last_module(NEURAL_CF)"
   ]
  },
  {
   "cell_type": "markdown",
   "id": "convinced-sierra",
   "metadata": {},
   "source": [
    "Inferention data preparing"
   ]
  },
  {
   "cell_type": "code",
   "execution_count": 13,
   "id": "southern-controversy",
   "metadata": {},
   "outputs": [],
   "source": [
    "user = User.objects[0]\n",
    "services = list(Service.objects)\n",
    "service = services[0]"
   ]
  },
  {
   "cell_type": "code",
   "execution_count": 14,
   "id": "informational-riding",
   "metadata": {},
   "outputs": [
    {
     "name": "stdout",
     "output_type": "stream",
     "text": [
      "CPU times: user 553 µs, sys: 0 ns, total: 553 µs\n",
      "Wall time: 544 µs\n"
     ]
    }
   ],
   "source": [
    "%%time\n",
    "users_tensor, services_tensor = user_and_service_to_tensors(user, service)"
   ]
  },
  {
   "cell_type": "code",
   "execution_count": 15,
   "id": "furnished-prerequisite",
   "metadata": {},
   "outputs": [
    {
     "name": "stdout",
     "output_type": "stream",
     "text": [
      "CPU times: user 808 µs, sys: 0 ns, total: 808 µs\n",
      "Wall time: 592 µs\n"
     ]
    }
   ],
   "source": [
    "%%time\n",
    "prediction = neural_cf_model(users_tensor, services_tensor).item()"
   ]
  },
  {
   "cell_type": "code",
   "execution_count": 16,
   "id": "herbal-running",
   "metadata": {},
   "outputs": [
    {
     "name": "stdout",
     "output_type": "stream",
     "text": [
      "Inferenced probability: 0.5373178720474243\n"
     ]
    }
   ],
   "source": [
    "print(f\"Inferenced probability: {prediction}\")"
   ]
  },
  {
   "cell_type": "code",
   "execution_count": 17,
   "id": "appreciated-jason",
   "metadata": {},
   "outputs": [
    {
     "name": "stdout",
     "output_type": "stream",
     "text": [
      "CPU times: user 4.06 ms, sys: 0 ns, total: 4.06 ms\n",
      "Wall time: 3.75 ms\n"
     ]
    }
   ],
   "source": [
    "%%time\n",
    "users_tensor, services_tensor = user_and_services_to_tensors(user, services)"
   ]
  },
  {
   "cell_type": "code",
   "execution_count": 18,
   "id": "mechanical-joining",
   "metadata": {},
   "outputs": [
    {
     "name": "stdout",
     "output_type": "stream",
     "text": [
      "CPU times: user 3 µs, sys: 0 ns, total: 3 µs\n",
      "Wall time: 6.68 µs\n"
     ]
    }
   ],
   "source": [
    "%time\n",
    "predictions = neural_cf_model(users_tensor, services_tensor)"
   ]
  },
  {
   "cell_type": "code",
   "execution_count": 19,
   "id": "continued-secondary",
   "metadata": {},
   "outputs": [
    {
     "name": "stdout",
     "output_type": "stream",
     "text": [
      "Inferenced probabilities: tensor([[0.5373],\n",
      "        [0.5372],\n",
      "        [0.5375],\n",
      "        [0.5373],\n",
      "        [0.5372],\n",
      "        [0.5373],\n",
      "        [0.5372],\n",
      "        [0.5369],\n",
      "        [0.5372],\n",
      "        [0.5374],\n",
      "        [0.5373]], grad_fn=<SigmoidBackward>)\n"
     ]
    }
   ],
   "source": [
    "print(f\"Inferenced probabilities: {predictions}\")"
   ]
  },
  {
   "cell_type": "code",
   "execution_count": null,
   "id": "lesser-building",
   "metadata": {},
   "outputs": [],
   "source": []
  }
 ],
 "metadata": {
  "kernelspec": {
   "display_name": "Python 3",
   "language": "python",
   "name": "python3"
  },
  "language_info": {
   "codemirror_mode": {
    "name": "ipython",
    "version": 3
   },
   "file_extension": ".py",
   "mimetype": "text/x-python",
   "name": "python",
   "nbconvert_exporter": "python",
   "pygments_lexer": "ipython3",
   "version": "3.7.5"
  }
 },
 "nbformat": 4,
 "nbformat_minor": 5
}