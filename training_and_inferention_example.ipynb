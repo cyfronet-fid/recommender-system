{
 "cells": [
  {
   "cell_type": "markdown",
   "id": "numerous-berlin",
   "metadata": {},
   "source": [
    "### Import section"
   ]
  },
  {
   "cell_type": "code",
   "execution_count": 42,
   "id": "varied-gardening",
   "metadata": {},
   "outputs": [],
   "source": [
    "from mongoengine import connect, disconnect\n",
    "from settings import DevelopmentConfig, TestingConfig\n",
    "from tests.factories.marketplace import UserFactory, ServiceFactory\n",
    "import random\n",
    "\n",
    "\n",
    "from recommender.engine.pre_agent.preprocessing.mongo_to_dataframe import (\n",
    "    create_raw_dataset,\n",
    "    USERS,\n",
    "    SERVICES,\n",
    "    LABELS,\n",
    "    calculate_dfs_for_users_and_services\n",
    ")\n",
    "from recommender.engine.pre_agent.preprocessing.dataframe_to_tensor import (\n",
    "    raw_dataset_to_tensors,\n",
    "    calculate_tensors_for_users_and_services,\n",
    "    user_and_service_to_tensors,\n",
    "    user_and_services_to_tensors\n",
    ")\n",
    "from recommender.engine.pre_agent.utilities.tensor_dict_dataset import TensorDictDataset\n",
    "from torch.utils.data import DataLoader\n",
    "from recommender.engine.pre_agent.models.neural_colaborative_filtering import (\n",
    "    NeuralColaborativeFilteringModel,\n",
    "    NEURAL_CF\n",
    ")\n",
    "from torch.nn import BCELoss\n",
    "from torch.optim import SGD\n",
    "from tqdm.auto import tqdm, trange\n",
    "import torch\n",
    "from recommender.engine.pre_agent.utilities.accuracy import accuracy_function\n",
    "import time\n",
    "from matplotlib import pyplot as plt\n",
    "from recommender.engine.pre_agent.models.common import save_module, load_last_module\n",
    "from recommender.models import User, Service\n",
    "from torch.utils.data import random_split"
   ]
  },
  {
   "cell_type": "markdown",
   "id": "insured-locator",
   "metadata": {},
   "source": [
    "### connect to database"
   ]
  },
  {
   "cell_type": "markdown",
   "id": "opening-bacteria",
   "metadata": {},
   "source": [
    "##### testing database"
   ]
  },
  {
   "cell_type": "code",
   "execution_count": 2,
   "id": "average-organizer",
   "metadata": {},
   "outputs": [
    {
     "data": {
      "text/plain": [
       "mongomock.MongoClient('localhost', 27017)"
      ]
     },
     "execution_count": 2,
     "metadata": {},
     "output_type": "execute_result"
    }
   ],
   "source": [
    "disconnect()\n",
    "connect(host=TestingConfig.MONGODB_HOST)"
   ]
  },
  {
   "cell_type": "code",
   "execution_count": 3,
   "id": "after-canvas",
   "metadata": {},
   "outputs": [],
   "source": [
    "# Populate database with artificial data\n",
    "\n",
    "COMMON_SERVICES_NUMBER = 100\n",
    "NO_ONE_SERVICES_NUMBER = int(COMMON_SERVICES_NUMBER/10)\n",
    "USERS_NUMBER = 100\n",
    "K_COMMON_SERVICES_MIN = 3\n",
    "K_COMMON_SERVICES_MAX = 7\n",
    "\n",
    "def populate_database(\n",
    "    common_services_number,\n",
    "    no_one_services_number,\n",
    "    users_number,\n",
    "    k_common_services_min,\n",
    "    k_common_services_max\n",
    "):\n",
    "    print(\"No one services creating...\")\n",
    "    start = time.time()\n",
    "    no_one_services = [ServiceFactory() for _ in trange(no_one_services_number)]\n",
    "    end = time.time()\n",
    "    print(f\"No one services created! [time: {end-start}]\\n\")\n",
    "\n",
    "    print(\"Common services creating...\")\n",
    "    start = time.time()\n",
    "    common_services = [ServiceFactory() for _ in trange(common_services_number)]\n",
    "    end = time.time()\n",
    "    print(f\"Common services created [time: {end-start}]\\n\")\n",
    "\n",
    "    print(\"Users creating...\")\n",
    "    start = time.time()\n",
    "    for _ in trange(users_number):\n",
    "        k = random.randint(k_common_services_min,k_common_services_max)\n",
    "        accessed_services = random.sample(common_services, k=k)\n",
    "        user = UserFactory(accessed_services=accessed_services)\n",
    "        user.save()\n",
    "    end = time.time()\n",
    "    print(f\"Users created [time: {end-start}]\\n\")"
   ]
  },
  {
   "cell_type": "code",
   "execution_count": 4,
   "id": "widespread-spring",
   "metadata": {},
   "outputs": [
    {
     "name": "stdout",
     "output_type": "stream",
     "text": [
      "No one services creating...\n"
     ]
    },
    {
     "data": {
      "application/vnd.jupyter.widget-view+json": {
       "model_id": "658c080d867045c39552dc7e1f6d7029",
       "version_major": 2,
       "version_minor": 0
      },
      "text/plain": [
       "  0%|          | 0/10 [00:00<?, ?it/s]"
      ]
     },
     "metadata": {},
     "output_type": "display_data"
    },
    {
     "name": "stdout",
     "output_type": "stream",
     "text": [
      "No one services created! [time: 0.22549200057983398]\n",
      "\n",
      "Common services creating...\n"
     ]
    },
    {
     "data": {
      "application/vnd.jupyter.widget-view+json": {
       "model_id": "81c7e1d23f3f48f2ba1b65134a4a6003",
       "version_major": 2,
       "version_minor": 0
      },
      "text/plain": [
       "  0%|          | 0/100 [00:00<?, ?it/s]"
      ]
     },
     "metadata": {},
     "output_type": "display_data"
    },
    {
     "name": "stdout",
     "output_type": "stream",
     "text": [
      "Common services created [time: 2.8066089153289795]\n",
      "\n",
      "Users creating...\n"
     ]
    },
    {
     "data": {
      "application/vnd.jupyter.widget-view+json": {
       "model_id": "bff892459b8a4da8a67f8d24e54f337e",
       "version_major": 2,
       "version_minor": 0
      },
      "text/plain": [
       "  0%|          | 0/100 [00:00<?, ?it/s]"
      ]
     },
     "metadata": {},
     "output_type": "display_data"
    },
    {
     "name": "stdout",
     "output_type": "stream",
     "text": [
      "Users created [time: 1.3817126750946045]\n",
      "\n"
     ]
    }
   ],
   "source": [
    "populate_database(\n",
    "    common_services_number=COMMON_SERVICES_NUMBER,\n",
    "    no_one_services_number=NO_ONE_SERVICES_NUMBER,\n",
    "    users_number=USERS_NUMBER,\n",
    "    k_common_services_min=K_COMMON_SERVICES_MIN,\n",
    "    k_common_services_max=K_COMMON_SERVICES_MAX\n",
    ")"
   ]
  },
  {
   "cell_type": "markdown",
   "id": "verbal-bosnia",
   "metadata": {},
   "source": [
    "##### development database"
   ]
  },
  {
   "cell_type": "markdown",
   "id": "special-israeli",
   "metadata": {},
   "source": [
    "If you want to use development databse make sure that there is at least one user with at least on category/scientific_domain and least one accessed_service"
   ]
  },
  {
   "cell_type": "code",
   "execution_count": 5,
   "id": "worth-snapshot",
   "metadata": {},
   "outputs": [],
   "source": [
    "# disconnect()\n",
    "# connect(host=DevelopmentConfig.MONGODB_HOST)"
   ]
  },
  {
   "cell_type": "markdown",
   "id": "general-exclusion",
   "metadata": {},
   "source": [
    "### Generate raw dataframe dataset from database models"
   ]
  },
  {
   "cell_type": "code",
   "execution_count": 6,
   "id": "editorial-price",
   "metadata": {},
   "outputs": [
    {
     "data": {
      "application/vnd.jupyter.widget-view+json": {
       "model_id": "86990da6d0304fdb9c22a4643559718a",
       "version_major": 2,
       "version_minor": 0
      },
      "text/plain": [
       "  0%|          | 0/100 [00:00<?, ?it/s]"
      ]
     },
     "metadata": {},
     "output_type": "display_data"
    },
    {
     "name": "stdout",
     "output_type": "stream",
     "text": [
      "CPU times: user 40.1 s, sys: 112 ms, total: 40.2 s\n",
      "Wall time: 40.1 s\n"
     ]
    }
   ],
   "source": [
    "%%time\n",
    "raw_dataset = create_raw_dataset()"
   ]
  },
  {
   "cell_type": "code",
   "execution_count": 7,
   "id": "contrary-fluid",
   "metadata": {},
   "outputs": [
    {
     "data": {
      "text/html": [
       "<div>\n",
       "<style scoped>\n",
       "    .dataframe tbody tr th:only-of-type {\n",
       "        vertical-align: middle;\n",
       "    }\n",
       "\n",
       "    .dataframe tbody tr th {\n",
       "        vertical-align: top;\n",
       "    }\n",
       "\n",
       "    .dataframe thead th {\n",
       "        text-align: right;\n",
       "    }\n",
       "</style>\n",
       "<table border=\"1\" class=\"dataframe\">\n",
       "  <thead>\n",
       "    <tr style=\"text-align: right;\">\n",
       "      <th></th>\n",
       "      <th>scientific_domains</th>\n",
       "      <th>categories</th>\n",
       "    </tr>\n",
       "  </thead>\n",
       "  <tbody>\n",
       "    <tr>\n",
       "      <th>0</th>\n",
       "      <td>[Biological Sciences, Climate science, Applied...</td>\n",
       "      <td>[Processing &amp; Analysis, Data management, Stora...</td>\n",
       "    </tr>\n",
       "    <tr>\n",
       "      <th>1</th>\n",
       "      <td>[Biological Sciences, Climate science, Applied...</td>\n",
       "      <td>[Processing &amp; Analysis, Data management, Stora...</td>\n",
       "    </tr>\n",
       "    <tr>\n",
       "      <th>2</th>\n",
       "      <td>[Biological Sciences, Climate science, Applied...</td>\n",
       "      <td>[Processing &amp; Analysis, Data management, Stora...</td>\n",
       "    </tr>\n",
       "    <tr>\n",
       "      <th>3</th>\n",
       "      <td>[Biological Sciences, Climate science, Applied...</td>\n",
       "      <td>[Processing &amp; Analysis, Data management, Stora...</td>\n",
       "    </tr>\n",
       "    <tr>\n",
       "      <th>4</th>\n",
       "      <td>[Biological Sciences, Climate science, Applied...</td>\n",
       "      <td>[Processing &amp; Analysis, Data management, Stora...</td>\n",
       "    </tr>\n",
       "    <tr>\n",
       "      <th>...</th>\n",
       "      <td>...</td>\n",
       "      <td>...</td>\n",
       "    </tr>\n",
       "    <tr>\n",
       "      <th>965</th>\n",
       "      <td>[Humanities, Other Medical Sciences, Medical E...</td>\n",
       "      <td>[Data management, Sharing &amp; Discovery, Storage]</td>\n",
       "    </tr>\n",
       "    <tr>\n",
       "      <th>966</th>\n",
       "      <td>[Humanities, Other Medical Sciences, Medical E...</td>\n",
       "      <td>[Data management, Sharing &amp; Discovery, Storage]</td>\n",
       "    </tr>\n",
       "    <tr>\n",
       "      <th>967</th>\n",
       "      <td>[Humanities, Other Medical Sciences, Medical E...</td>\n",
       "      <td>[Data management, Sharing &amp; Discovery, Storage]</td>\n",
       "    </tr>\n",
       "    <tr>\n",
       "      <th>968</th>\n",
       "      <td>[Humanities, Other Medical Sciences, Medical E...</td>\n",
       "      <td>[Data management, Sharing &amp; Discovery, Storage]</td>\n",
       "    </tr>\n",
       "    <tr>\n",
       "      <th>969</th>\n",
       "      <td>[Humanities, Other Medical Sciences, Medical E...</td>\n",
       "      <td>[Data management, Sharing &amp; Discovery, Storage]</td>\n",
       "    </tr>\n",
       "  </tbody>\n",
       "</table>\n",
       "<p>970 rows × 2 columns</p>\n",
       "</div>"
      ],
      "text/plain": [
       "                                    scientific_domains  \\\n",
       "0    [Biological Sciences, Climate science, Applied...   \n",
       "1    [Biological Sciences, Climate science, Applied...   \n",
       "2    [Biological Sciences, Climate science, Applied...   \n",
       "3    [Biological Sciences, Climate science, Applied...   \n",
       "4    [Biological Sciences, Climate science, Applied...   \n",
       "..                                                 ...   \n",
       "965  [Humanities, Other Medical Sciences, Medical E...   \n",
       "966  [Humanities, Other Medical Sciences, Medical E...   \n",
       "967  [Humanities, Other Medical Sciences, Medical E...   \n",
       "968  [Humanities, Other Medical Sciences, Medical E...   \n",
       "969  [Humanities, Other Medical Sciences, Medical E...   \n",
       "\n",
       "                                            categories  \n",
       "0    [Processing & Analysis, Data management, Stora...  \n",
       "1    [Processing & Analysis, Data management, Stora...  \n",
       "2    [Processing & Analysis, Data management, Stora...  \n",
       "3    [Processing & Analysis, Data management, Stora...  \n",
       "4    [Processing & Analysis, Data management, Stora...  \n",
       "..                                                 ...  \n",
       "965    [Data management, Sharing & Discovery, Storage]  \n",
       "966    [Data management, Sharing & Discovery, Storage]  \n",
       "967    [Data management, Sharing & Discovery, Storage]  \n",
       "968    [Data management, Sharing & Discovery, Storage]  \n",
       "969    [Data management, Sharing & Discovery, Storage]  \n",
       "\n",
       "[970 rows x 2 columns]"
      ]
     },
     "metadata": {},
     "output_type": "display_data"
    },
    {
     "data": {
      "text/html": [
       "<div>\n",
       "<style scoped>\n",
       "    .dataframe tbody tr th:only-of-type {\n",
       "        vertical-align: middle;\n",
       "    }\n",
       "\n",
       "    .dataframe tbody tr th {\n",
       "        vertical-align: top;\n",
       "    }\n",
       "\n",
       "    .dataframe thead th {\n",
       "        text-align: right;\n",
       "    }\n",
       "</style>\n",
       "<table border=\"1\" class=\"dataframe\">\n",
       "  <thead>\n",
       "    <tr style=\"text-align: right;\">\n",
       "      <th></th>\n",
       "      <th>name</th>\n",
       "      <th>description</th>\n",
       "      <th>tagline</th>\n",
       "      <th>countries</th>\n",
       "      <th>categories</th>\n",
       "      <th>providers</th>\n",
       "      <th>resource_organisation</th>\n",
       "      <th>scientific_domains</th>\n",
       "      <th>platforms</th>\n",
       "      <th>target_users</th>\n",
       "      <th>access_modes</th>\n",
       "      <th>access_types</th>\n",
       "      <th>trls</th>\n",
       "      <th>life_cycle_statuses</th>\n",
       "    </tr>\n",
       "  </thead>\n",
       "  <tbody>\n",
       "    <tr>\n",
       "      <th>0</th>\n",
       "      <td>New Particle Formation Event Analysis</td>\n",
       "      <td>The VRE supports new particle formation event ...</td>\n",
       "      <td>[JupyterHub for the EOSC PAN Science Demonstra...</td>\n",
       "      <td>[ST, SC]</td>\n",
       "      <td>[Storage, Data management, Security &amp; Operations]</td>\n",
       "      <td>[Interuniversity consortium CIRMMP, CESGA, all...</td>\n",
       "      <td>Ruder Boškovic Institute</td>\n",
       "      <td>[Sociology, Chemical Engineering, Nanotechnology]</td>\n",
       "      <td>[gCube System, National Infrastructure for Res...</td>\n",
       "      <td>[(Research organisations, None), (Research Man...</td>\n",
       "      <td>[(Free, Users can freely access the Resource p...</td>\n",
       "      <td>[(Physical, Resources require a physical prese...</td>\n",
       "      <td>[(trl-2, Technology concept formulated), (trl-...</td>\n",
       "      <td>[(Beta, Resource being developed while availab...</td>\n",
       "    </tr>\n",
       "    <tr>\n",
       "      <th>1</th>\n",
       "      <td>DisVis</td>\n",
       "      <td>DisVis is a software designed to visualize and...</td>\n",
       "      <td>[SpotOn: determination of Hot-Spots at protein...</td>\n",
       "      <td>[PH, VA, NE]</td>\n",
       "      <td>[Networking, Compute, Processing &amp; Analysis, S...</td>\n",
       "      <td>[University of Oslo (UiO), CYFRONET-LCG2, EGI ...</td>\n",
       "      <td>Sinergise</td>\n",
       "      <td>[Social &amp; Economic Geography, Psychology, Agri...</td>\n",
       "      <td>[INSTRUCT-ERIC, Group on Earth Observation (GE...</td>\n",
       "      <td>[(Research Managers, Someone in an organizatio...</td>\n",
       "      <td>[(Free Conditionally, Users are granted access...</td>\n",
       "      <td>[(Mail-In, Samples are sent in to for e.g. ana...</td>\n",
       "      <td>[(trl-7, System prototype demonstration in ope...</td>\n",
       "      <td>[(Implementation, Resource in deployment), (Co...</td>\n",
       "    </tr>\n",
       "    <tr>\n",
       "      <th>2</th>\n",
       "      <td>WS-PGRADE</td>\n",
       "      <td>The WS-PGRADE Portal (Web Services Parallel Gr...</td>\n",
       "      <td>[Secure and cost-effective cloud computing for...</td>\n",
       "      <td>[CD, MX, KE, QA, MM]</td>\n",
       "      <td>[Sharing &amp; Discovery, Training &amp; Support, Data...</td>\n",
       "      <td>[CLARIN ERIC, D4Science.org infrastructure, BE...</td>\n",
       "      <td>INFN-Catania</td>\n",
       "      <td>[Humanities, Agriculture, Forestry &amp; Fisheries...</td>\n",
       "      <td>[BIOEXCEL, SeaDataCloud]</td>\n",
       "      <td>[(Research Groups, A research group is a group...</td>\n",
       "      <td>[(Paid, Users need to pay a fee to access the ...</td>\n",
       "      <td>[(Physical, Resources require a physical prese...</td>\n",
       "      <td>[(trl-8, System complete and qualified), (trl-...</td>\n",
       "      <td>[(Other, None), (Operation, Resource offered),...</td>\n",
       "    </tr>\n",
       "    <tr>\n",
       "      <th>3</th>\n",
       "      <td>EGI Archive storage</td>\n",
       "      <td>Archive Storage allows you to store large amou...</td>\n",
       "      <td>[Distribute and store large volumes of data ba...</td>\n",
       "      <td>[IS, BT, NA]</td>\n",
       "      <td>[Compute, Sharing &amp; Discovery, Compute, Data m...</td>\n",
       "      <td>[JSC, Interuniversity consortium CIRMMP, Itali...</td>\n",
       "      <td>INFN-Catania</td>\n",
       "      <td>[Other, Social sciences]</td>\n",
       "      <td>[Open Geospatial Consortium, EOSC-hub project,...</td>\n",
       "      <td>[(Research managers, None), (Provider Managers...</td>\n",
       "      <td>[(Peer Reviewed, Users are selected based on s...</td>\n",
       "      <td>[(Remote, Resources are delivered remotely wit...</td>\n",
       "      <td>[(trl-3, Experimental proof of concept), (trl-...</td>\n",
       "      <td>[(Discovery, Researching users needs, explorin...</td>\n",
       "    </tr>\n",
       "    <tr>\n",
       "      <th>4</th>\n",
       "      <td>EGI Check-in</td>\n",
       "      <td>Check-in is a proxy service that operates as a...</td>\n",
       "      <td>[Multi-disciplinary discovery, access, and use...</td>\n",
       "      <td>[PS, LA, IN]</td>\n",
       "      <td>[Data management, Security &amp; Operations, Netwo...</td>\n",
       "      <td>[Italian National Institute of Nuclear Physics...</td>\n",
       "      <td>Terradue Srl</td>\n",
       "      <td>[Political sciences, Electrical, electronic an...</td>\n",
       "      <td>[EC3 Portal, Europeana, Global Earth Observati...</td>\n",
       "      <td>[(Resource Managers, Resource Managers are typ...</td>\n",
       "      <td>[(Free Conditionally, Users are granted access...</td>\n",
       "      <td>[(Physical, Resources require a physical prese...</td>\n",
       "      <td>[(trl-4, Technology validated in lab), (trl-2,...</td>\n",
       "      <td>[(Discovery, Researching users needs, explorin...</td>\n",
       "    </tr>\n",
       "    <tr>\n",
       "      <th>...</th>\n",
       "      <td>...</td>\n",
       "      <td>...</td>\n",
       "      <td>...</td>\n",
       "      <td>...</td>\n",
       "      <td>...</td>\n",
       "      <td>...</td>\n",
       "      <td>...</td>\n",
       "      <td>...</td>\n",
       "      <td>...</td>\n",
       "      <td>...</td>\n",
       "      <td>...</td>\n",
       "      <td>...</td>\n",
       "      <td>...</td>\n",
       "      <td>...</td>\n",
       "    </tr>\n",
       "    <tr>\n",
       "      <th>965</th>\n",
       "      <td>Elastic Cloud Compute Cluster (EC3)</td>\n",
       "      <td>The Elastic Cloud Computing Cluster (EC3) is a...</td>\n",
       "      <td>[Dedicated computing and storage for training ...</td>\n",
       "      <td>[SO, NE, SO]</td>\n",
       "      <td>[Processing &amp; Analysis, Security &amp; Operations,...</td>\n",
       "      <td>[RUG, PSNC]</td>\n",
       "      <td>CloudFerro</td>\n",
       "      <td>[Natural Sciences, Environmental engineering]</td>\n",
       "      <td>[Copernicus, EC3 Portal, EUDAT, EGI Applicatio...</td>\n",
       "      <td>[(Resource Managers, Resource Managers are typ...</td>\n",
       "      <td>[(Free, Users can freely access the Resource p...</td>\n",
       "      <td>[(Physical, Resources require a physical prese...</td>\n",
       "      <td>[(trl-8, System complete and qualified), (trl-...</td>\n",
       "      <td>[(Discovery, Researching users needs, explorin...</td>\n",
       "    </tr>\n",
       "    <tr>\n",
       "      <th>966</th>\n",
       "      <td>EGI Cloud container compute BETA</td>\n",
       "      <td>With Cloud Container Compute you can deploy an...</td>\n",
       "      <td>[Services for sensitive data]</td>\n",
       "      <td>[MY, LA]</td>\n",
       "      <td>[Data management, Processing &amp; Analysis, Shari...</td>\n",
       "      <td>[INFN-Catania, CESGA, SmartSMEAR]</td>\n",
       "      <td>RASDAMAN</td>\n",
       "      <td>[Educational Sciences, Physical science (earth...</td>\n",
       "      <td>[SeaDataCloud, European Space Agency (ESA), IN...</td>\n",
       "      <td>[(Research Communities, Research communities p...</td>\n",
       "      <td>[(Paid, Users need to pay a fee to access the ...</td>\n",
       "      <td>[(Other, None), (Mail-In, Samples are sent in ...</td>\n",
       "      <td>[(trl-1, Basic principles observed), (trl-5, T...</td>\n",
       "      <td>[(In containment, Resource active, but general...</td>\n",
       "    </tr>\n",
       "    <tr>\n",
       "      <th>967</th>\n",
       "      <td>FitSM</td>\n",
       "      <td>FitSM is a lightweight standards family aimed ...</td>\n",
       "      <td>[Visualizes and quantify the information conte...</td>\n",
       "      <td>[NG, PH, MY, CV, CL]</td>\n",
       "      <td>[Security &amp; Operations, Training &amp; Support, Sh...</td>\n",
       "      <td>[EGI Federation, Euro-Mediterranean Center on ...</td>\n",
       "      <td>Italian National Institute of Nuclear Physics ...</td>\n",
       "      <td>[Life sciences, Social &amp; Economic Geography, O...</td>\n",
       "      <td>[EGI Applications on Demand, EOSC-hub project,...</td>\n",
       "      <td>[(Research Groups, A research group is a group...</td>\n",
       "      <td>[(Peer Reviewed, Users are selected based on s...</td>\n",
       "      <td>[(Mail-In, Samples are sent in to for e.g. ana...</td>\n",
       "      <td>[(trl-3, Experimental proof of concept), (trl-...</td>\n",
       "      <td>[(Planned, Resource plan defined), (Implementa...</td>\n",
       "    </tr>\n",
       "    <tr>\n",
       "      <th>968</th>\n",
       "      <td>CloudFerro Data Collections Catalog</td>\n",
       "      <td>The Catalogue is be based on CKAN open source ...</td>\n",
       "      <td>[AAI platform for federated authentication to ...</td>\n",
       "      <td>[CR, JP, RU]</td>\n",
       "      <td>[Networking, Compute, Networking, Processing &amp;...</td>\n",
       "      <td>[CYFRONET-LCG2, RUG, D4Science.org infrastruct...</td>\n",
       "      <td>INFN-Catania</td>\n",
       "      <td>[Social sciences, Agricultural Sciences]</td>\n",
       "      <td>[IS-ENES, Europeana]</td>\n",
       "      <td>[(Research networks, None), (Policy Makers, In...</td>\n",
       "      <td>[(Free Conditionally, Users are granted access...</td>\n",
       "      <td>[(Mail-In, Samples are sent in to for e.g. ana...</td>\n",
       "      <td>[(trl-6, Technology demonstrated in relevant e...</td>\n",
       "      <td>[(Discovery, Researching users needs, explorin...</td>\n",
       "    </tr>\n",
       "    <tr>\n",
       "      <th>969</th>\n",
       "      <td>PaN data</td>\n",
       "      <td>Data backend storage service for EOSC PAN note...</td>\n",
       "      <td>[Dedicated computing and storage for training ...</td>\n",
       "      <td>[SK, PT, MR, BG]</td>\n",
       "      <td>[Sharing &amp; Discovery, Storage, Training &amp; Supp...</td>\n",
       "      <td>[GRNET, SmartSMEAR, GRNET]</td>\n",
       "      <td>BEgrid-ULV-VUB</td>\n",
       "      <td>[History &amp; Archaeology, Environmental Engineer...</td>\n",
       "      <td>[D4Science, IS-ENES, EOSC-hub project, WeNMR S...</td>\n",
       "      <td>[(Research networks, None), (Businesses, An or...</td>\n",
       "      <td>[(Free Conditionally, Users are granted access...</td>\n",
       "      <td>[(Other, None), (Other, None), (Physical, Reso...</td>\n",
       "      <td>[(trl-6, Technology demonstrated in relevant e...</td>\n",
       "      <td>[(Termination, Resource dissolution, dismantli...</td>\n",
       "    </tr>\n",
       "  </tbody>\n",
       "</table>\n",
       "<p>970 rows × 14 columns</p>\n",
       "</div>"
      ],
      "text/plain": [
       "                                      name  \\\n",
       "0    New Particle Formation Event Analysis   \n",
       "1                                   DisVis   \n",
       "2                                WS-PGRADE   \n",
       "3                      EGI Archive storage   \n",
       "4                             EGI Check-in   \n",
       "..                                     ...   \n",
       "965    Elastic Cloud Compute Cluster (EC3)   \n",
       "966       EGI Cloud container compute BETA   \n",
       "967                                  FitSM   \n",
       "968    CloudFerro Data Collections Catalog   \n",
       "969                               PaN data   \n",
       "\n",
       "                                           description  \\\n",
       "0    The VRE supports new particle formation event ...   \n",
       "1    DisVis is a software designed to visualize and...   \n",
       "2    The WS-PGRADE Portal (Web Services Parallel Gr...   \n",
       "3    Archive Storage allows you to store large amou...   \n",
       "4    Check-in is a proxy service that operates as a...   \n",
       "..                                                 ...   \n",
       "965  The Elastic Cloud Computing Cluster (EC3) is a...   \n",
       "966  With Cloud Container Compute you can deploy an...   \n",
       "967  FitSM is a lightweight standards family aimed ...   \n",
       "968  The Catalogue is be based on CKAN open source ...   \n",
       "969  Data backend storage service for EOSC PAN note...   \n",
       "\n",
       "                                               tagline             countries  \\\n",
       "0    [JupyterHub for the EOSC PAN Science Demonstra...              [ST, SC]   \n",
       "1    [SpotOn: determination of Hot-Spots at protein...          [PH, VA, NE]   \n",
       "2    [Secure and cost-effective cloud computing for...  [CD, MX, KE, QA, MM]   \n",
       "3    [Distribute and store large volumes of data ba...          [IS, BT, NA]   \n",
       "4    [Multi-disciplinary discovery, access, and use...          [PS, LA, IN]   \n",
       "..                                                 ...                   ...   \n",
       "965  [Dedicated computing and storage for training ...          [SO, NE, SO]   \n",
       "966                      [Services for sensitive data]              [MY, LA]   \n",
       "967  [Visualizes and quantify the information conte...  [NG, PH, MY, CV, CL]   \n",
       "968  [AAI platform for federated authentication to ...          [CR, JP, RU]   \n",
       "969  [Dedicated computing and storage for training ...      [SK, PT, MR, BG]   \n",
       "\n",
       "                                            categories  \\\n",
       "0    [Storage, Data management, Security & Operations]   \n",
       "1    [Networking, Compute, Processing & Analysis, S...   \n",
       "2    [Sharing & Discovery, Training & Support, Data...   \n",
       "3    [Compute, Sharing & Discovery, Compute, Data m...   \n",
       "4    [Data management, Security & Operations, Netwo...   \n",
       "..                                                 ...   \n",
       "965  [Processing & Analysis, Security & Operations,...   \n",
       "966  [Data management, Processing & Analysis, Shari...   \n",
       "967  [Security & Operations, Training & Support, Sh...   \n",
       "968  [Networking, Compute, Networking, Processing &...   \n",
       "969  [Sharing & Discovery, Storage, Training & Supp...   \n",
       "\n",
       "                                             providers  \\\n",
       "0    [Interuniversity consortium CIRMMP, CESGA, all...   \n",
       "1    [University of Oslo (UiO), CYFRONET-LCG2, EGI ...   \n",
       "2    [CLARIN ERIC, D4Science.org infrastructure, BE...   \n",
       "3    [JSC, Interuniversity consortium CIRMMP, Itali...   \n",
       "4    [Italian National Institute of Nuclear Physics...   \n",
       "..                                                 ...   \n",
       "965                                        [RUG, PSNC]   \n",
       "966                  [INFN-Catania, CESGA, SmartSMEAR]   \n",
       "967  [EGI Federation, Euro-Mediterranean Center on ...   \n",
       "968  [CYFRONET-LCG2, RUG, D4Science.org infrastruct...   \n",
       "969                         [GRNET, SmartSMEAR, GRNET]   \n",
       "\n",
       "                                 resource_organisation  \\\n",
       "0                             Ruder Boškovic Institute   \n",
       "1                                            Sinergise   \n",
       "2                                         INFN-Catania   \n",
       "3                                         INFN-Catania   \n",
       "4                                         Terradue Srl   \n",
       "..                                                 ...   \n",
       "965                                         CloudFerro   \n",
       "966                                           RASDAMAN   \n",
       "967  Italian National Institute of Nuclear Physics ...   \n",
       "968                                       INFN-Catania   \n",
       "969                                     BEgrid-ULV-VUB   \n",
       "\n",
       "                                    scientific_domains  \\\n",
       "0    [Sociology, Chemical Engineering, Nanotechnology]   \n",
       "1    [Social & Economic Geography, Psychology, Agri...   \n",
       "2    [Humanities, Agriculture, Forestry & Fisheries...   \n",
       "3                             [Other, Social sciences]   \n",
       "4    [Political sciences, Electrical, electronic an...   \n",
       "..                                                 ...   \n",
       "965      [Natural Sciences, Environmental engineering]   \n",
       "966  [Educational Sciences, Physical science (earth...   \n",
       "967  [Life sciences, Social & Economic Geography, O...   \n",
       "968           [Social sciences, Agricultural Sciences]   \n",
       "969  [History & Archaeology, Environmental Engineer...   \n",
       "\n",
       "                                             platforms  \\\n",
       "0    [gCube System, National Infrastructure for Res...   \n",
       "1    [INSTRUCT-ERIC, Group on Earth Observation (GE...   \n",
       "2                             [BIOEXCEL, SeaDataCloud]   \n",
       "3    [Open Geospatial Consortium, EOSC-hub project,...   \n",
       "4    [EC3 Portal, Europeana, Global Earth Observati...   \n",
       "..                                                 ...   \n",
       "965  [Copernicus, EC3 Portal, EUDAT, EGI Applicatio...   \n",
       "966  [SeaDataCloud, European Space Agency (ESA), IN...   \n",
       "967  [EGI Applications on Demand, EOSC-hub project,...   \n",
       "968                               [IS-ENES, Europeana]   \n",
       "969  [D4Science, IS-ENES, EOSC-hub project, WeNMR S...   \n",
       "\n",
       "                                          target_users  \\\n",
       "0    [(Research organisations, None), (Research Man...   \n",
       "1    [(Research Managers, Someone in an organizatio...   \n",
       "2    [(Research Groups, A research group is a group...   \n",
       "3    [(Research managers, None), (Provider Managers...   \n",
       "4    [(Resource Managers, Resource Managers are typ...   \n",
       "..                                                 ...   \n",
       "965  [(Resource Managers, Resource Managers are typ...   \n",
       "966  [(Research Communities, Research communities p...   \n",
       "967  [(Research Groups, A research group is a group...   \n",
       "968  [(Research networks, None), (Policy Makers, In...   \n",
       "969  [(Research networks, None), (Businesses, An or...   \n",
       "\n",
       "                                          access_modes  \\\n",
       "0    [(Free, Users can freely access the Resource p...   \n",
       "1    [(Free Conditionally, Users are granted access...   \n",
       "2    [(Paid, Users need to pay a fee to access the ...   \n",
       "3    [(Peer Reviewed, Users are selected based on s...   \n",
       "4    [(Free Conditionally, Users are granted access...   \n",
       "..                                                 ...   \n",
       "965  [(Free, Users can freely access the Resource p...   \n",
       "966  [(Paid, Users need to pay a fee to access the ...   \n",
       "967  [(Peer Reviewed, Users are selected based on s...   \n",
       "968  [(Free Conditionally, Users are granted access...   \n",
       "969  [(Free Conditionally, Users are granted access...   \n",
       "\n",
       "                                          access_types  \\\n",
       "0    [(Physical, Resources require a physical prese...   \n",
       "1    [(Mail-In, Samples are sent in to for e.g. ana...   \n",
       "2    [(Physical, Resources require a physical prese...   \n",
       "3    [(Remote, Resources are delivered remotely wit...   \n",
       "4    [(Physical, Resources require a physical prese...   \n",
       "..                                                 ...   \n",
       "965  [(Physical, Resources require a physical prese...   \n",
       "966  [(Other, None), (Mail-In, Samples are sent in ...   \n",
       "967  [(Mail-In, Samples are sent in to for e.g. ana...   \n",
       "968  [(Mail-In, Samples are sent in to for e.g. ana...   \n",
       "969  [(Other, None), (Other, None), (Physical, Reso...   \n",
       "\n",
       "                                                  trls  \\\n",
       "0    [(trl-2, Technology concept formulated), (trl-...   \n",
       "1    [(trl-7, System prototype demonstration in ope...   \n",
       "2    [(trl-8, System complete and qualified), (trl-...   \n",
       "3    [(trl-3, Experimental proof of concept), (trl-...   \n",
       "4    [(trl-4, Technology validated in lab), (trl-2,...   \n",
       "..                                                 ...   \n",
       "965  [(trl-8, System complete and qualified), (trl-...   \n",
       "966  [(trl-1, Basic principles observed), (trl-5, T...   \n",
       "967  [(trl-3, Experimental proof of concept), (trl-...   \n",
       "968  [(trl-6, Technology demonstrated in relevant e...   \n",
       "969  [(trl-6, Technology demonstrated in relevant e...   \n",
       "\n",
       "                                   life_cycle_statuses  \n",
       "0    [(Beta, Resource being developed while availab...  \n",
       "1    [(Implementation, Resource in deployment), (Co...  \n",
       "2    [(Other, None), (Operation, Resource offered),...  \n",
       "3    [(Discovery, Researching users needs, explorin...  \n",
       "4    [(Discovery, Researching users needs, explorin...  \n",
       "..                                                 ...  \n",
       "965  [(Discovery, Researching users needs, explorin...  \n",
       "966  [(In containment, Resource active, but general...  \n",
       "967  [(Planned, Resource plan defined), (Implementa...  \n",
       "968  [(Discovery, Researching users needs, explorin...  \n",
       "969  [(Termination, Resource dissolution, dismantli...  \n",
       "\n",
       "[970 rows x 14 columns]"
      ]
     },
     "metadata": {},
     "output_type": "display_data"
    },
    {
     "data": {
      "text/html": [
       "<div>\n",
       "<style scoped>\n",
       "    .dataframe tbody tr th:only-of-type {\n",
       "        vertical-align: middle;\n",
       "    }\n",
       "\n",
       "    .dataframe tbody tr th {\n",
       "        vertical-align: top;\n",
       "    }\n",
       "\n",
       "    .dataframe thead th {\n",
       "        text-align: right;\n",
       "    }\n",
       "</style>\n",
       "<table border=\"1\" class=\"dataframe\">\n",
       "  <thead>\n",
       "    <tr style=\"text-align: right;\">\n",
       "      <th></th>\n",
       "      <th>ordered</th>\n",
       "    </tr>\n",
       "  </thead>\n",
       "  <tbody>\n",
       "    <tr>\n",
       "      <th>0</th>\n",
       "      <td>True</td>\n",
       "    </tr>\n",
       "    <tr>\n",
       "      <th>1</th>\n",
       "      <td>True</td>\n",
       "    </tr>\n",
       "    <tr>\n",
       "      <th>2</th>\n",
       "      <td>True</td>\n",
       "    </tr>\n",
       "    <tr>\n",
       "      <th>3</th>\n",
       "      <td>True</td>\n",
       "    </tr>\n",
       "    <tr>\n",
       "      <th>4</th>\n",
       "      <td>True</td>\n",
       "    </tr>\n",
       "    <tr>\n",
       "      <th>...</th>\n",
       "      <td>...</td>\n",
       "    </tr>\n",
       "    <tr>\n",
       "      <th>965</th>\n",
       "      <td>True</td>\n",
       "    </tr>\n",
       "    <tr>\n",
       "      <th>966</th>\n",
       "      <td>True</td>\n",
       "    </tr>\n",
       "    <tr>\n",
       "      <th>967</th>\n",
       "      <td>False</td>\n",
       "    </tr>\n",
       "    <tr>\n",
       "      <th>968</th>\n",
       "      <td>False</td>\n",
       "    </tr>\n",
       "    <tr>\n",
       "      <th>969</th>\n",
       "      <td>False</td>\n",
       "    </tr>\n",
       "  </tbody>\n",
       "</table>\n",
       "<p>970 rows × 1 columns</p>\n",
       "</div>"
      ],
      "text/plain": [
       "     ordered\n",
       "0       True\n",
       "1       True\n",
       "2       True\n",
       "3       True\n",
       "4       True\n",
       "..       ...\n",
       "965     True\n",
       "966     True\n",
       "967    False\n",
       "968    False\n",
       "969    False\n",
       "\n",
       "[970 rows x 1 columns]"
      ]
     },
     "metadata": {},
     "output_type": "display_data"
    }
   ],
   "source": [
    "display(raw_dataset[USERS])\n",
    "display(raw_dataset[SERVICES])\n",
    "display(raw_dataset[LABELS])"
   ]
  },
  {
   "cell_type": "markdown",
   "id": "basic-bosnia",
   "metadata": {},
   "source": [
    "### Transform dataframe dataset into tensors"
   ]
  },
  {
   "cell_type": "code",
   "execution_count": 8,
   "id": "practical-station",
   "metadata": {},
   "outputs": [
    {
     "name": "stdout",
     "output_type": "stream",
     "text": [
      "CPU times: user 1.79 s, sys: 11.9 ms, total: 1.8 s\n",
      "Wall time: 1.78 s\n"
     ]
    }
   ],
   "source": [
    "%%time\n",
    "tensors, transformers = raw_dataset_to_tensors(raw_dataset)"
   ]
  },
  {
   "cell_type": "code",
   "execution_count": 9,
   "id": "automotive-drove",
   "metadata": {},
   "outputs": [
    {
     "data": {
      "text/plain": [
       "tensor([[0., 0., 0.,  ..., 0., 1., 0.],\n",
       "        [0., 0., 0.,  ..., 0., 1., 0.],\n",
       "        [0., 0., 0.,  ..., 0., 1., 0.],\n",
       "        ...,\n",
       "        [0., 0., 0.,  ..., 1., 1., 0.],\n",
       "        [0., 0., 0.,  ..., 1., 1., 0.],\n",
       "        [0., 0., 0.,  ..., 1., 1., 0.]])"
      ]
     },
     "metadata": {},
     "output_type": "display_data"
    },
    {
     "data": {
      "text/plain": [
       "tensor([[0., 0., 0.,  ..., 0., 0., 0.],\n",
       "        [0., 0., 0.,  ..., 0., 0., 0.],\n",
       "        [0., 0., 0.,  ..., 0., 0., 0.],\n",
       "        ...,\n",
       "        [0., 0., 0.,  ..., 0., 1., 0.],\n",
       "        [0., 0., 0.,  ..., 0., 1., 0.],\n",
       "        [0., 0., 0.,  ..., 0., 0., 1.]])"
      ]
     },
     "metadata": {},
     "output_type": "display_data"
    },
    {
     "data": {
      "text/plain": [
       "tensor([[1.],\n",
       "        [1.],\n",
       "        [1.],\n",
       "        [1.],\n",
       "        [1.],\n",
       "        [1.],\n",
       "        [1.],\n",
       "        [0.],\n",
       "        [0.],\n",
       "        [0.],\n",
       "        [0.],\n",
       "        [0.],\n",
       "        [0.],\n",
       "        [0.],\n",
       "        [1.],\n",
       "        [1.],\n",
       "        [1.],\n",
       "        [1.],\n",
       "        [1.],\n",
       "        [1.],\n",
       "        [0.],\n",
       "        [0.],\n",
       "        [0.],\n",
       "        [0.],\n",
       "        [0.],\n",
       "        [0.],\n",
       "        [1.],\n",
       "        [1.],\n",
       "        [1.],\n",
       "        [1.],\n",
       "        [1.],\n",
       "        [1.],\n",
       "        [1.],\n",
       "        [0.],\n",
       "        [0.],\n",
       "        [0.],\n",
       "        [0.],\n",
       "        [0.],\n",
       "        [0.],\n",
       "        [0.],\n",
       "        [1.],\n",
       "        [1.],\n",
       "        [1.],\n",
       "        [1.],\n",
       "        [1.],\n",
       "        [1.],\n",
       "        [0.],\n",
       "        [0.],\n",
       "        [0.],\n",
       "        [0.],\n",
       "        [0.],\n",
       "        [0.],\n",
       "        [1.],\n",
       "        [1.],\n",
       "        [1.],\n",
       "        [1.],\n",
       "        [1.],\n",
       "        [1.],\n",
       "        [1.],\n",
       "        [0.],\n",
       "        [0.],\n",
       "        [0.],\n",
       "        [0.],\n",
       "        [0.],\n",
       "        [0.],\n",
       "        [0.],\n",
       "        [1.],\n",
       "        [1.],\n",
       "        [1.],\n",
       "        [0.],\n",
       "        [0.],\n",
       "        [0.],\n",
       "        [1.],\n",
       "        [1.],\n",
       "        [1.],\n",
       "        [1.],\n",
       "        [0.],\n",
       "        [0.],\n",
       "        [0.],\n",
       "        [0.],\n",
       "        [1.],\n",
       "        [1.],\n",
       "        [1.],\n",
       "        [0.],\n",
       "        [0.],\n",
       "        [0.],\n",
       "        [1.],\n",
       "        [1.],\n",
       "        [1.],\n",
       "        [0.],\n",
       "        [0.],\n",
       "        [0.],\n",
       "        [1.],\n",
       "        [1.],\n",
       "        [1.],\n",
       "        [0.],\n",
       "        [0.],\n",
       "        [0.],\n",
       "        [1.],\n",
       "        [1.],\n",
       "        [1.],\n",
       "        [0.],\n",
       "        [0.],\n",
       "        [0.],\n",
       "        [1.],\n",
       "        [1.],\n",
       "        [1.],\n",
       "        [1.],\n",
       "        [1.],\n",
       "        [1.],\n",
       "        [0.],\n",
       "        [0.],\n",
       "        [0.],\n",
       "        [0.],\n",
       "        [0.],\n",
       "        [0.],\n",
       "        [1.],\n",
       "        [1.],\n",
       "        [1.],\n",
       "        [1.],\n",
       "        [1.],\n",
       "        [1.],\n",
       "        [0.],\n",
       "        [0.],\n",
       "        [0.],\n",
       "        [0.],\n",
       "        [0.],\n",
       "        [0.],\n",
       "        [1.],\n",
       "        [1.],\n",
       "        [1.],\n",
       "        [1.],\n",
       "        [0.],\n",
       "        [0.],\n",
       "        [0.],\n",
       "        [0.],\n",
       "        [1.],\n",
       "        [1.],\n",
       "        [1.],\n",
       "        [1.],\n",
       "        [1.],\n",
       "        [0.],\n",
       "        [0.],\n",
       "        [0.],\n",
       "        [0.],\n",
       "        [0.],\n",
       "        [1.],\n",
       "        [1.],\n",
       "        [1.],\n",
       "        [1.],\n",
       "        [0.],\n",
       "        [0.],\n",
       "        [0.],\n",
       "        [0.],\n",
       "        [1.],\n",
       "        [1.],\n",
       "        [1.],\n",
       "        [1.],\n",
       "        [1.],\n",
       "        [0.],\n",
       "        [0.],\n",
       "        [0.],\n",
       "        [0.],\n",
       "        [0.],\n",
       "        [1.],\n",
       "        [1.],\n",
       "        [1.],\n",
       "        [0.],\n",
       "        [0.],\n",
       "        [0.],\n",
       "        [1.],\n",
       "        [1.],\n",
       "        [1.],\n",
       "        [1.],\n",
       "        [1.],\n",
       "        [1.],\n",
       "        [1.],\n",
       "        [0.],\n",
       "        [0.],\n",
       "        [0.],\n",
       "        [0.],\n",
       "        [0.],\n",
       "        [0.],\n",
       "        [0.],\n",
       "        [1.],\n",
       "        [1.],\n",
       "        [1.],\n",
       "        [1.],\n",
       "        [1.],\n",
       "        [0.],\n",
       "        [0.],\n",
       "        [0.],\n",
       "        [0.],\n",
       "        [0.],\n",
       "        [1.],\n",
       "        [1.],\n",
       "        [1.],\n",
       "        [0.],\n",
       "        [0.],\n",
       "        [0.],\n",
       "        [1.],\n",
       "        [1.],\n",
       "        [1.],\n",
       "        [1.],\n",
       "        [1.],\n",
       "        [1.],\n",
       "        [0.],\n",
       "        [0.],\n",
       "        [0.],\n",
       "        [0.],\n",
       "        [0.],\n",
       "        [0.],\n",
       "        [1.],\n",
       "        [1.],\n",
       "        [1.],\n",
       "        [0.],\n",
       "        [0.],\n",
       "        [0.],\n",
       "        [1.],\n",
       "        [1.],\n",
       "        [1.],\n",
       "        [1.],\n",
       "        [0.],\n",
       "        [0.],\n",
       "        [0.],\n",
       "        [0.],\n",
       "        [1.],\n",
       "        [1.],\n",
       "        [1.],\n",
       "        [0.],\n",
       "        [0.],\n",
       "        [0.],\n",
       "        [1.],\n",
       "        [1.],\n",
       "        [1.],\n",
       "        [1.],\n",
       "        [1.],\n",
       "        [1.],\n",
       "        [0.],\n",
       "        [0.],\n",
       "        [0.],\n",
       "        [0.],\n",
       "        [0.],\n",
       "        [0.],\n",
       "        [1.],\n",
       "        [1.],\n",
       "        [1.],\n",
       "        [1.],\n",
       "        [1.],\n",
       "        [0.],\n",
       "        [0.],\n",
       "        [0.],\n",
       "        [0.],\n",
       "        [0.],\n",
       "        [1.],\n",
       "        [1.],\n",
       "        [1.],\n",
       "        [0.],\n",
       "        [0.],\n",
       "        [0.],\n",
       "        [1.],\n",
       "        [1.],\n",
       "        [1.],\n",
       "        [1.],\n",
       "        [0.],\n",
       "        [0.],\n",
       "        [0.],\n",
       "        [0.],\n",
       "        [1.],\n",
       "        [1.],\n",
       "        [1.],\n",
       "        [1.],\n",
       "        [1.],\n",
       "        [1.],\n",
       "        [1.],\n",
       "        [0.],\n",
       "        [0.],\n",
       "        [0.],\n",
       "        [0.],\n",
       "        [0.],\n",
       "        [0.],\n",
       "        [0.],\n",
       "        [1.],\n",
       "        [1.],\n",
       "        [1.],\n",
       "        [1.],\n",
       "        [1.],\n",
       "        [1.],\n",
       "        [0.],\n",
       "        [0.],\n",
       "        [0.],\n",
       "        [0.],\n",
       "        [0.],\n",
       "        [0.],\n",
       "        [1.],\n",
       "        [1.],\n",
       "        [1.],\n",
       "        [1.],\n",
       "        [1.],\n",
       "        [1.],\n",
       "        [0.],\n",
       "        [0.],\n",
       "        [0.],\n",
       "        [0.],\n",
       "        [0.],\n",
       "        [0.],\n",
       "        [1.],\n",
       "        [1.],\n",
       "        [1.],\n",
       "        [1.],\n",
       "        [1.],\n",
       "        [1.],\n",
       "        [1.],\n",
       "        [0.],\n",
       "        [0.],\n",
       "        [0.],\n",
       "        [0.],\n",
       "        [0.],\n",
       "        [0.],\n",
       "        [0.],\n",
       "        [1.],\n",
       "        [1.],\n",
       "        [1.],\n",
       "        [1.],\n",
       "        [1.],\n",
       "        [1.],\n",
       "        [0.],\n",
       "        [0.],\n",
       "        [0.],\n",
       "        [0.],\n",
       "        [0.],\n",
       "        [0.],\n",
       "        [1.],\n",
       "        [1.],\n",
       "        [1.],\n",
       "        [1.],\n",
       "        [0.],\n",
       "        [0.],\n",
       "        [0.],\n",
       "        [0.],\n",
       "        [1.],\n",
       "        [1.],\n",
       "        [1.],\n",
       "        [1.],\n",
       "        [1.],\n",
       "        [0.],\n",
       "        [0.],\n",
       "        [0.],\n",
       "        [0.],\n",
       "        [0.],\n",
       "        [1.],\n",
       "        [1.],\n",
       "        [1.],\n",
       "        [1.],\n",
       "        [0.],\n",
       "        [0.],\n",
       "        [0.],\n",
       "        [0.],\n",
       "        [1.],\n",
       "        [1.],\n",
       "        [1.],\n",
       "        [1.],\n",
       "        [1.],\n",
       "        [0.],\n",
       "        [0.],\n",
       "        [0.],\n",
       "        [0.],\n",
       "        [0.],\n",
       "        [1.],\n",
       "        [1.],\n",
       "        [1.],\n",
       "        [1.],\n",
       "        [0.],\n",
       "        [0.],\n",
       "        [0.],\n",
       "        [0.],\n",
       "        [1.],\n",
       "        [1.],\n",
       "        [1.],\n",
       "        [1.],\n",
       "        [1.],\n",
       "        [0.],\n",
       "        [0.],\n",
       "        [0.],\n",
       "        [0.],\n",
       "        [0.],\n",
       "        [1.],\n",
       "        [1.],\n",
       "        [1.],\n",
       "        [1.],\n",
       "        [0.],\n",
       "        [0.],\n",
       "        [0.],\n",
       "        [0.],\n",
       "        [1.],\n",
       "        [1.],\n",
       "        [1.],\n",
       "        [1.],\n",
       "        [1.],\n",
       "        [0.],\n",
       "        [0.],\n",
       "        [0.],\n",
       "        [0.],\n",
       "        [0.],\n",
       "        [1.],\n",
       "        [1.],\n",
       "        [1.],\n",
       "        [1.],\n",
       "        [0.],\n",
       "        [0.],\n",
       "        [0.],\n",
       "        [0.],\n",
       "        [1.],\n",
       "        [1.],\n",
       "        [1.],\n",
       "        [1.],\n",
       "        [1.],\n",
       "        [0.],\n",
       "        [0.],\n",
       "        [0.],\n",
       "        [0.],\n",
       "        [0.],\n",
       "        [1.],\n",
       "        [1.],\n",
       "        [1.],\n",
       "        [0.],\n",
       "        [0.],\n",
       "        [0.],\n",
       "        [1.],\n",
       "        [1.],\n",
       "        [1.],\n",
       "        [1.],\n",
       "        [0.],\n",
       "        [0.],\n",
       "        [0.],\n",
       "        [0.],\n",
       "        [1.],\n",
       "        [1.],\n",
       "        [1.],\n",
       "        [1.],\n",
       "        [1.],\n",
       "        [1.],\n",
       "        [0.],\n",
       "        [0.],\n",
       "        [0.],\n",
       "        [0.],\n",
       "        [0.],\n",
       "        [0.],\n",
       "        [1.],\n",
       "        [1.],\n",
       "        [1.],\n",
       "        [0.],\n",
       "        [0.],\n",
       "        [0.],\n",
       "        [1.],\n",
       "        [1.],\n",
       "        [1.],\n",
       "        [0.],\n",
       "        [0.],\n",
       "        [0.],\n",
       "        [1.],\n",
       "        [1.],\n",
       "        [1.],\n",
       "        [1.],\n",
       "        [1.],\n",
       "        [1.],\n",
       "        [1.],\n",
       "        [0.],\n",
       "        [0.],\n",
       "        [0.],\n",
       "        [0.],\n",
       "        [0.],\n",
       "        [0.],\n",
       "        [0.],\n",
       "        [1.],\n",
       "        [1.],\n",
       "        [1.],\n",
       "        [1.],\n",
       "        [1.],\n",
       "        [1.],\n",
       "        [0.],\n",
       "        [0.],\n",
       "        [0.],\n",
       "        [0.],\n",
       "        [0.],\n",
       "        [0.],\n",
       "        [1.],\n",
       "        [1.],\n",
       "        [1.],\n",
       "        [1.],\n",
       "        [0.],\n",
       "        [0.],\n",
       "        [0.],\n",
       "        [0.],\n",
       "        [1.],\n",
       "        [1.],\n",
       "        [1.],\n",
       "        [1.],\n",
       "        [1.],\n",
       "        [0.],\n",
       "        [0.],\n",
       "        [0.],\n",
       "        [0.],\n",
       "        [0.],\n",
       "        [1.],\n",
       "        [1.],\n",
       "        [1.],\n",
       "        [1.],\n",
       "        [1.],\n",
       "        [1.],\n",
       "        [0.],\n",
       "        [0.],\n",
       "        [0.],\n",
       "        [0.],\n",
       "        [0.],\n",
       "        [0.],\n",
       "        [1.],\n",
       "        [1.],\n",
       "        [1.],\n",
       "        [1.],\n",
       "        [0.],\n",
       "        [0.],\n",
       "        [0.],\n",
       "        [0.],\n",
       "        [1.],\n",
       "        [1.],\n",
       "        [1.],\n",
       "        [1.],\n",
       "        [1.],\n",
       "        [1.],\n",
       "        [1.],\n",
       "        [0.],\n",
       "        [0.],\n",
       "        [0.],\n",
       "        [0.],\n",
       "        [0.],\n",
       "        [0.],\n",
       "        [0.],\n",
       "        [1.],\n",
       "        [1.],\n",
       "        [1.],\n",
       "        [0.],\n",
       "        [0.],\n",
       "        [0.],\n",
       "        [1.],\n",
       "        [1.],\n",
       "        [1.],\n",
       "        [1.],\n",
       "        [0.],\n",
       "        [0.],\n",
       "        [0.],\n",
       "        [0.],\n",
       "        [1.],\n",
       "        [1.],\n",
       "        [1.],\n",
       "        [1.],\n",
       "        [1.],\n",
       "        [1.],\n",
       "        [1.],\n",
       "        [0.],\n",
       "        [0.],\n",
       "        [0.],\n",
       "        [0.],\n",
       "        [0.],\n",
       "        [0.],\n",
       "        [0.],\n",
       "        [1.],\n",
       "        [1.],\n",
       "        [1.],\n",
       "        [1.],\n",
       "        [1.],\n",
       "        [0.],\n",
       "        [0.],\n",
       "        [0.],\n",
       "        [0.],\n",
       "        [0.],\n",
       "        [1.],\n",
       "        [1.],\n",
       "        [1.],\n",
       "        [0.],\n",
       "        [0.],\n",
       "        [0.],\n",
       "        [1.],\n",
       "        [1.],\n",
       "        [1.],\n",
       "        [1.],\n",
       "        [1.],\n",
       "        [1.],\n",
       "        [0.],\n",
       "        [0.],\n",
       "        [0.],\n",
       "        [0.],\n",
       "        [0.],\n",
       "        [0.],\n",
       "        [1.],\n",
       "        [1.],\n",
       "        [1.],\n",
       "        [1.],\n",
       "        [1.],\n",
       "        [1.],\n",
       "        [0.],\n",
       "        [0.],\n",
       "        [0.],\n",
       "        [0.],\n",
       "        [0.],\n",
       "        [0.],\n",
       "        [1.],\n",
       "        [1.],\n",
       "        [1.],\n",
       "        [1.],\n",
       "        [1.],\n",
       "        [1.],\n",
       "        [1.],\n",
       "        [0.],\n",
       "        [0.],\n",
       "        [0.],\n",
       "        [0.],\n",
       "        [0.],\n",
       "        [0.],\n",
       "        [0.],\n",
       "        [1.],\n",
       "        [1.],\n",
       "        [1.],\n",
       "        [1.],\n",
       "        [0.],\n",
       "        [0.],\n",
       "        [0.],\n",
       "        [0.],\n",
       "        [1.],\n",
       "        [1.],\n",
       "        [1.],\n",
       "        [1.],\n",
       "        [0.],\n",
       "        [0.],\n",
       "        [0.],\n",
       "        [0.],\n",
       "        [1.],\n",
       "        [1.],\n",
       "        [1.],\n",
       "        [1.],\n",
       "        [1.],\n",
       "        [1.],\n",
       "        [0.],\n",
       "        [0.],\n",
       "        [0.],\n",
       "        [0.],\n",
       "        [0.],\n",
       "        [0.],\n",
       "        [1.],\n",
       "        [1.],\n",
       "        [1.],\n",
       "        [1.],\n",
       "        [1.],\n",
       "        [0.],\n",
       "        [0.],\n",
       "        [0.],\n",
       "        [0.],\n",
       "        [0.],\n",
       "        [1.],\n",
       "        [1.],\n",
       "        [1.],\n",
       "        [1.],\n",
       "        [1.],\n",
       "        [0.],\n",
       "        [0.],\n",
       "        [0.],\n",
       "        [0.],\n",
       "        [0.],\n",
       "        [1.],\n",
       "        [1.],\n",
       "        [1.],\n",
       "        [1.],\n",
       "        [0.],\n",
       "        [0.],\n",
       "        [0.],\n",
       "        [0.],\n",
       "        [1.],\n",
       "        [1.],\n",
       "        [1.],\n",
       "        [0.],\n",
       "        [0.],\n",
       "        [0.],\n",
       "        [1.],\n",
       "        [1.],\n",
       "        [1.],\n",
       "        [1.],\n",
       "        [1.],\n",
       "        [1.],\n",
       "        [0.],\n",
       "        [0.],\n",
       "        [0.],\n",
       "        [0.],\n",
       "        [0.],\n",
       "        [0.],\n",
       "        [1.],\n",
       "        [1.],\n",
       "        [1.],\n",
       "        [1.],\n",
       "        [1.],\n",
       "        [0.],\n",
       "        [0.],\n",
       "        [0.],\n",
       "        [0.],\n",
       "        [0.],\n",
       "        [1.],\n",
       "        [1.],\n",
       "        [1.],\n",
       "        [1.],\n",
       "        [0.],\n",
       "        [0.],\n",
       "        [0.],\n",
       "        [0.],\n",
       "        [1.],\n",
       "        [1.],\n",
       "        [1.],\n",
       "        [1.],\n",
       "        [1.],\n",
       "        [0.],\n",
       "        [0.],\n",
       "        [0.],\n",
       "        [0.],\n",
       "        [0.],\n",
       "        [1.],\n",
       "        [1.],\n",
       "        [1.],\n",
       "        [1.],\n",
       "        [0.],\n",
       "        [0.],\n",
       "        [0.],\n",
       "        [0.],\n",
       "        [1.],\n",
       "        [1.],\n",
       "        [1.],\n",
       "        [1.],\n",
       "        [1.],\n",
       "        [0.],\n",
       "        [0.],\n",
       "        [0.],\n",
       "        [0.],\n",
       "        [0.],\n",
       "        [1.],\n",
       "        [1.],\n",
       "        [1.],\n",
       "        [1.],\n",
       "        [1.],\n",
       "        [0.],\n",
       "        [0.],\n",
       "        [0.],\n",
       "        [0.],\n",
       "        [0.],\n",
       "        [1.],\n",
       "        [1.],\n",
       "        [1.],\n",
       "        [1.],\n",
       "        [0.],\n",
       "        [0.],\n",
       "        [0.],\n",
       "        [0.],\n",
       "        [1.],\n",
       "        [1.],\n",
       "        [1.],\n",
       "        [1.],\n",
       "        [1.],\n",
       "        [1.],\n",
       "        [1.],\n",
       "        [0.],\n",
       "        [0.],\n",
       "        [0.],\n",
       "        [0.],\n",
       "        [0.],\n",
       "        [0.],\n",
       "        [0.],\n",
       "        [1.],\n",
       "        [1.],\n",
       "        [1.],\n",
       "        [0.],\n",
       "        [0.],\n",
       "        [0.],\n",
       "        [1.],\n",
       "        [1.],\n",
       "        [1.],\n",
       "        [0.],\n",
       "        [0.],\n",
       "        [0.],\n",
       "        [1.],\n",
       "        [1.],\n",
       "        [1.],\n",
       "        [0.],\n",
       "        [0.],\n",
       "        [0.],\n",
       "        [1.],\n",
       "        [1.],\n",
       "        [1.],\n",
       "        [1.],\n",
       "        [1.],\n",
       "        [0.],\n",
       "        [0.],\n",
       "        [0.],\n",
       "        [0.],\n",
       "        [0.],\n",
       "        [1.],\n",
       "        [1.],\n",
       "        [1.],\n",
       "        [1.],\n",
       "        [1.],\n",
       "        [0.],\n",
       "        [0.],\n",
       "        [0.],\n",
       "        [0.],\n",
       "        [0.],\n",
       "        [1.],\n",
       "        [1.],\n",
       "        [1.],\n",
       "        [1.],\n",
       "        [1.],\n",
       "        [1.],\n",
       "        [0.],\n",
       "        [0.],\n",
       "        [0.],\n",
       "        [0.],\n",
       "        [0.],\n",
       "        [0.],\n",
       "        [1.],\n",
       "        [1.],\n",
       "        [1.],\n",
       "        [1.],\n",
       "        [0.],\n",
       "        [0.],\n",
       "        [0.],\n",
       "        [0.],\n",
       "        [1.],\n",
       "        [1.],\n",
       "        [1.],\n",
       "        [1.],\n",
       "        [1.],\n",
       "        [0.],\n",
       "        [0.],\n",
       "        [0.],\n",
       "        [0.],\n",
       "        [0.],\n",
       "        [1.],\n",
       "        [1.],\n",
       "        [1.],\n",
       "        [1.],\n",
       "        [1.],\n",
       "        [1.],\n",
       "        [0.],\n",
       "        [0.],\n",
       "        [0.],\n",
       "        [0.],\n",
       "        [0.],\n",
       "        [0.],\n",
       "        [1.],\n",
       "        [1.],\n",
       "        [1.],\n",
       "        [1.],\n",
       "        [0.],\n",
       "        [0.],\n",
       "        [0.],\n",
       "        [0.],\n",
       "        [1.],\n",
       "        [1.],\n",
       "        [1.],\n",
       "        [1.],\n",
       "        [1.],\n",
       "        [1.],\n",
       "        [1.],\n",
       "        [0.],\n",
       "        [0.],\n",
       "        [0.],\n",
       "        [0.],\n",
       "        [0.],\n",
       "        [0.],\n",
       "        [0.],\n",
       "        [1.],\n",
       "        [1.],\n",
       "        [1.],\n",
       "        [1.],\n",
       "        [1.],\n",
       "        [1.],\n",
       "        [0.],\n",
       "        [0.],\n",
       "        [0.],\n",
       "        [0.],\n",
       "        [0.],\n",
       "        [0.],\n",
       "        [1.],\n",
       "        [1.],\n",
       "        [1.],\n",
       "        [1.],\n",
       "        [1.],\n",
       "        [1.],\n",
       "        [1.],\n",
       "        [0.],\n",
       "        [0.],\n",
       "        [0.],\n",
       "        [0.],\n",
       "        [0.],\n",
       "        [0.],\n",
       "        [0.],\n",
       "        [1.],\n",
       "        [1.],\n",
       "        [1.],\n",
       "        [1.],\n",
       "        [1.],\n",
       "        [1.],\n",
       "        [0.],\n",
       "        [0.],\n",
       "        [0.],\n",
       "        [0.],\n",
       "        [0.],\n",
       "        [0.],\n",
       "        [1.],\n",
       "        [1.],\n",
       "        [1.],\n",
       "        [1.],\n",
       "        [1.],\n",
       "        [0.],\n",
       "        [0.],\n",
       "        [0.],\n",
       "        [0.],\n",
       "        [0.],\n",
       "        [1.],\n",
       "        [1.],\n",
       "        [1.],\n",
       "        [1.],\n",
       "        [1.],\n",
       "        [1.],\n",
       "        [0.],\n",
       "        [0.],\n",
       "        [0.],\n",
       "        [0.],\n",
       "        [0.],\n",
       "        [0.],\n",
       "        [1.],\n",
       "        [1.],\n",
       "        [1.],\n",
       "        [1.],\n",
       "        [1.],\n",
       "        [1.],\n",
       "        [1.],\n",
       "        [0.],\n",
       "        [0.],\n",
       "        [0.],\n",
       "        [0.],\n",
       "        [0.],\n",
       "        [0.],\n",
       "        [0.],\n",
       "        [1.],\n",
       "        [1.],\n",
       "        [1.],\n",
       "        [1.],\n",
       "        [0.],\n",
       "        [0.],\n",
       "        [0.],\n",
       "        [0.],\n",
       "        [1.],\n",
       "        [1.],\n",
       "        [1.],\n",
       "        [1.],\n",
       "        [0.],\n",
       "        [0.],\n",
       "        [0.],\n",
       "        [0.],\n",
       "        [1.],\n",
       "        [1.],\n",
       "        [1.],\n",
       "        [0.],\n",
       "        [0.],\n",
       "        [0.]])"
      ]
     },
     "metadata": {},
     "output_type": "display_data"
    }
   ],
   "source": [
    "display(tensors[USERS])\n",
    "display(tensors[SERVICES])\n",
    "display(tensors[LABELS])"
   ]
  },
  {
   "cell_type": "markdown",
   "id": "unavailable-ladder",
   "metadata": {},
   "source": [
    "### Create Pytorch Dataset and Dataloader"
   ]
  },
  {
   "cell_type": "code",
   "execution_count": 37,
   "id": "passing-committee",
   "metadata": {},
   "outputs": [
    {
     "name": "stdout",
     "output_type": "stream",
     "text": [
      "CPU times: user 526 µs, sys: 14 µs, total: 540 µs\n",
      "Wall time: 433 µs\n"
     ]
    }
   ],
   "source": [
    "%%time\n",
    "BATCH_SIZE = 32\n",
    "TRAIN_DS_SIZE = 0.6\n",
    "VALID_DS_SIZE = 0.2\n",
    "TEST_DS_SIZE = 0.2\n",
    "\n",
    "dataset = TensorDictDataset(tensors)\n",
    "\n",
    "dataset.save()\n",
    "\n",
    "ds_size = len(dataset)\n",
    "train_ds_size = int(TRAIN_DS_SIZE*ds_size)\n",
    "valid_ds_size = int(VALID_DS_SIZE*ds_size)\n",
    "test_ds_size = int(TEST_DS_SIZE*ds_size)\n",
    "\n",
    "train_ds, valid_ds, test_ds = random_split(dataset, [train_ds_size, valid_ds_size, test_ds_size])\n",
    "\n",
    "train_ds_dl = DataLoader(train_ds, batch_size=BATCH_SIZE, shuffle=True)\n",
    "valid_ds_dl = DataLoader(valid_ds, batch_size=BATCH_SIZE, shuffle=True)\n",
    "test_ds_dl = DataLoader(test_ds, batch_size=BATCH_SIZE, shuffle=True)"
   ]
  },
  {
   "cell_type": "markdown",
   "id": "filled-consent",
   "metadata": {},
   "source": [
    "### Create Neural colaborative Filtering neural network model"
   ]
  },
  {
   "cell_type": "code",
   "execution_count": 39,
   "id": "sophisticated-exclusive",
   "metadata": {},
   "outputs": [],
   "source": [
    "USER_FEATURES_DIM = tensors[USERS].shape[1]\n",
    "SERVICE_FEATURES_DIM = tensors[SERVICES].shape[1]\n",
    "USER_EMBEDDING_DIM = 32\n",
    "SERVICE_EMBEDDING_DIM = 64\n",
    "\n",
    "neural_cf_model = NeuralColaborativeFilteringModel(\n",
    "    user_features_dim=USER_FEATURES_DIM,\n",
    "    user_embedding_dim=USER_EMBEDDING_DIM,\n",
    "    service_features_dim=SERVICE_FEATURES_DIM,\n",
    "    service_embedding_dim=SERVICE_EMBEDDING_DIM,\n",
    ")"
   ]
  },
  {
   "cell_type": "markdown",
   "id": "imposed-drink",
   "metadata": {},
   "source": [
    "### Create loss function and optimizer"
   ]
  },
  {
   "cell_type": "code",
   "execution_count": 40,
   "id": "ignored-moore",
   "metadata": {},
   "outputs": [],
   "source": [
    "loss_function = BCELoss()\n",
    "LR = 0.01\n",
    "optimizer = SGD(neural_cf_model.parameters(), lr=LR)"
   ]
  },
  {
   "cell_type": "markdown",
   "id": "acoustic-nightlife",
   "metadata": {},
   "source": [
    "### Training"
   ]
  },
  {
   "cell_type": "code",
   "execution_count": 49,
   "id": "regional-bradford",
   "metadata": {},
   "outputs": [
    {
     "data": {
      "application/vnd.jupyter.widget-view+json": {
       "model_id": "bcc2c252a5fa4f3f9e080aad39b7775b",
       "version_major": 2,
       "version_minor": 0
      },
      "text/plain": [
       "  0%|          | 0/19 [00:00<?, ?batch/s]"
      ]
     },
     "metadata": {},
     "output_type": "display_data"
    },
    {
     "data": {
      "application/vnd.jupyter.widget-view+json": {
       "model_id": "a486c9ca3b224811b459bde659436f41",
       "version_major": 2,
       "version_minor": 0
      },
      "text/plain": [
       "  0%|          | 0/7 [00:00<?, ?batch/s]"
      ]
     },
     "metadata": {},
     "output_type": "display_data"
    },
    {
     "data": {
      "application/vnd.jupyter.widget-view+json": {
       "model_id": "23e6b384e5c74a03b8e63780891189a2",
       "version_major": 2,
       "version_minor": 0
      },
      "text/plain": [
       "  0%|          | 0/19 [00:00<?, ?batch/s]"
      ]
     },
     "metadata": {},
     "output_type": "display_data"
    },
    {
     "data": {
      "application/vnd.jupyter.widget-view+json": {
       "model_id": "8fc46e0f96134746a0e1ecadc12db964",
       "version_major": 2,
       "version_minor": 0
      },
      "text/plain": [
       "  0%|          | 0/7 [00:00<?, ?batch/s]"
      ]
     },
     "metadata": {},
     "output_type": "display_data"
    },
    {
     "data": {
      "application/vnd.jupyter.widget-view+json": {
       "model_id": "7d70ddd0308d4f7e90eade66db0ee081",
       "version_major": 2,
       "version_minor": 0
      },
      "text/plain": [
       "  0%|          | 0/19 [00:00<?, ?batch/s]"
      ]
     },
     "metadata": {},
     "output_type": "display_data"
    },
    {
     "data": {
      "application/vnd.jupyter.widget-view+json": {
       "model_id": "46328b30d469454baea36dad1a1e1a03",
       "version_major": 2,
       "version_minor": 0
      },
      "text/plain": [
       "  0%|          | 0/7 [00:00<?, ?batch/s]"
      ]
     },
     "metadata": {},
     "output_type": "display_data"
    },
    {
     "data": {
      "application/vnd.jupyter.widget-view+json": {
       "model_id": "25b4d38c27ea40ec831fea83cac46b3f",
       "version_major": 2,
       "version_minor": 0
      },
      "text/plain": [
       "  0%|          | 0/19 [00:00<?, ?batch/s]"
      ]
     },
     "metadata": {},
     "output_type": "display_data"
    },
    {
     "data": {
      "application/vnd.jupyter.widget-view+json": {
       "model_id": "f722332724e045929e45bbb7b70a8c13",
       "version_major": 2,
       "version_minor": 0
      },
      "text/plain": [
       "  0%|          | 0/7 [00:00<?, ?batch/s]"
      ]
     },
     "metadata": {},
     "output_type": "display_data"
    },
    {
     "data": {
      "application/vnd.jupyter.widget-view+json": {
       "model_id": "175e956414de40eea2f40362959ce5d0",
       "version_major": 2,
       "version_minor": 0
      },
      "text/plain": [
       "  0%|          | 0/19 [00:00<?, ?batch/s]"
      ]
     },
     "metadata": {},
     "output_type": "display_data"
    },
    {
     "data": {
      "application/vnd.jupyter.widget-view+json": {
       "model_id": "19753a363f424cee9ae938fc77ffea78",
       "version_major": 2,
       "version_minor": 0
      },
      "text/plain": [
       "  0%|          | 0/7 [00:00<?, ?batch/s]"
      ]
     },
     "metadata": {},
     "output_type": "display_data"
    },
    {
     "data": {
      "application/vnd.jupyter.widget-view+json": {
       "model_id": "5e69c0d57a4f43d9a0ef30ffcba4c3c5",
       "version_major": 2,
       "version_minor": 0
      },
      "text/plain": [
       "  0%|          | 0/19 [00:00<?, ?batch/s]"
      ]
     },
     "metadata": {},
     "output_type": "display_data"
    },
    {
     "data": {
      "application/vnd.jupyter.widget-view+json": {
       "model_id": "4de627fb16ef41cdae11ed36f1dea34a",
       "version_major": 2,
       "version_minor": 0
      },
      "text/plain": [
       "  0%|          | 0/7 [00:00<?, ?batch/s]"
      ]
     },
     "metadata": {},
     "output_type": "display_data"
    },
    {
     "data": {
      "application/vnd.jupyter.widget-view+json": {
       "model_id": "4ba6b0c3e69046c396f067a43c6973f4",
       "version_major": 2,
       "version_minor": 0
      },
      "text/plain": [
       "  0%|          | 0/19 [00:00<?, ?batch/s]"
      ]
     },
     "metadata": {},
     "output_type": "display_data"
    },
    {
     "data": {
      "application/vnd.jupyter.widget-view+json": {
       "model_id": "62c597a94f134b5daf0c84e5d0c03493",
       "version_major": 2,
       "version_minor": 0
      },
      "text/plain": [
       "  0%|          | 0/7 [00:00<?, ?batch/s]"
      ]
     },
     "metadata": {},
     "output_type": "display_data"
    },
    {
     "data": {
      "application/vnd.jupyter.widget-view+json": {
       "model_id": "68e3f3e0a5d44b7792ecc5854c7f055a",
       "version_major": 2,
       "version_minor": 0
      },
      "text/plain": [
       "  0%|          | 0/19 [00:00<?, ?batch/s]"
      ]
     },
     "metadata": {},
     "output_type": "display_data"
    },
    {
     "data": {
      "application/vnd.jupyter.widget-view+json": {
       "model_id": "1cb5a9982feb4a6581f85cdd7981cb16",
       "version_major": 2,
       "version_minor": 0
      },
      "text/plain": [
       "  0%|          | 0/7 [00:00<?, ?batch/s]"
      ]
     },
     "metadata": {},
     "output_type": "display_data"
    },
    {
     "data": {
      "application/vnd.jupyter.widget-view+json": {
       "model_id": "8d2482bea53b4d8a8eb5ba35f5fa6a37",
       "version_major": 2,
       "version_minor": 0
      },
      "text/plain": [
       "  0%|          | 0/19 [00:00<?, ?batch/s]"
      ]
     },
     "metadata": {},
     "output_type": "display_data"
    },
    {
     "data": {
      "application/vnd.jupyter.widget-view+json": {
       "model_id": "e769df3815bf4cae98789c9bc31c9357",
       "version_major": 2,
       "version_minor": 0
      },
      "text/plain": [
       "  0%|          | 0/7 [00:00<?, ?batch/s]"
      ]
     },
     "metadata": {},
     "output_type": "display_data"
    },
    {
     "data": {
      "application/vnd.jupyter.widget-view+json": {
       "model_id": "4fc0873b36a04287bf0d56e883ed0206",
       "version_major": 2,
       "version_minor": 0
      },
      "text/plain": [
       "  0%|          | 0/19 [00:00<?, ?batch/s]"
      ]
     },
     "metadata": {},
     "output_type": "display_data"
    },
    {
     "data": {
      "application/vnd.jupyter.widget-view+json": {
       "model_id": "777d08fc1a804841bc728a59b671d3bc",
       "version_major": 2,
       "version_minor": 0
      },
      "text/plain": [
       "  0%|          | 0/7 [00:00<?, ?batch/s]"
      ]
     },
     "metadata": {},
     "output_type": "display_data"
    },
    {
     "data": {
      "application/vnd.jupyter.widget-view+json": {
       "model_id": "3bdad48b91dc42adacf540cc8416faa6",
       "version_major": 2,
       "version_minor": 0
      },
      "text/plain": [
       "  0%|          | 0/19 [00:00<?, ?batch/s]"
      ]
     },
     "metadata": {},
     "output_type": "display_data"
    },
    {
     "data": {
      "application/vnd.jupyter.widget-view+json": {
       "model_id": "6d87d8b5e2e242c483d82052b06d8e5f",
       "version_major": 2,
       "version_minor": 0
      },
      "text/plain": [
       "  0%|          | 0/7 [00:00<?, ?batch/s]"
      ]
     },
     "metadata": {},
     "output_type": "display_data"
    },
    {
     "data": {
      "application/vnd.jupyter.widget-view+json": {
       "model_id": "362cdc9faa3f4422b5c318ee743b1091",
       "version_major": 2,
       "version_minor": 0
      },
      "text/plain": [
       "  0%|          | 0/19 [00:00<?, ?batch/s]"
      ]
     },
     "metadata": {},
     "output_type": "display_data"
    },
    {
     "data": {
      "application/vnd.jupyter.widget-view+json": {
       "model_id": "43d7d5a0ee5c4838a76d60fe6aeaeb0b",
       "version_major": 2,
       "version_minor": 0
      },
      "text/plain": [
       "  0%|          | 0/7 [00:00<?, ?batch/s]"
      ]
     },
     "metadata": {},
     "output_type": "display_data"
    },
    {
     "data": {
      "application/vnd.jupyter.widget-view+json": {
       "model_id": "2606c1e2284d44a4bc77aadaf9dd55fe",
       "version_major": 2,
       "version_minor": 0
      },
      "text/plain": [
       "  0%|          | 0/19 [00:00<?, ?batch/s]"
      ]
     },
     "metadata": {},
     "output_type": "display_data"
    },
    {
     "data": {
      "application/vnd.jupyter.widget-view+json": {
       "model_id": "2366cca47b964c819232d21c314cc499",
       "version_major": 2,
       "version_minor": 0
      },
      "text/plain": [
       "  0%|          | 0/7 [00:00<?, ?batch/s]"
      ]
     },
     "metadata": {},
     "output_type": "display_data"
    },
    {
     "data": {
      "application/vnd.jupyter.widget-view+json": {
       "model_id": "c9509c33731840f7b4d919206db47d39",
       "version_major": 2,
       "version_minor": 0
      },
      "text/plain": [
       "  0%|          | 0/19 [00:00<?, ?batch/s]"
      ]
     },
     "metadata": {},
     "output_type": "display_data"
    },
    {
     "data": {
      "application/vnd.jupyter.widget-view+json": {
       "model_id": "4a33609a18244c8398ea10d68f01eb68",
       "version_major": 2,
       "version_minor": 0
      },
      "text/plain": [
       "  0%|          | 0/7 [00:00<?, ?batch/s]"
      ]
     },
     "metadata": {},
     "output_type": "display_data"
    },
    {
     "data": {
      "application/vnd.jupyter.widget-view+json": {
       "model_id": "54fd4fe3818444aa86ffa2117bd52ebb",
       "version_major": 2,
       "version_minor": 0
      },
      "text/plain": [
       "  0%|          | 0/19 [00:00<?, ?batch/s]"
      ]
     },
     "metadata": {},
     "output_type": "display_data"
    },
    {
     "data": {
      "application/vnd.jupyter.widget-view+json": {
       "model_id": "fb0ca0d6a47b45f5acf93caf6c8fe674",
       "version_major": 2,
       "version_minor": 0
      },
      "text/plain": [
       "  0%|          | 0/7 [00:00<?, ?batch/s]"
      ]
     },
     "metadata": {},
     "output_type": "display_data"
    },
    {
     "data": {
      "application/vnd.jupyter.widget-view+json": {
       "model_id": "2229b7aa08dd4cf4a6437fee2e4a1064",
       "version_major": 2,
       "version_minor": 0
      },
      "text/plain": [
       "  0%|          | 0/19 [00:00<?, ?batch/s]"
      ]
     },
     "metadata": {},
     "output_type": "display_data"
    },
    {
     "data": {
      "application/vnd.jupyter.widget-view+json": {
       "model_id": "1728fff687544f93bd1cefcbb63ec924",
       "version_major": 2,
       "version_minor": 0
      },
      "text/plain": [
       "  0%|          | 0/7 [00:00<?, ?batch/s]"
      ]
     },
     "metadata": {},
     "output_type": "display_data"
    },
    {
     "data": {
      "application/vnd.jupyter.widget-view+json": {
       "model_id": "b97bb81d6d9b46e898c8ca44f0dad1ff",
       "version_major": 2,
       "version_minor": 0
      },
      "text/plain": [
       "  0%|          | 0/19 [00:00<?, ?batch/s]"
      ]
     },
     "metadata": {},
     "output_type": "display_data"
    },
    {
     "data": {
      "application/vnd.jupyter.widget-view+json": {
       "model_id": "3df78b70bc26410ba73ecb65d648dfb3",
       "version_major": 2,
       "version_minor": 0
      },
      "text/plain": [
       "  0%|          | 0/7 [00:00<?, ?batch/s]"
      ]
     },
     "metadata": {},
     "output_type": "display_data"
    },
    {
     "data": {
      "application/vnd.jupyter.widget-view+json": {
       "model_id": "b0ea297380b84259a58fd168ae650a5e",
       "version_major": 2,
       "version_minor": 0
      },
      "text/plain": [
       "  0%|          | 0/19 [00:00<?, ?batch/s]"
      ]
     },
     "metadata": {},
     "output_type": "display_data"
    },
    {
     "data": {
      "application/vnd.jupyter.widget-view+json": {
       "model_id": "387b14639d25414497d4114e95e1d7ac",
       "version_major": 2,
       "version_minor": 0
      },
      "text/plain": [
       "  0%|          | 0/7 [00:00<?, ?batch/s]"
      ]
     },
     "metadata": {},
     "output_type": "display_data"
    },
    {
     "data": {
      "application/vnd.jupyter.widget-view+json": {
       "model_id": "884bafa139d54a4084519d8eec5c9b97",
       "version_major": 2,
       "version_minor": 0
      },
      "text/plain": [
       "  0%|          | 0/19 [00:00<?, ?batch/s]"
      ]
     },
     "metadata": {},
     "output_type": "display_data"
    },
    {
     "data": {
      "application/vnd.jupyter.widget-view+json": {
       "model_id": "8a762b0bc4a44f04ac3974cd9f2493b6",
       "version_major": 2,
       "version_minor": 0
      },
      "text/plain": [
       "  0%|          | 0/7 [00:00<?, ?batch/s]"
      ]
     },
     "metadata": {},
     "output_type": "display_data"
    },
    {
     "data": {
      "application/vnd.jupyter.widget-view+json": {
       "model_id": "f7aba4ef71d34d6b8766261d4f89e69d",
       "version_major": 2,
       "version_minor": 0
      },
      "text/plain": [
       "  0%|          | 0/19 [00:00<?, ?batch/s]"
      ]
     },
     "metadata": {},
     "output_type": "display_data"
    },
    {
     "data": {
      "application/vnd.jupyter.widget-view+json": {
       "model_id": "e127bb9827434501902eff69a76c58a5",
       "version_major": 2,
       "version_minor": 0
      },
      "text/plain": [
       "  0%|          | 0/7 [00:00<?, ?batch/s]"
      ]
     },
     "metadata": {},
     "output_type": "display_data"
    },
    {
     "data": {
      "application/vnd.jupyter.widget-view+json": {
       "model_id": "423c440be5bf49cabc6939a26a1161dd",
       "version_major": 2,
       "version_minor": 0
      },
      "text/plain": [
       "  0%|          | 0/19 [00:00<?, ?batch/s]"
      ]
     },
     "metadata": {},
     "output_type": "display_data"
    },
    {
     "data": {
      "application/vnd.jupyter.widget-view+json": {
       "model_id": "6a51bbccfc0345a8afaf3f2b11e26f1c",
       "version_major": 2,
       "version_minor": 0
      },
      "text/plain": [
       "  0%|          | 0/7 [00:00<?, ?batch/s]"
      ]
     },
     "metadata": {},
     "output_type": "display_data"
    },
    {
     "data": {
      "application/vnd.jupyter.widget-view+json": {
       "model_id": "c77627f41301429190b170e8ad71f3a8",
       "version_major": 2,
       "version_minor": 0
      },
      "text/plain": [
       "  0%|          | 0/19 [00:00<?, ?batch/s]"
      ]
     },
     "metadata": {},
     "output_type": "display_data"
    },
    {
     "data": {
      "application/vnd.jupyter.widget-view+json": {
       "model_id": "22a34bc7f25542e09a0297726631e795",
       "version_major": 2,
       "version_minor": 0
      },
      "text/plain": [
       "  0%|          | 0/7 [00:00<?, ?batch/s]"
      ]
     },
     "metadata": {},
     "output_type": "display_data"
    },
    {
     "data": {
      "application/vnd.jupyter.widget-view+json": {
       "model_id": "bf153874f2fb43cb8ecc9197d4e2435e",
       "version_major": 2,
       "version_minor": 0
      },
      "text/plain": [
       "  0%|          | 0/19 [00:00<?, ?batch/s]"
      ]
     },
     "metadata": {},
     "output_type": "display_data"
    },
    {
     "data": {
      "application/vnd.jupyter.widget-view+json": {
       "model_id": "8067b24684da498ca44901ec79473ca9",
       "version_major": 2,
       "version_minor": 0
      },
      "text/plain": [
       "  0%|          | 0/7 [00:00<?, ?batch/s]"
      ]
     },
     "metadata": {},
     "output_type": "display_data"
    },
    {
     "data": {
      "application/vnd.jupyter.widget-view+json": {
       "model_id": "bfbf7bc619804b908334d43224efcc18",
       "version_major": 2,
       "version_minor": 0
      },
      "text/plain": [
       "  0%|          | 0/19 [00:00<?, ?batch/s]"
      ]
     },
     "metadata": {},
     "output_type": "display_data"
    },
    {
     "data": {
      "application/vnd.jupyter.widget-view+json": {
       "model_id": "82bed560a3c24d36a8684b9cb955d4b5",
       "version_major": 2,
       "version_minor": 0
      },
      "text/plain": [
       "  0%|          | 0/7 [00:00<?, ?batch/s]"
      ]
     },
     "metadata": {},
     "output_type": "display_data"
    },
    {
     "data": {
      "application/vnd.jupyter.widget-view+json": {
       "model_id": "3d34973c399f4202a8ebc5542ca2ff74",
       "version_major": 2,
       "version_minor": 0
      },
      "text/plain": [
       "  0%|          | 0/19 [00:00<?, ?batch/s]"
      ]
     },
     "metadata": {},
     "output_type": "display_data"
    },
    {
     "data": {
      "application/vnd.jupyter.widget-view+json": {
       "model_id": "349f08684d62443380a48889a640c350",
       "version_major": 2,
       "version_minor": 0
      },
      "text/plain": [
       "  0%|          | 0/7 [00:00<?, ?batch/s]"
      ]
     },
     "metadata": {},
     "output_type": "display_data"
    },
    {
     "data": {
      "application/vnd.jupyter.widget-view+json": {
       "model_id": "2978ba10f1c84cfbb5dde647d1bb795a",
       "version_major": 2,
       "version_minor": 0
      },
      "text/plain": [
       "  0%|          | 0/19 [00:00<?, ?batch/s]"
      ]
     },
     "metadata": {},
     "output_type": "display_data"
    },
    {
     "data": {
      "application/vnd.jupyter.widget-view+json": {
       "model_id": "d78d08c155db4a4599a11ec87931f43c",
       "version_major": 2,
       "version_minor": 0
      },
      "text/plain": [
       "  0%|          | 0/7 [00:00<?, ?batch/s]"
      ]
     },
     "metadata": {},
     "output_type": "display_data"
    },
    {
     "data": {
      "application/vnd.jupyter.widget-view+json": {
       "model_id": "ac99f0fef7324ad68bb31a0ddd5d52aa",
       "version_major": 2,
       "version_minor": 0
      },
      "text/plain": [
       "  0%|          | 0/19 [00:00<?, ?batch/s]"
      ]
     },
     "metadata": {},
     "output_type": "display_data"
    },
    {
     "data": {
      "application/vnd.jupyter.widget-view+json": {
       "model_id": "9ed64cdc9bf5476ca4d6df5658c83518",
       "version_major": 2,
       "version_minor": 0
      },
      "text/plain": [
       "  0%|          | 0/7 [00:00<?, ?batch/s]"
      ]
     },
     "metadata": {},
     "output_type": "display_data"
    },
    {
     "data": {
      "application/vnd.jupyter.widget-view+json": {
       "model_id": "f07cb4905ba0482697196e2637b8321b",
       "version_major": 2,
       "version_minor": 0
      },
      "text/plain": [
       "  0%|          | 0/19 [00:00<?, ?batch/s]"
      ]
     },
     "metadata": {},
     "output_type": "display_data"
    },
    {
     "data": {
      "application/vnd.jupyter.widget-view+json": {
       "model_id": "a8760da4ffe04a479a226dc0352a7c7d",
       "version_major": 2,
       "version_minor": 0
      },
      "text/plain": [
       "  0%|          | 0/7 [00:00<?, ?batch/s]"
      ]
     },
     "metadata": {},
     "output_type": "display_data"
    },
    {
     "data": {
      "application/vnd.jupyter.widget-view+json": {
       "model_id": "f6c8ab6962264a3c8cddbd0d38c63b15",
       "version_major": 2,
       "version_minor": 0
      },
      "text/plain": [
       "  0%|          | 0/19 [00:00<?, ?batch/s]"
      ]
     },
     "metadata": {},
     "output_type": "display_data"
    },
    {
     "data": {
      "application/vnd.jupyter.widget-view+json": {
       "model_id": "4725bda4b5894927a9b829385787c2a5",
       "version_major": 2,
       "version_minor": 0
      },
      "text/plain": [
       "  0%|          | 0/7 [00:00<?, ?batch/s]"
      ]
     },
     "metadata": {},
     "output_type": "display_data"
    },
    {
     "data": {
      "application/vnd.jupyter.widget-view+json": {
       "model_id": "808b02f29b0744a89e8be18752f0def3",
       "version_major": 2,
       "version_minor": 0
      },
      "text/plain": [
       "  0%|          | 0/19 [00:00<?, ?batch/s]"
      ]
     },
     "metadata": {},
     "output_type": "display_data"
    },
    {
     "data": {
      "application/vnd.jupyter.widget-view+json": {
       "model_id": "fb110cf6781b4f3e8fe8b96b04c6b75a",
       "version_major": 2,
       "version_minor": 0
      },
      "text/plain": [
       "  0%|          | 0/7 [00:00<?, ?batch/s]"
      ]
     },
     "metadata": {},
     "output_type": "display_data"
    },
    {
     "data": {
      "application/vnd.jupyter.widget-view+json": {
       "model_id": "7e021d4217a946e4b01dfd8651497d6d",
       "version_major": 2,
       "version_minor": 0
      },
      "text/plain": [
       "  0%|          | 0/19 [00:00<?, ?batch/s]"
      ]
     },
     "metadata": {},
     "output_type": "display_data"
    },
    {
     "data": {
      "application/vnd.jupyter.widget-view+json": {
       "model_id": "9a3e214c56e64cbc9ba4a44de7050578",
       "version_major": 2,
       "version_minor": 0
      },
      "text/plain": [
       "  0%|          | 0/7 [00:00<?, ?batch/s]"
      ]
     },
     "metadata": {},
     "output_type": "display_data"
    },
    {
     "data": {
      "application/vnd.jupyter.widget-view+json": {
       "model_id": "9061416a05cd43a382aaceebd1510662",
       "version_major": 2,
       "version_minor": 0
      },
      "text/plain": [
       "  0%|          | 0/19 [00:00<?, ?batch/s]"
      ]
     },
     "metadata": {},
     "output_type": "display_data"
    },
    {
     "data": {
      "application/vnd.jupyter.widget-view+json": {
       "model_id": "dc04dd845264452fb612f245e85cb778",
       "version_major": 2,
       "version_minor": 0
      },
      "text/plain": [
       "  0%|          | 0/7 [00:00<?, ?batch/s]"
      ]
     },
     "metadata": {},
     "output_type": "display_data"
    },
    {
     "data": {
      "application/vnd.jupyter.widget-view+json": {
       "model_id": "b6728b80856a4c719f180d9d07648bee",
       "version_major": 2,
       "version_minor": 0
      },
      "text/plain": [
       "  0%|          | 0/19 [00:00<?, ?batch/s]"
      ]
     },
     "metadata": {},
     "output_type": "display_data"
    },
    {
     "data": {
      "application/vnd.jupyter.widget-view+json": {
       "model_id": "ea53dc92356b4c4fbd92e310de8bc5f5",
       "version_major": 2,
       "version_minor": 0
      },
      "text/plain": [
       "  0%|          | 0/7 [00:00<?, ?batch/s]"
      ]
     },
     "metadata": {},
     "output_type": "display_data"
    },
    {
     "data": {
      "application/vnd.jupyter.widget-view+json": {
       "model_id": "6f747cec2d7c48e7a099e2547ccf8014",
       "version_major": 2,
       "version_minor": 0
      },
      "text/plain": [
       "  0%|          | 0/19 [00:00<?, ?batch/s]"
      ]
     },
     "metadata": {},
     "output_type": "display_data"
    },
    {
     "data": {
      "application/vnd.jupyter.widget-view+json": {
       "model_id": "9a0c4987951e46a68404422435d1b4ce",
       "version_major": 2,
       "version_minor": 0
      },
      "text/plain": [
       "  0%|          | 0/7 [00:00<?, ?batch/s]"
      ]
     },
     "metadata": {},
     "output_type": "display_data"
    },
    {
     "data": {
      "application/vnd.jupyter.widget-view+json": {
       "model_id": "38838a020779472cbb1f61c75b4126c7",
       "version_major": 2,
       "version_minor": 0
      },
      "text/plain": [
       "  0%|          | 0/19 [00:00<?, ?batch/s]"
      ]
     },
     "metadata": {},
     "output_type": "display_data"
    },
    {
     "data": {
      "application/vnd.jupyter.widget-view+json": {
       "model_id": "1d6303adfb344d53a2f180845d843dc5",
       "version_major": 2,
       "version_minor": 0
      },
      "text/plain": [
       "  0%|          | 0/7 [00:00<?, ?batch/s]"
      ]
     },
     "metadata": {},
     "output_type": "display_data"
    },
    {
     "data": {
      "application/vnd.jupyter.widget-view+json": {
       "model_id": "d310a8ecc1344f42887c9c30629cd4a4",
       "version_major": 2,
       "version_minor": 0
      },
      "text/plain": [
       "  0%|          | 0/19 [00:00<?, ?batch/s]"
      ]
     },
     "metadata": {},
     "output_type": "display_data"
    },
    {
     "data": {
      "application/vnd.jupyter.widget-view+json": {
       "model_id": "a5867afc9ca24c9ba392cdb616874eff",
       "version_major": 2,
       "version_minor": 0
      },
      "text/plain": [
       "  0%|          | 0/7 [00:00<?, ?batch/s]"
      ]
     },
     "metadata": {},
     "output_type": "display_data"
    },
    {
     "data": {
      "application/vnd.jupyter.widget-view+json": {
       "model_id": "7acda42c7b6b47599676875ade0e36b0",
       "version_major": 2,
       "version_minor": 0
      },
      "text/plain": [
       "  0%|          | 0/19 [00:00<?, ?batch/s]"
      ]
     },
     "metadata": {},
     "output_type": "display_data"
    },
    {
     "data": {
      "application/vnd.jupyter.widget-view+json": {
       "model_id": "4e464cb7aa8b428686e0d7702b8fff8a",
       "version_major": 2,
       "version_minor": 0
      },
      "text/plain": [
       "  0%|          | 0/7 [00:00<?, ?batch/s]"
      ]
     },
     "metadata": {},
     "output_type": "display_data"
    },
    {
     "data": {
      "application/vnd.jupyter.widget-view+json": {
       "model_id": "c3ce01890f6e44eea888bcf6070f6c92",
       "version_major": 2,
       "version_minor": 0
      },
      "text/plain": [
       "  0%|          | 0/19 [00:00<?, ?batch/s]"
      ]
     },
     "metadata": {},
     "output_type": "display_data"
    },
    {
     "data": {
      "application/vnd.jupyter.widget-view+json": {
       "model_id": "a42a7827e6d546c38b1bb342f4f0a603",
       "version_major": 2,
       "version_minor": 0
      },
      "text/plain": [
       "  0%|          | 0/7 [00:00<?, ?batch/s]"
      ]
     },
     "metadata": {},
     "output_type": "display_data"
    },
    {
     "data": {
      "application/vnd.jupyter.widget-view+json": {
       "model_id": "1aaadd24ed014fec96370b8fc5c29242",
       "version_major": 2,
       "version_minor": 0
      },
      "text/plain": [
       "  0%|          | 0/19 [00:00<?, ?batch/s]"
      ]
     },
     "metadata": {},
     "output_type": "display_data"
    },
    {
     "data": {
      "application/vnd.jupyter.widget-view+json": {
       "model_id": "f93ec09606fb43ceaa7335c740beaa22",
       "version_major": 2,
       "version_minor": 0
      },
      "text/plain": [
       "  0%|          | 0/7 [00:00<?, ?batch/s]"
      ]
     },
     "metadata": {},
     "output_type": "display_data"
    },
    {
     "data": {
      "application/vnd.jupyter.widget-view+json": {
       "model_id": "ae31ce1c537548fb8d5376a2c089f8ff",
       "version_major": 2,
       "version_minor": 0
      },
      "text/plain": [
       "  0%|          | 0/19 [00:00<?, ?batch/s]"
      ]
     },
     "metadata": {},
     "output_type": "display_data"
    },
    {
     "data": {
      "application/vnd.jupyter.widget-view+json": {
       "model_id": "95afbfc0a96e404c94f7611708746087",
       "version_major": 2,
       "version_minor": 0
      },
      "text/plain": [
       "  0%|          | 0/7 [00:00<?, ?batch/s]"
      ]
     },
     "metadata": {},
     "output_type": "display_data"
    },
    {
     "name": "stdout",
     "output_type": "stream",
     "text": [
      "Total training time: 3.8991482257843018\n"
     ]
    }
   ],
   "source": [
    "losses = []\n",
    "accuracies = []\n",
    "\n",
    "val_losses = []\n",
    "val_accuracies = []\n",
    "\n",
    "EPOCHS = 4000\n",
    "\n",
    "start = time.time()\n",
    "for epoch in range(EPOCHS):\n",
    "    neural_cf_model.train()\n",
    "    with tqdm(train_ds_dl, unit=\"batch\") as tepoch:\n",
    "        for batch in tepoch:\n",
    "            tepoch.set_description(f\"Epoch {epoch}\")\n",
    "            labels = batch[LABELS]\n",
    "            preds = neural_cf_model(batch[USERS], batch[SERVICES])\n",
    "\n",
    "            loss = loss_function(preds, labels)\n",
    "            acc = accuracy_function(preds, labels)\n",
    "\n",
    "            loss.backward()\n",
    "            optimizer.step()\n",
    "            optimizer.zero_grad()\n",
    "\n",
    "            current_loss = loss.item()\n",
    "            losses.append(current_loss)\n",
    "            accuracies.append(acc)\n",
    "            tepoch.set_postfix(loss=loss.item(), accuracy=acc)\n",
    "            \n",
    "    neural_cf_model.eval()\n",
    "    with torch.no_grad():\n",
    "        with tqdm(valid_ds_dl, unit=\"batch\") as tepoch:\n",
    "            for batch in tepoch:\n",
    "                tepoch.set_description(f\"Epoch {epoch} val\")\n",
    "                labels = batch[LABELS]\n",
    "                preds = neural_cf_model(batch[USERS], batch[SERVICES])\n",
    "                loss = loss_function(preds, labels)\n",
    "                acc = accuracy_function(preds, labels)\n",
    "\n",
    "                current_loss = loss.item()\n",
    "                val_losses.append(current_loss)\n",
    "                val_accuracies.append(acc)\n",
    "                tepoch.set_postfix(val_loss=loss.item(), val_accuracy=acc)\n",
    "    \n",
    "\n",
    "end = time.time()\n",
    "\n",
    "print(f\"Total training time: {end-start}\")"
   ]
  },
  {
   "cell_type": "markdown",
   "id": "julian-irrigation",
   "metadata": {},
   "source": [
    "### Visualize loss"
   ]
  },
  {
   "cell_type": "code",
   "execution_count": 44,
   "id": "pretty-defendant",
   "metadata": {},
   "outputs": [
    {
     "data": {
      "image/png": "[encoded data removed]",
      "text/plain": [
       "<Figure size 432x288 with 1 Axes>"
      ]
     },
     "metadata": {
      "needs_background": "light"
     },
     "output_type": "display_data"
    }
   ],
   "source": [
    "plt.plot([float(loss) for loss in losses])\n",
    "plt.show()"
   ]
  },
  {
   "cell_type": "code",
   "execution_count": 45,
   "id": "meaningful-colorado",
   "metadata": {},
   "outputs": [
    {
     "data": {
      "image/png": "[encoded data removed]",
      "text/plain": [
       "<Figure size 432x288 with 1 Axes>"
      ]
     },
     "metadata": {
      "needs_background": "light"
     },
     "output_type": "display_data"
    }
   ],
   "source": [
    "plt.plot([float(loss) for loss in val_losses])\n",
    "plt.show()"
   ]
  },
  {
   "cell_type": "markdown",
   "id": "christian-necklace",
   "metadata": {},
   "source": [
    "### Visualize accuracy"
   ]
  },
  {
   "cell_type": "code",
   "execution_count": 46,
   "id": "normal-soccer",
   "metadata": {},
   "outputs": [
    {
     "data": {
      "image/png": "[encoded data removed]",
      "text/plain": [
       "<Figure size 432x288 with 1 Axes>"
      ]
     },
     "metadata": {
      "needs_background": "light"
     },
     "output_type": "display_data"
    }
   ],
   "source": [
    "plt.plot([float(acc) for acc in accuracies])\n",
    "plt.show()"
   ]
  },
  {
   "cell_type": "code",
   "execution_count": 47,
   "id": "stock-chorus",
   "metadata": {},
   "outputs": [
    {
     "data": {
      "image/png": "[encoded data removed]",
      "text/plain": [
       "<Figure size 432x288 with 1 Axes>"
      ]
     },
     "metadata": {
      "needs_background": "light"
     },
     "output_type": "display_data"
    }
   ],
   "source": [
    "plt.plot([float(acc) for acc in val_accuracies])\n",
    "plt.show()"
   ]
  },
  {
   "cell_type": "markdown",
   "id": "sized-heath",
   "metadata": {},
   "source": [
    "### Model saving"
   ]
  },
  {
   "cell_type": "markdown",
   "id": "vulnerable-fantasy",
   "metadata": {},
   "source": [
    "Transformers are save automatically after creation and fitting inside raw_dataset_to_tensors function so only model should be saved manually."
   ]
  },
  {
   "cell_type": "code",
   "execution_count": 16,
   "id": "experimental-martin",
   "metadata": {},
   "outputs": [],
   "source": [
    "save_module(neural_cf_model, name=NEURAL_CF)"
   ]
  },
  {
   "cell_type": "markdown",
   "id": "written-masters",
   "metadata": {},
   "source": [
    "### Future inferention optimization"
   ]
  },
  {
   "cell_type": "markdown",
   "id": "moral-election",
   "metadata": {},
   "source": [
    "In order to make inferention faster the whole preprocessing pipeline (mongo models to dataframes and dataframes to tensors) can be precalculated for all users and services in the database."
   ]
  },
  {
   "cell_type": "markdown",
   "id": "historical-airport",
   "metadata": {},
   "source": [
    "##### mongo models to dataframes precalculation"
   ]
  },
  {
   "cell_type": "markdown",
   "id": "determined-battlefield",
   "metadata": {},
   "source": [
    "You can also calculate dataframes during creating raw dataset by passing `save_df=True` parameter to the `create_raw_dataset` function, rather than using below function."
   ]
  },
  {
   "cell_type": "code",
   "execution_count": 17,
   "id": "further-earth",
   "metadata": {},
   "outputs": [
    {
     "data": {
      "application/vnd.jupyter.widget-view+json": {
       "model_id": "8f8865994ca548ba8d12ae9a4964efb3",
       "version_major": 2,
       "version_minor": 0
      },
      "text/plain": [
       "  0%|          | 0/100 [00:00<?, ?it/s]"
      ]
     },
     "metadata": {},
     "output_type": "display_data"
    },
    {
     "data": {
      "application/vnd.jupyter.widget-view+json": {
       "model_id": "20783a8317cd4a61ba88b7c3f7edb6cc",
       "version_major": 2,
       "version_minor": 0
      },
      "text/plain": [
       "  0%|          | 0/110 [00:00<?, ?it/s]"
      ]
     },
     "metadata": {},
     "output_type": "display_data"
    },
    {
     "name": "stdout",
     "output_type": "stream",
     "text": [
      "CPU times: user 5.69 s, sys: 60.3 ms, total: 5.75 s\n",
      "Wall time: 5.68 s\n"
     ]
    }
   ],
   "source": [
    "%time calculate_dfs_for_users_and_services()"
   ]
  },
  {
   "cell_type": "markdown",
   "id": "loaded-complement",
   "metadata": {},
   "source": [
    "##### dataframes to tensors precalculation"
   ]
  },
  {
   "cell_type": "code",
   "execution_count": 18,
   "id": "lyric-question",
   "metadata": {},
   "outputs": [
    {
     "data": {
      "application/vnd.jupyter.widget-view+json": {
       "model_id": "e5a875f64dbb46618d171841ba0e1a4d",
       "version_major": 2,
       "version_minor": 0
      },
      "text/plain": [
       "  0%|          | 0/100 [00:00<?, ?it/s]"
      ]
     },
     "metadata": {},
     "output_type": "display_data"
    },
    {
     "data": {
      "application/vnd.jupyter.widget-view+json": {
       "model_id": "e79b5cc3392a4b0092df58a9e73892e5",
       "version_major": 2,
       "version_minor": 0
      },
      "text/plain": [
       "0it [00:00, ?it/s]"
      ]
     },
     "metadata": {},
     "output_type": "display_data"
    },
    {
     "data": {
      "application/vnd.jupyter.widget-view+json": {
       "model_id": "41ac1fe11f1b4bbaa0d3ab94b2a158ff",
       "version_major": 2,
       "version_minor": 0
      },
      "text/plain": [
       "  0%|          | 0/110 [00:00<?, ?it/s]"
      ]
     },
     "metadata": {},
     "output_type": "display_data"
    },
    {
     "data": {
      "application/vnd.jupyter.widget-view+json": {
       "model_id": "1d80411d727c44c39f839fb7f1cd9ebd",
       "version_major": 2,
       "version_minor": 0
      },
      "text/plain": [
       "0it [00:00, ?it/s]"
      ]
     },
     "metadata": {},
     "output_type": "display_data"
    },
    {
     "name": "stdout",
     "output_type": "stream",
     "text": [
      "CPU times: user 1.52 s, sys: 19.8 ms, total: 1.54 s\n",
      "Wall time: 1.51 s\n"
     ]
    }
   ],
   "source": [
    "%time calculate_tensors_for_users_and_services()"
   ]
  },
  {
   "cell_type": "markdown",
   "id": "engaging-guinea",
   "metadata": {},
   "source": [
    "### Inferention"
   ]
  },
  {
   "cell_type": "markdown",
   "id": "trying-prototype",
   "metadata": {},
   "source": [
    "Last saved transformers are automaticaly loaded by inference functions\n",
    "but you can load them manually in the following way:\n",
    "\n",
    "`user_transformer = load_last_transformer(USERS)\n",
    "service_transformer = load_last_transformer(SERVICES)`"
   ]
  },
  {
   "cell_type": "markdown",
   "id": "unexpected-intelligence",
   "metadata": {},
   "source": [
    "Model loading:"
   ]
  },
  {
   "cell_type": "code",
   "execution_count": 19,
   "id": "advanced-respect",
   "metadata": {},
   "outputs": [],
   "source": [
    "neural_cf_model = load_last_module(NEURAL_CF)"
   ]
  },
  {
   "cell_type": "markdown",
   "id": "convinced-sierra",
   "metadata": {},
   "source": [
    "Inferention data preparing"
   ]
  },
  {
   "cell_type": "code",
   "execution_count": 20,
   "id": "southern-controversy",
   "metadata": {},
   "outputs": [],
   "source": [
    "user = User.objects[0]\n",
    "services = list(Service.objects)\n",
    "service = services[0]"
   ]
  },
  {
   "cell_type": "markdown",
   "id": "possible-bunny",
   "metadata": {},
   "source": [
    "##### WARNING!\n",
    "transform user and service to tensors - if you precalculated dataframes and tensors before, they will be reused due to optimization"
   ]
  },
  {
   "cell_type": "code",
   "execution_count": 21,
   "id": "informational-riding",
   "metadata": {},
   "outputs": [
    {
     "name": "stdout",
     "output_type": "stream",
     "text": [
      "CPU times: user 1.18 ms, sys: 0 ns, total: 1.18 ms\n",
      "Wall time: 1.08 ms\n"
     ]
    }
   ],
   "source": [
    "%%time\n",
    "users_tensor, services_tensor = user_and_service_to_tensors(user, service)"
   ]
  },
  {
   "cell_type": "markdown",
   "id": "surface-duration",
   "metadata": {},
   "source": [
    "Inference!"
   ]
  },
  {
   "cell_type": "code",
   "execution_count": 22,
   "id": "furnished-prerequisite",
   "metadata": {},
   "outputs": [
    {
     "name": "stdout",
     "output_type": "stream",
     "text": [
      "CPU times: user 1.76 ms, sys: 0 ns, total: 1.76 ms\n",
      "Wall time: 1.05 ms\n"
     ]
    }
   ],
   "source": [
    "%%time\n",
    "prediction = neural_cf_model(users_tensor, services_tensor).item()"
   ]
  },
  {
   "cell_type": "code",
   "execution_count": 23,
   "id": "herbal-running",
   "metadata": {},
   "outputs": [
    {
     "name": "stdout",
     "output_type": "stream",
     "text": [
      "Inferenced probability: 0.4979735314846039\n"
     ]
    }
   ],
   "source": [
    "print(f\"Inferenced probability: {prediction}\")"
   ]
  },
  {
   "cell_type": "markdown",
   "id": "handled-amino",
   "metadata": {},
   "source": [
    "##### WARNING!\n",
    "Transform user and multiple services - this function is used by recommendation endpoint and it demans dataframes and tensors precalculation"
   ]
  },
  {
   "cell_type": "code",
   "execution_count": 24,
   "id": "appreciated-jason",
   "metadata": {},
   "outputs": [
    {
     "name": "stdout",
     "output_type": "stream",
     "text": [
      "CPU times: user 72.1 ms, sys: 0 ns, total: 72.1 ms\n",
      "Wall time: 69.5 ms\n"
     ]
    }
   ],
   "source": [
    "%%time\n",
    "users_tensor, services_tensor = user_and_services_to_tensors(user, services)"
   ]
  },
  {
   "cell_type": "markdown",
   "id": "round-conclusion",
   "metadata": {},
   "source": [
    "Inference!"
   ]
  },
  {
   "cell_type": "code",
   "execution_count": 25,
   "id": "mechanical-joining",
   "metadata": {},
   "outputs": [
    {
     "name": "stdout",
     "output_type": "stream",
     "text": [
      "CPU times: user 5 µs, sys: 0 ns, total: 5 µs\n",
      "Wall time: 11 µs\n"
     ]
    }
   ],
   "source": [
    "%time\n",
    "predictions = neural_cf_model(users_tensor, services_tensor)"
   ]
  },
  {
   "cell_type": "code",
   "execution_count": 26,
   "id": "continued-secondary",
   "metadata": {},
   "outputs": [
    {
     "name": "stdout",
     "output_type": "stream",
     "text": [
      "Inferenced probabilities: tensor([[0.4980],\n",
      "        [0.4980],\n",
      "        [0.4979],\n",
      "        [0.4980],\n",
      "        [0.4981],\n",
      "        [0.4980],\n",
      "        [0.4980],\n",
      "        [0.4981],\n",
      "        [0.4980],\n",
      "        [0.4980],\n",
      "        [0.4980],\n",
      "        [0.4980],\n",
      "        [0.4979],\n",
      "        [0.4980],\n",
      "        [0.4979],\n",
      "        [0.4980],\n",
      "        [0.4980],\n",
      "        [0.4981],\n",
      "        [0.4980],\n",
      "        [0.4980],\n",
      "        [0.4980],\n",
      "        [0.4979],\n",
      "        [0.4980],\n",
      "        [0.4979],\n",
      "        [0.4980],\n",
      "        [0.4980],\n",
      "        [0.4980],\n",
      "        [0.4980],\n",
      "        [0.4980],\n",
      "        [0.4980],\n",
      "        [0.4981],\n",
      "        [0.4980],\n",
      "        [0.4980],\n",
      "        [0.4980],\n",
      "        [0.4980],\n",
      "        [0.4979],\n",
      "        [0.4980],\n",
      "        [0.4980],\n",
      "        [0.4980],\n",
      "        [0.4978],\n",
      "        [0.4980],\n",
      "        [0.4980],\n",
      "        [0.4981],\n",
      "        [0.4980],\n",
      "        [0.4981],\n",
      "        [0.4980],\n",
      "        [0.4980],\n",
      "        [0.4980],\n",
      "        [0.4979],\n",
      "        [0.4980],\n",
      "        [0.4980],\n",
      "        [0.4981],\n",
      "        [0.4980],\n",
      "        [0.4979],\n",
      "        [0.4980],\n",
      "        [0.4979],\n",
      "        [0.4980],\n",
      "        [0.4980],\n",
      "        [0.4980],\n",
      "        [0.4980],\n",
      "        [0.4980],\n",
      "        [0.4980],\n",
      "        [0.4980],\n",
      "        [0.4980],\n",
      "        [0.4980],\n",
      "        [0.4981],\n",
      "        [0.4980],\n",
      "        [0.4981],\n",
      "        [0.4980],\n",
      "        [0.4981],\n",
      "        [0.4981],\n",
      "        [0.4980],\n",
      "        [0.4981],\n",
      "        [0.4980],\n",
      "        [0.4980],\n",
      "        [0.4981],\n",
      "        [0.4980],\n",
      "        [0.4979],\n",
      "        [0.4980],\n",
      "        [0.4980],\n",
      "        [0.4980],\n",
      "        [0.4981],\n",
      "        [0.4980],\n",
      "        [0.4980],\n",
      "        [0.4980],\n",
      "        [0.4980],\n",
      "        [0.4980],\n",
      "        [0.4980],\n",
      "        [0.4981],\n",
      "        [0.4980],\n",
      "        [0.4980],\n",
      "        [0.4980],\n",
      "        [0.4980],\n",
      "        [0.4980],\n",
      "        [0.4981],\n",
      "        [0.4981],\n",
      "        [0.4980],\n",
      "        [0.4980],\n",
      "        [0.4980],\n",
      "        [0.4980],\n",
      "        [0.4980],\n",
      "        [0.4980],\n",
      "        [0.4980],\n",
      "        [0.4980],\n",
      "        [0.4982],\n",
      "        [0.4981],\n",
      "        [0.4980],\n",
      "        [0.4981],\n",
      "        [0.4980],\n",
      "        [0.4979]], grad_fn=<SigmoidBackward>)\n"
     ]
    }
   ],
   "source": [
    "print(f\"Inferenced probabilities: {predictions}\")"
   ]
  },
  {
   "cell_type": "markdown",
   "id": "unauthorized-metadata",
   "metadata": {},
   "source": [
    "TODO: users and services RAM loading in preagent"
   ]
  },
  {
   "cell_type": "code",
   "execution_count": null,
   "id": "protective-pittsburgh",
   "metadata": {},
   "outputs": [],
   "source": [
    "train test split"
   ]
  }
 ],
 "metadata": {
  "kernelspec": {
   "display_name": "Python 3",
   "language": "python",
   "name": "python3"
  },
  "language_info": {
   "codemirror_mode": {
    "name": "ipython",
    "version": 3
   },
   "file_extension": ".py",
   "mimetype": "text/x-python",
   "name": "python",
   "nbconvert_exporter": "python",
   "pygments_lexer": "ipython3",
   "version": "3.7.5"
  }
 },
 "nbformat": 4,
 "nbformat_minor": 5
}
