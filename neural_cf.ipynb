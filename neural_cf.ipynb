{
 "cells": [
  {
   "cell_type": "markdown",
   "id": "numerous-berlin",
   "metadata": {
    "pycharm": {
     "name": "#%% md\n"
    }
   },
   "source": [
    "### Import section"
   ]
  },
  {
   "cell_type": "code",
   "execution_count": null,
   "outputs": [],
   "source": [
    "from dotenv import load_dotenv\n",
    "\n",
    "load_dotenv()\n",
    "\n",
    "import torch\n",
    "from torch.utils.tensorboard import SummaryWriter\n",
    "from torch.utils.data import DataLoader\n",
    "from torch.optim import Adam\n",
    "\n",
    "import numpy as np\n",
    "from matplotlib import pyplot as plt\n",
    "from sklearn.metrics import classification_report, precision_recall_curve, roc_curve\n",
    "\n",
    "from mongoengine import connect, disconnect\n",
    "from IPython.display import Image\n",
    "\n",
    "from settings import DevelopmentConfig\n",
    "\n",
    "from recommender.models import User, Service\n",
    "from recommender.engine.preprocessing import (\n",
    "    SERVICES,\n",
    "    USERS,\n",
    "    user_and_service_to_tensors,\n",
    "    user_and_services_to_tensors,\n",
    ")\n",
    "from recommender.engine.datasets.autoencoders import get_autoencoder_dataset_name\n",
    "from recommender.engine.utils import (\n",
    "    load_last_dataset,\n",
    "    TRAIN,\n",
    "    VALID,\n",
    "    TEST,\n",
    "    load_last_module,\n",
    "    save_module,\n",
    ")\n",
    "from recommender.engine.training.autoencoders import (\n",
    "    train_autoencoder,\n",
    "    autoencoder_loss_function,\n",
    ")\n",
    "from recommender.engine.visualization.autoencoders import (\n",
    "    get_random_reconstructions,\n",
    "    plot_reconstructions,\n",
    ")\n",
    "from recommender.engine.models.autoencoders import (\n",
    "    create_autoencoder_model,\n",
    "    create_embedder,\n",
    "    SERVICES_AUTOENCODER,\n",
    "    USERS_AUTOENCODER,\n",
    ")\n",
    "\n",
    "from recommender.engine.agents.pre_agent.models import NEURAL_CF\n",
    "from recommender.engine.agents.pre_agent.training.neural_collaborative_filtering import (\n",
    "    train_ncf,\n",
    "    evaluate_ncf,\n",
    "    accuracy_function,\n",
    ")\n",
    "from recommender.engine.agents.pre_agent.models.neural_colaborative_filtering import (\n",
    "    create_nfc_model,\n",
    "    get_preds_for_ds,\n",
    ")"
   ],
   "metadata": {
    "collapsed": false,
    "pycharm": {
     "name": "#%%\n"
    }
   }
  },
  {
   "cell_type": "markdown",
   "source": [
    "### connect to database"
   ],
   "metadata": {
    "collapsed": false,
    "pycharm": {
     "name": "#%% md\n"
    }
   }
  },
  {
   "cell_type": "code",
   "execution_count": null,
   "outputs": [],
   "source": [
    "disconnect()\n",
    "connect(host=DevelopmentConfig.MONGODB_HOST)"
   ],
   "metadata": {
    "collapsed": false,
    "pycharm": {
     "name": "#%%\n"
    }
   }
  },
  {
   "cell_type": "markdown",
   "source": [
    "### set device"
   ],
   "metadata": {
    "collapsed": false,
    "pycharm": {
     "name": "#%% md\n"
    }
   }
  },
  {
   "cell_type": "code",
   "execution_count": null,
   "outputs": [],
   "source": [
    "device = torch.device(\"cuda\" if torch.cuda.is_available() else \"cpu\")\n",
    "device"
   ],
   "metadata": {
    "collapsed": false,
    "pycharm": {
     "name": "#%%\n"
    }
   }
  },
  {
   "cell_type": "markdown",
   "source": [
    "### writer\n",
    "Needed for logging trainings results to the tensorboard (start tensorboard from terminal with `tensorboard --logdir=runs`)"
   ],
   "metadata": {
    "collapsed": false,
    "pycharm": {
     "name": "#%% md\n"
    }
   }
  },
  {
   "cell_type": "code",
   "execution_count": null,
   "outputs": [],
   "source": [
    "writer = SummaryWriter()"
   ],
   "metadata": {
    "collapsed": false,
    "pycharm": {
     "name": "#%%\n"
    }
   }
  },
  {
   "cell_type": "markdown",
   "source": [
    "### datasets generation"
   ],
   "metadata": {
    "collapsed": false,
    "pycharm": {
     "name": "#%% md\n"
    }
   }
  },
  {
   "cell_type": "markdown",
   "source": [
    "Use if there are no datasets available in the database"
   ],
   "metadata": {
    "collapsed": false,
    "pycharm": {
     "name": "#%% md\n"
    }
   }
  },
  {
   "cell_type": "code",
   "execution_count": null,
   "outputs": [],
   "source": [
    "# all_datasets = create_datasets()"
   ],
   "metadata": {
    "collapsed": false,
    "pycharm": {
     "name": "#%%\n"
    }
   }
  },
  {
   "cell_type": "markdown",
   "source": [
    "# User and Service Auto-Encoders"
   ],
   "metadata": {
    "collapsed": false,
    "pycharm": {
     "name": "#%% md\n"
    }
   }
  },
  {
   "cell_type": "markdown",
   "source": [
    "### Load Service Autoencoder datasets"
   ],
   "metadata": {
    "collapsed": false,
    "pycharm": {
     "name": "#%% md\n"
    }
   }
  },
  {
   "cell_type": "code",
   "execution_count": null,
   "outputs": [],
   "source": [
    "# SERVICE AUTOENCODER\n",
    "service_autoencoder_train_ds = load_last_dataset(\n",
    "    get_autoencoder_dataset_name(SERVICES, TRAIN)\n",
    ")\n",
    "service_autoencoder_valid_ds = load_last_dataset(\n",
    "    get_autoencoder_dataset_name(SERVICES, VALID)\n",
    ")\n",
    "service_autoencoder_test_ds = load_last_dataset(\n",
    "    get_autoencoder_dataset_name(SERVICES, TEST)\n",
    ")\n",
    "\n",
    "SERVICE_AE_BATCH_SIZE = 128\n",
    "\n",
    "service_autoencoder_train_ds_dl = DataLoader(\n",
    "    service_autoencoder_train_ds, batch_size=SERVICE_AE_BATCH_SIZE, shuffle=True\n",
    ")\n",
    "service_autoencoder_valid_ds_dl = DataLoader(\n",
    "    service_autoencoder_valid_ds, batch_size=SERVICE_AE_BATCH_SIZE, shuffle=True\n",
    ")\n",
    "service_autoencoder_test_ds_dl = DataLoader(\n",
    "    service_autoencoder_test_ds, batch_size=SERVICE_AE_BATCH_SIZE, shuffle=True\n",
    ")"
   ],
   "metadata": {
    "collapsed": false,
    "pycharm": {
     "name": "#%%\n"
    }
   }
  },
  {
   "cell_type": "markdown",
   "source": [
    "### Create and train Service  Autoencoder"
   ],
   "metadata": {
    "collapsed": false,
    "pycharm": {
     "name": "#%% md\n"
    }
   }
  },
  {
   "cell_type": "code",
   "execution_count": null,
   "outputs": [],
   "source": [
    "SERVICE_FEATURES_DIM = len(Service.objects[0].tensor)\n",
    "SERVICE_EMBEDDING_DIM = 64\n",
    "\n",
    "service_autoencoder_model = create_autoencoder_model(\n",
    "    SERVICES,\n",
    "    features_dim=SERVICE_FEATURES_DIM,\n",
    "    embedding_dim=SERVICE_EMBEDDING_DIM,\n",
    "    writer=writer,\n",
    "    train_ds_dl=service_autoencoder_train_ds_dl,\n",
    "    device=device,\n",
    ")\n",
    "\n",
    "LR = 0.01\n",
    "optimizer = Adam(service_autoencoder_model.parameters(), lr=LR)\n",
    "\n",
    "EPOCHS = 2000\n",
    "\n",
    "trained_service_autoencoder_model = train_autoencoder(\n",
    "    model=service_autoencoder_model,\n",
    "    optimizer=optimizer,\n",
    "    loss_function=autoencoder_loss_function,\n",
    "    epochs=EPOCHS,\n",
    "    train_ds_dl=service_autoencoder_train_ds_dl,\n",
    "    valid_ds_dl=service_autoencoder_valid_ds_dl,\n",
    "    writer=writer,\n",
    "    save_period=10,\n",
    "    verbose=False,\n",
    "    device=device,\n",
    ")"
   ],
   "metadata": {
    "collapsed": false,
    "pycharm": {
     "name": "#%%\n"
    }
   }
  },
  {
   "cell_type": "markdown",
   "source": [
    "### Visualize Service Autoencoder reconstructions"
   ],
   "metadata": {
    "collapsed": false,
    "pycharm": {
     "name": "#%% md\n"
    }
   }
  },
  {
   "cell_type": "code",
   "execution_count": null,
   "outputs": [],
   "source": [
    "features, reconstructions = get_random_reconstructions(\n",
    "    trained_service_autoencoder_model, service_autoencoder_valid_ds, device=device\n",
    ")\n",
    "plot_reconstructions(features, reconstructions)"
   ],
   "metadata": {
    "collapsed": false,
    "pycharm": {
     "name": "#%%\n"
    }
   }
  },
  {
   "cell_type": "markdown",
   "source": [
    "### Save Service Autoencoder model"
   ],
   "metadata": {
    "collapsed": false,
    "pycharm": {
     "name": "#%% md\n"
    }
   }
  },
  {
   "cell_type": "code",
   "execution_count": null,
   "outputs": [],
   "source": [
    "save_module(trained_service_autoencoder_model, name=SERVICES_AUTOENCODER)"
   ],
   "metadata": {
    "collapsed": false,
    "pycharm": {
     "name": "#%%\n"
    }
   }
  },
  {
   "cell_type": "markdown",
   "source": [
    "### Load User Autoencoder datasets"
   ],
   "metadata": {
    "collapsed": false,
    "pycharm": {
     "name": "#%% md\n"
    }
   }
  },
  {
   "cell_type": "code",
   "execution_count": null,
   "outputs": [],
   "source": [
    "user_autoencoder_train_ds = load_last_dataset(\n",
    "    get_autoencoder_dataset_name(USERS, TRAIN)\n",
    ")\n",
    "user_autoencoder_valid_ds = load_last_dataset(\n",
    "    get_autoencoder_dataset_name(USERS, VALID)\n",
    ")\n",
    "user_autoencoder_test_ds = load_last_dataset(get_autoencoder_dataset_name(USERS, TEST))\n",
    "\n",
    "USER_AE_BATCH_SIZE = 128\n",
    "\n",
    "user_autoencoder_train_ds_dl = DataLoader(\n",
    "    user_autoencoder_train_ds, batch_size=USER_AE_BATCH_SIZE, shuffle=True\n",
    ")\n",
    "user_autoencoder_valid_ds_dl = DataLoader(\n",
    "    user_autoencoder_valid_ds, batch_size=USER_AE_BATCH_SIZE, shuffle=True\n",
    ")\n",
    "user_autoencoder_test_ds_dl = DataLoader(\n",
    "    user_autoencoder_test_ds, batch_size=USER_AE_BATCH_SIZE, shuffle=True\n",
    ")"
   ],
   "metadata": {
    "collapsed": false,
    "pycharm": {
     "name": "#%%\n"
    }
   }
  },
  {
   "cell_type": "markdown",
   "source": [
    "### Create and train User  Autoencoder"
   ],
   "metadata": {
    "collapsed": false,
    "pycharm": {
     "name": "#%% md\n"
    }
   }
  },
  {
   "cell_type": "code",
   "execution_count": null,
   "outputs": [],
   "source": [
    "USER_FEATURES_DIM = len(User.objects[0].tensor)\n",
    "USER_EMBEDDING_DIM = 32\n",
    "\n",
    "user_autoencoder_model = create_autoencoder_model(\n",
    "    USERS,\n",
    "    features_dim=USER_FEATURES_DIM,\n",
    "    embedding_dim=USER_EMBEDDING_DIM,\n",
    "    writer=writer,\n",
    "    train_ds_dl=user_autoencoder_train_ds_dl,\n",
    "    device=device,\n",
    ")\n",
    "\n",
    "LR = 0.01\n",
    "optimizer = Adam(user_autoencoder_model.parameters(), lr=LR)\n",
    "\n",
    "EPOCHS = 2000\n",
    "\n",
    "trained_user_autoencoder_model = train_autoencoder(\n",
    "    model=user_autoencoder_model,\n",
    "    optimizer=optimizer,\n",
    "    loss_function=autoencoder_loss_function,\n",
    "    epochs=EPOCHS,\n",
    "    train_ds_dl=user_autoencoder_train_ds_dl,\n",
    "    valid_ds_dl=user_autoencoder_valid_ds_dl,\n",
    "    writer=writer,\n",
    "    save_period=10,\n",
    "    verbose=False,\n",
    "    device=device,\n",
    ")"
   ],
   "metadata": {
    "collapsed": false,
    "pycharm": {
     "name": "#%%\n"
    }
   }
  },
  {
   "cell_type": "markdown",
   "source": [
    "### Visualize User Autoencoder reconstructions"
   ],
   "metadata": {
    "collapsed": false,
    "pycharm": {
     "name": "#%% md\n"
    }
   }
  },
  {
   "cell_type": "code",
   "execution_count": null,
   "outputs": [],
   "source": [
    "features, reconstructions = get_random_reconstructions(\n",
    "    trained_user_autoencoder_model, user_autoencoder_valid_ds, device=device\n",
    ")\n",
    "plot_reconstructions(features, reconstructions)"
   ],
   "metadata": {
    "collapsed": false,
    "pycharm": {
     "name": "#%%\n"
    }
   }
  },
  {
   "cell_type": "markdown",
   "source": [
    "### Save User Autoencoder model"
   ],
   "metadata": {
    "collapsed": false,
    "pycharm": {
     "name": "#%% md\n"
    }
   }
  },
  {
   "cell_type": "code",
   "execution_count": null,
   "outputs": [],
   "source": [
    "save_module(trained_user_autoencoder_model, name=USERS_AUTOENCODER)"
   ],
   "metadata": {
    "collapsed": false,
    "pycharm": {
     "name": "#%%\n"
    }
   }
  },
  {
   "cell_type": "markdown",
   "source": [
    "# NCF"
   ],
   "metadata": {
    "collapsed": false,
    "pycharm": {
     "name": "#%% md\n"
    }
   }
  },
  {
   "cell_type": "markdown",
   "source": [
    "### Users orders number histogram"
   ],
   "metadata": {
    "collapsed": false,
    "pycharm": {
     "name": "#%% md\n"
    }
   }
  },
  {
   "cell_type": "code",
   "execution_count": null,
   "outputs": [],
   "source": [
    "orderings = [len(user.accessed_services) for user in User.objects]\n",
    "y = list(filter(lambda x: x > 0, orderings))\n",
    "fig = plt.figure(figsize=(20, 10))\n",
    "plt.hist(y, np.arange(max(y) + 1) - 0.5)\n",
    "None"
   ],
   "metadata": {
    "collapsed": false,
    "pycharm": {
     "name": "#%%\n"
    }
   }
  },
  {
   "cell_type": "markdown",
   "source": [
    "### Load NCF Autoencoder datasets"
   ],
   "metadata": {
    "collapsed": false,
    "pycharm": {
     "name": "#%% md\n"
    }
   }
  },
  {
   "cell_type": "code",
   "execution_count": null,
   "outputs": [],
   "source": [
    "ncf_train_ds = load_last_dataset(f\"{NEURAL_CF} {TRAIN} dataset\")\n",
    "ncf_valid_ds = load_last_dataset(f\"{NEURAL_CF} {VALID} dataset\")\n",
    "ncf_test_ds = load_last_dataset(f\"{NEURAL_CF} {TEST} dataset\")\n",
    "\n",
    "print(f\"train_ds size: {len(ncf_train_ds)}\")\n",
    "print(f\"valid_ds size: {len(ncf_valid_ds)}\")\n",
    "print(f\"test_ds size: {len(ncf_test_ds)}\")\n",
    "\n",
    "BATCH_SIZE = 32\n",
    "\n",
    "ncf_train_ds_dl = DataLoader(ncf_train_ds, batch_size=BATCH_SIZE, shuffle=True)\n",
    "ncf_valid_ds_dl = DataLoader(ncf_valid_ds, batch_size=BATCH_SIZE, shuffle=True)\n",
    "ncf_test_ds_dl = DataLoader(ncf_test_ds, batch_size=BATCH_SIZE, shuffle=True)"
   ],
   "metadata": {
    "collapsed": false,
    "pycharm": {
     "name": "#%%\n"
    }
   }
  },
  {
   "cell_type": "markdown",
   "source": [
    "### Create User and Service Embedders from Autoencoders"
   ],
   "metadata": {
    "collapsed": false,
    "pycharm": {
     "name": "#%% md\n"
    }
   }
  },
  {
   "cell_type": "code",
   "execution_count": null,
   "outputs": [],
   "source": [
    "service_embedder = create_embedder(trained_service_autoencoder_model)"
   ],
   "metadata": {
    "collapsed": false,
    "pycharm": {
     "name": "#%%\n"
    }
   }
  },
  {
   "cell_type": "code",
   "execution_count": null,
   "outputs": [],
   "source": [
    "user_embedder = create_embedder(trained_user_autoencoder_model)"
   ],
   "metadata": {
    "collapsed": false,
    "pycharm": {
     "name": "#%%\n"
    }
   }
  },
  {
   "cell_type": "markdown",
   "source": [
    "### Set some training constants"
   ],
   "metadata": {
    "collapsed": false,
    "pycharm": {
     "name": "#%% md\n"
    }
   }
  },
  {
   "cell_type": "code",
   "execution_count": null,
   "outputs": [],
   "source": [
    "USERS_MAX_ID = User.objects.order_by(\"-id\").first().id\n",
    "SERVICES_MAX_ID = Service.objects.order_by(\"-id\").first().id\n",
    "\n",
    "MF_EMBEDDING_DIM = 64\n",
    "USER_IDS_EMBEDDING_DIM = 64\n",
    "SERVICE_IDS_EMBEDDING_DIM = 64\n",
    "\n",
    "MLP_LAYERS_SPEC = [64, 32, 16, 8]\n",
    "CONTENT_MLP_LAYERS_SPEC = [128, 64, 32]"
   ],
   "metadata": {
    "collapsed": false,
    "pycharm": {
     "name": "#%%\n"
    }
   }
  },
  {
   "cell_type": "markdown",
   "source": [
    "### Neural Collaborative Filtering Model Schema"
   ],
   "metadata": {
    "collapsed": false,
    "pycharm": {
     "name": "#%% md\n"
    }
   }
  },
  {
   "cell_type": "code",
   "execution_count": null,
   "outputs": [],
   "source": [
    "ncf_architecture_image_path = (\n",
    "    \"./recommender/engine/pre_agent/models/neural_cf_architecture.png\"\n",
    ")\n",
    "Image(url=ncf_architecture_image_path, width=800)"
   ],
   "metadata": {
    "collapsed": false,
    "pycharm": {
     "name": "#%%\n"
    }
   }
  },
  {
   "cell_type": "markdown",
   "source": [
    "### Create and train NCF model"
   ],
   "metadata": {
    "collapsed": false,
    "pycharm": {
     "name": "#%% md\n"
    }
   }
  },
  {
   "cell_type": "code",
   "execution_count": null,
   "outputs": [],
   "source": [
    "ncf_model = create_nfc_model(\n",
    "    users_max_id=USERS_MAX_ID,\n",
    "    services_max_id=SERVICES_MAX_ID,\n",
    "    mf_embedding_dim=MF_EMBEDDING_DIM,\n",
    "    user_ids_embedding_dim=USER_IDS_EMBEDDING_DIM,\n",
    "    service_ids_embedding_dim=SERVICE_IDS_EMBEDDING_DIM,\n",
    "    user_embedder=user_embedder,\n",
    "    service_embedder=service_embedder,\n",
    "    mlp_layers_spec=MLP_LAYERS_SPEC,\n",
    "    content_mlp_layers_spec=CONTENT_MLP_LAYERS_SPEC,\n",
    "    writer=writer,\n",
    "    train_ds_dl=ncf_train_ds_dl,\n",
    "    device=device,\n",
    ")\n",
    "\n",
    "ncf_loss_function = torch.nn.BCELoss()\n",
    "\n",
    "LR = 0.01\n",
    "ncf_optimizer = Adam(ncf_model.parameters(), lr=LR)\n",
    "\n",
    "EPOCHS = 500\n",
    "\n",
    "trained_ncf_model = train_ncf(\n",
    "    model=ncf_model,\n",
    "    optimizer=ncf_optimizer,\n",
    "    loss_function=ncf_loss_function,\n",
    "    epochs=EPOCHS,\n",
    "    train_ds_dl=ncf_train_ds_dl,\n",
    "    valid_ds_dl=ncf_valid_ds_dl,\n",
    "    save_period=10,\n",
    "    writer=writer,\n",
    "    verbose=False,\n",
    "    device=device,\n",
    ")"
   ],
   "metadata": {
    "collapsed": false,
    "pycharm": {
     "name": "#%%\n"
    }
   }
  },
  {
   "cell_type": "markdown",
   "source": [
    "### Model Evaluation"
   ],
   "metadata": {
    "collapsed": false,
    "pycharm": {
     "name": "#%% md\n"
    }
   }
  },
  {
   "cell_type": "code",
   "execution_count": null,
   "outputs": [],
   "source": [
    "loss, acc = evaluate_ncf(\n",
    "    trained_ncf_model, ncf_test_ds_dl, ncf_loss_function, accuracy_function, device\n",
    ")\n",
    "print(f\"Testing loss: {loss}, testing accuracy: {acc}\")"
   ],
   "metadata": {
    "collapsed": false,
    "pycharm": {
     "name": "#%%\n"
    }
   }
  },
  {
   "cell_type": "markdown",
   "source": [
    "### Classification report"
   ],
   "metadata": {
    "collapsed": false,
    "pycharm": {
     "name": "#%% md\n"
    }
   }
  },
  {
   "cell_type": "code",
   "execution_count": null,
   "outputs": [],
   "source": [
    "labels, preds = get_preds_for_ds(trained_ncf_model, ncf_test_ds)\n",
    "print(classification_report(labels, preds > 0.5))"
   ],
   "metadata": {
    "collapsed": false,
    "pycharm": {
     "name": "#%%\n"
    }
   }
  },
  {
   "cell_type": "markdown",
   "source": [
    "### Precision Recall Curve"
   ],
   "metadata": {
    "collapsed": false,
    "pycharm": {
     "name": "#%% md\n"
    }
   }
  },
  {
   "cell_type": "code",
   "execution_count": null,
   "outputs": [],
   "source": [
    "precision, recall, thresholds = precision_recall_curve(labels, preds)\n",
    "plt.plot(precision, recall)"
   ],
   "metadata": {
    "collapsed": false,
    "pycharm": {
     "name": "#%%\n"
    }
   }
  },
  {
   "cell_type": "markdown",
   "source": [
    "### ROC Curve"
   ],
   "metadata": {
    "collapsed": false,
    "pycharm": {
     "name": "#%% md\n"
    }
   }
  },
  {
   "cell_type": "code",
   "execution_count": null,
   "outputs": [],
   "source": [
    "fpr, tpr, thresholds = roc_curve(labels, preds)\n",
    "x = plt.plot(fpr, tpr)"
   ],
   "metadata": {
    "collapsed": false,
    "pycharm": {
     "name": "#%%\n"
    }
   }
  },
  {
   "cell_type": "markdown",
   "source": [
    "### NCF Model saving"
   ],
   "metadata": {
    "collapsed": false,
    "pycharm": {
     "name": "#%% md\n"
    }
   }
  },
  {
   "cell_type": "markdown",
   "source": [
    "Transformers are save automatically after creation and fitting inside raw_dataset_to_tensors function so only model should be saved manually."
   ],
   "metadata": {
    "collapsed": false,
    "pycharm": {
     "name": "#%% md\n"
    }
   }
  },
  {
   "cell_type": "code",
   "execution_count": null,
   "outputs": [],
   "source": [
    "save_module(trained_ncf_model, name=NEURAL_CF)"
   ],
   "metadata": {
    "collapsed": false,
    "pycharm": {
     "name": "#%%\n"
    }
   }
  },
  {
   "cell_type": "markdown",
   "source": [
    "### Inferention test"
   ],
   "metadata": {
    "collapsed": false,
    "pycharm": {
     "name": "#%% md\n"
    }
   }
  },
  {
   "cell_type": "markdown",
   "source": [
    "Model loading:"
   ],
   "metadata": {
    "collapsed": false,
    "pycharm": {
     "name": "#%% md\n"
    }
   }
  },
  {
   "cell_type": "code",
   "execution_count": null,
   "outputs": [],
   "source": [
    "loaded_ncf_model = load_last_module(NEURAL_CF)"
   ],
   "metadata": {
    "collapsed": false,
    "pycharm": {
     "name": "#%%\n"
    }
   }
  },
  {
   "cell_type": "markdown",
   "source": [
    "Inferention data preparing"
   ],
   "metadata": {
    "collapsed": false,
    "pycharm": {
     "name": "#%% md\n"
    }
   }
  },
  {
   "cell_type": "code",
   "execution_count": null,
   "outputs": [],
   "source": [
    "user = User.objects[0]\n",
    "services = list(Service.objects)\n",
    "service = services[0]"
   ],
   "metadata": {
    "collapsed": false,
    "pycharm": {
     "name": "#%%\n"
    }
   }
  },
  {
   "cell_type": "code",
   "execution_count": null,
   "outputs": [],
   "source": [
    "%%time\n",
    "users_ids, users_tensor, services_ids, services_tensor = user_and_service_to_tensors(\n",
    "    user, service\n",
    ")"
   ],
   "metadata": {
    "collapsed": false,
    "pycharm": {
     "name": "#%%\n"
    }
   }
  },
  {
   "cell_type": "code",
   "execution_count": null,
   "outputs": [],
   "source": [
    "%%time\n",
    "prediction = loaded_ncf_model(\n",
    "    users_ids, users_tensor, services_ids, services_tensor\n",
    ").item()"
   ],
   "metadata": {
    "collapsed": false,
    "pycharm": {
     "name": "#%%\n"
    }
   }
  },
  {
   "cell_type": "code",
   "execution_count": null,
   "outputs": [],
   "source": [
    "print(f\"Inferenced probability: {prediction}\")"
   ],
   "metadata": {
    "collapsed": false,
    "pycharm": {
     "name": "#%%\n"
    }
   }
  },
  {
   "cell_type": "code",
   "execution_count": null,
   "outputs": [],
   "source": [
    "%%time\n",
    "users_ids, users_tensor, services_ids, services_tensor = user_and_services_to_tensors(\n",
    "    user, services\n",
    ")"
   ],
   "metadata": {
    "collapsed": false,
    "pycharm": {
     "name": "#%%\n"
    }
   }
  },
  {
   "cell_type": "code",
   "execution_count": 32,
   "id": "mechanical-joining",
   "metadata": {
    "pycharm": {
     "name": "#%%\n"
    }
   },
   "outputs": [
    {
     "name": "stdout",
     "output_type": "stream",
     "text": [
      "CPU times: user 3 µs, sys: 1 µs, total: 4 µs\n",
      "Wall time: 7.63 µs\n"
     ]
    }
   ],
   "source": [
    "%time\n",
    "predictions = loaded_ncf_model(users_ids, users_tensor, services_ids, services_tensor)"
   ]
  },
  {
   "cell_type": "code",
   "execution_count": 33,
   "id": "continued-secondary",
   "metadata": {
    "pycharm": {
     "name": "#%%\n"
    }
   },
   "outputs": [
    {
     "name": "stdout",
     "output_type": "stream",
     "text": [
      "Inferenced probabilities: tensor([[1.1954e-02],\n",
      "        [2.2071e-01],\n",
      "        [9.9882e-01],\n",
      "        [7.6400e-03],\n",
      "        [1.2707e-02],\n",
      "        [7.6607e-05],\n",
      "        [1.9134e-01],\n",
      "        [4.9203e-01],\n",
      "        [4.7839e-05],\n",
      "        [1.8156e-04],\n",
      "        [1.1601e-01],\n",
      "        [3.1915e-02],\n",
      "        [7.1820e-01],\n",
      "        [4.1285e-04],\n",
      "        [1.0498e-04],\n",
      "        [2.8035e-01],\n",
      "        [6.6242e-01],\n",
      "        [2.1551e-05],\n",
      "        [2.3359e-05],\n",
      "        [7.8448e-02],\n",
      "        [3.6766e-04],\n",
      "        [1.7133e-02],\n",
      "        [2.1821e-02],\n",
      "        [5.3534e-03],\n",
      "        [2.3267e-01],\n",
      "        [3.6103e-04],\n",
      "        [5.4788e-02],\n",
      "        [9.9588e-01],\n",
      "        [7.0121e-03],\n",
      "        [8.5977e-01],\n",
      "        [5.1413e-04],\n",
      "        [5.1531e-03],\n",
      "        [5.0935e-03],\n",
      "        [9.0383e-04],\n",
      "        [8.2331e-01],\n",
      "        [1.0631e-02],\n",
      "        [6.0791e-01],\n",
      "        [8.1915e-02],\n",
      "        [5.1437e-01],\n",
      "        [2.8590e-01],\n",
      "        [1.7564e-03],\n",
      "        [1.5433e-02],\n",
      "        [1.2838e-01],\n",
      "        [9.4030e-01],\n",
      "        [9.9530e-01],\n",
      "        [5.7518e-03],\n",
      "        [9.9466e-01],\n",
      "        [1.3712e-03],\n",
      "        [1.5702e-01],\n",
      "        [2.0865e-04],\n",
      "        [6.5075e-01],\n",
      "        [8.2627e-02],\n",
      "        [9.0999e-01],\n",
      "        [1.8015e-01],\n",
      "        [9.9791e-01],\n",
      "        [2.4924e-02],\n",
      "        [5.2346e-01],\n",
      "        [1.2098e-01],\n",
      "        [7.9547e-04],\n",
      "        [1.2226e-02],\n",
      "        [4.6696e-01],\n",
      "        [1.0538e-03],\n",
      "        [4.2045e-04],\n",
      "        [3.2798e-02],\n",
      "        [9.8446e-05],\n",
      "        [1.3660e-02],\n",
      "        [8.3065e-03],\n",
      "        [8.0647e-01],\n",
      "        [1.3352e-01],\n",
      "        [7.7240e-01],\n",
      "        [9.9267e-01],\n",
      "        [1.6921e-01],\n",
      "        [1.9012e-02],\n",
      "        [9.9982e-01],\n",
      "        [6.2377e-01],\n",
      "        [1.6929e-01],\n",
      "        [3.7984e-03],\n",
      "        [3.6857e-02],\n",
      "        [3.4355e-05],\n",
      "        [6.4356e-05],\n",
      "        [9.8767e-01],\n",
      "        [9.9985e-01],\n",
      "        [1.9343e-01],\n",
      "        [1.1225e-04],\n",
      "        [9.9850e-01],\n",
      "        [2.6321e-02],\n",
      "        [1.8255e-06],\n",
      "        [1.4987e-02],\n",
      "        [9.9945e-01],\n",
      "        [2.5892e-03],\n",
      "        [3.1306e-01],\n",
      "        [9.5302e-01],\n",
      "        [6.3041e-02],\n",
      "        [2.1243e-01],\n",
      "        [1.3565e-02],\n",
      "        [6.8579e-01],\n",
      "        [9.6236e-03],\n",
      "        [2.9883e-04],\n",
      "        [1.0849e-01],\n",
      "        [1.8879e-01],\n",
      "        [9.6198e-01],\n",
      "        [2.2410e-02],\n",
      "        [2.7369e-03],\n",
      "        [7.5375e-04],\n",
      "        [4.6792e-01],\n",
      "        [2.5864e-04],\n",
      "        [6.9061e-03],\n",
      "        [6.8299e-03],\n",
      "        [8.1691e-04],\n",
      "        [3.3270e-01],\n",
      "        [7.8797e-02],\n",
      "        [1.0814e-03],\n",
      "        [3.4599e-02],\n",
      "        [7.0899e-01],\n",
      "        [3.6859e-04],\n",
      "        [3.9061e-02],\n",
      "        [1.3249e-05],\n",
      "        [3.2676e-03],\n",
      "        [2.3487e-01],\n",
      "        [6.6147e-03],\n",
      "        [4.1062e-01],\n",
      "        [4.8880e-05],\n",
      "        [4.0530e-03],\n",
      "        [6.0427e-02],\n",
      "        [2.0440e-02],\n",
      "        [2.4264e-05],\n",
      "        [9.8348e-01],\n",
      "        [6.9820e-02],\n",
      "        [9.7667e-01],\n",
      "        [1.6120e-01],\n",
      "        [2.0621e-03],\n",
      "        [8.7485e-04],\n",
      "        [1.0000e+00],\n",
      "        [6.4485e-02],\n",
      "        [7.6800e-01],\n",
      "        [8.6574e-01],\n",
      "        [7.3840e-05],\n",
      "        [3.3760e-01],\n",
      "        [9.0458e-02],\n",
      "        [2.9214e-02],\n",
      "        [5.8271e-04],\n",
      "        [4.3047e-01],\n",
      "        [8.4297e-01],\n",
      "        [9.9584e-01],\n",
      "        [1.0499e-01],\n",
      "        [7.4629e-01],\n",
      "        [6.5926e-02],\n",
      "        [2.1882e-01],\n",
      "        [3.3843e-02],\n",
      "        [1.3065e-01],\n",
      "        [5.8193e-02],\n",
      "        [9.9882e-01],\n",
      "        [8.1892e-03],\n",
      "        [5.5875e-02],\n",
      "        [7.6840e-01],\n",
      "        [2.3108e-01],\n",
      "        [4.0941e-02],\n",
      "        [7.1538e-01],\n",
      "        [1.4737e-03],\n",
      "        [6.0711e-04],\n",
      "        [9.7575e-01],\n",
      "        [1.1011e-02],\n",
      "        [1.6566e-01],\n",
      "        [1.4047e-01],\n",
      "        [2.3845e-04],\n",
      "        [5.5094e-03],\n",
      "        [1.2293e-01],\n",
      "        [1.1480e-03],\n",
      "        [9.0234e-04],\n",
      "        [7.5443e-02],\n",
      "        [6.3577e-02],\n",
      "        [1.8789e-04],\n",
      "        [4.0590e-02],\n",
      "        [7.9437e-06],\n",
      "        [5.7862e-03],\n",
      "        [3.6882e-01],\n",
      "        [2.1734e-02],\n",
      "        [1.9671e-01],\n",
      "        [3.1262e-02],\n",
      "        [7.9367e-01],\n",
      "        [1.6833e-01],\n",
      "        [7.4136e-01],\n",
      "        [2.1818e-01],\n",
      "        [9.6250e-03],\n",
      "        [1.9516e-04],\n",
      "        [4.2075e-03],\n",
      "        [1.4700e-04],\n",
      "        [9.3247e-01],\n",
      "        [9.9542e-01],\n",
      "        [4.7475e-02],\n",
      "        [2.6048e-05],\n",
      "        [2.7412e-03],\n",
      "        [9.7071e-01],\n",
      "        [4.3396e-04],\n",
      "        [3.4171e-01],\n",
      "        [3.3864e-01],\n",
      "        [7.6379e-01],\n",
      "        [5.2353e-04],\n",
      "        [4.2061e-04],\n",
      "        [1.3995e-01],\n",
      "        [7.0362e-02],\n",
      "        [7.4218e-05],\n",
      "        [1.2749e-01],\n",
      "        [9.9539e-01],\n",
      "        [9.9992e-01],\n",
      "        [1.4438e-03],\n",
      "        [1.4093e-04],\n",
      "        [9.7270e-03],\n",
      "        [8.8575e-02],\n",
      "        [1.0369e-01],\n",
      "        [9.6068e-01],\n",
      "        [5.1088e-02],\n",
      "        [7.7988e-02],\n",
      "        [9.9998e-01],\n",
      "        [2.2350e-04],\n",
      "        [1.0519e-03],\n",
      "        [6.1305e-03],\n",
      "        [1.1493e-06],\n",
      "        [3.2845e-01],\n",
      "        [6.0901e-04],\n",
      "        [1.9442e-04],\n",
      "        [2.6255e-03],\n",
      "        [1.7952e-03],\n",
      "        [2.2394e-03],\n",
      "        [2.3999e-02],\n",
      "        [9.8905e-01],\n",
      "        [9.8918e-01],\n",
      "        [1.4006e-02],\n",
      "        [5.9384e-02],\n",
      "        [9.0465e-01],\n",
      "        [5.0767e-03],\n",
      "        [9.9790e-01],\n",
      "        [9.6170e-05],\n",
      "        [9.3444e-01],\n",
      "        [1.9264e-01],\n",
      "        [7.4765e-03],\n",
      "        [1.5221e-01],\n",
      "        [1.5352e-02],\n",
      "        [2.5472e-02],\n",
      "        [5.5945e-04],\n",
      "        [5.2413e-04],\n",
      "        [7.8191e-02],\n",
      "        [9.1643e-01],\n",
      "        [5.1216e-01],\n",
      "        [7.4888e-01],\n",
      "        [2.5191e-01],\n",
      "        [7.5208e-04],\n",
      "        [9.8585e-01],\n",
      "        [2.6691e-01],\n",
      "        [9.5678e-03],\n",
      "        [2.9944e-04],\n",
      "        [3.6253e-01],\n",
      "        [4.1063e-02],\n",
      "        [6.1184e-03],\n",
      "        [3.2948e-03],\n",
      "        [5.1393e-01],\n",
      "        [9.5317e-01],\n",
      "        [4.3795e-01],\n",
      "        [1.2012e-02],\n",
      "        [2.3680e-03],\n",
      "        [2.7254e-02],\n",
      "        [2.0251e-05],\n",
      "        [4.9691e-01],\n",
      "        [1.1967e-02],\n",
      "        [8.6451e-04],\n",
      "        [6.6759e-05],\n",
      "        [5.8153e-03],\n",
      "        [7.7237e-04],\n",
      "        [9.1453e-01],\n",
      "        [3.1415e-01],\n",
      "        [1.5613e-03],\n",
      "        [7.9932e-01],\n",
      "        [1.3511e-02],\n",
      "        [4.3836e-01],\n",
      "        [9.8878e-01],\n",
      "        [1.0608e-01],\n",
      "        [2.4531e-04],\n",
      "        [1.1523e-02],\n",
      "        [9.9583e-01],\n",
      "        [1.7636e-01],\n",
      "        [4.8608e-01],\n",
      "        [3.0231e-03],\n",
      "        [1.9917e-01],\n",
      "        [2.6078e-01],\n",
      "        [2.0388e-01],\n",
      "        [1.0956e-03],\n",
      "        [7.0545e-04],\n",
      "        [2.5958e-03],\n",
      "        [3.8222e-02],\n",
      "        [9.2775e-02],\n",
      "        [3.0255e-04],\n",
      "        [3.4607e-03],\n",
      "        [9.9621e-01],\n",
      "        [6.7510e-04],\n",
      "        [9.9997e-01],\n",
      "        [6.4421e-03],\n",
      "        [6.5468e-03],\n",
      "        [2.6393e-01],\n",
      "        [4.6979e-01],\n",
      "        [1.4762e-03],\n",
      "        [2.5975e-03],\n",
      "        [2.2125e-02],\n",
      "        [1.4379e-05],\n",
      "        [9.1606e-01],\n",
      "        [4.7102e-01],\n",
      "        [3.4304e-02],\n",
      "        [1.2502e-03],\n",
      "        [6.3553e-02],\n",
      "        [5.3606e-01],\n",
      "        [1.4874e-01],\n",
      "        [4.4619e-02],\n",
      "        [2.3998e-01],\n",
      "        [9.9762e-01],\n",
      "        [9.1682e-01],\n",
      "        [9.9681e-01],\n",
      "        [1.3186e-02]], grad_fn=<SigmoidBackward>)\n"
     ]
    }
   ],
   "source": [
    "print(f\"Inferenced probabilities: {predictions}\")"
   ]
  }
 ],
 "metadata": {
  "kernelspec": {
   "display_name": "Python 3",
   "language": "python",
   "name": "python3"
  },
  "language_info": {
   "codemirror_mode": {
    "name": "ipython",
    "version": 3
   },
   "file_extension": ".py",
   "mimetype": "text/x-python",
   "name": "python",
   "nbconvert_exporter": "python",
   "pygments_lexer": "ipython3",
   "version": "3.7.10"
  }
 },
 "nbformat": 4,
 "nbformat_minor": 5
}