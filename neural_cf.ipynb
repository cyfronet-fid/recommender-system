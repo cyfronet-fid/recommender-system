{
 "cells": [
  {
   "cell_type": "markdown",
   "id": "numerous-berlin",
   "metadata": {},
   "source": [
    "### Import section"
   ]
  },
  {
   "cell_type": "code",
   "execution_count": 3,
   "id": "varied-gardening",
   "metadata": {},
   "outputs": [],
   "source": [
    "from dotenv import load_dotenv\n",
    "load_dotenv()\n",
    "\n",
    "import torch\n",
    "from torch.utils.tensorboard import SummaryWriter\n",
    "from torch.utils.data import DataLoader\n",
    "from torch.optim import Adam\n",
    "\n",
    "import numpy as np\n",
    "from matplotlib import pyplot as plt\n",
    "from sklearn.metrics import classification_report, precision_recall_curve, roc_curve\n",
    "\n",
    "from mongoengine import connect, disconnect\n",
    "from IPython.display import Image\n",
    "\n",
    "from settings import DevelopmentConfig\n",
    "\n",
    "from recommender.models import User, Service\n",
    "from recommender.engine.preprocessing import SERVICES, USERS, user_and_service_to_tensors, user_and_services_to_tensors\n",
    "from recommender.engine.datasets.autoencoders import get_autoencoder_dataset_name\n",
    "from recommender.engine.utils import load_last_dataset, TRAIN, VALID, TEST, load_last_module, save_module\n",
    "from recommender.engine.training.autoencoders import train_autoencoder, autoencoder_loss_function\n",
    "from recommender.engine.visualization.autoencoders import get_random_reconstructions, plot_reconstructions\n",
    "from recommender.engine.models.autoencoders import create_autoencoder_model, create_embedder, SERVICES_AUTOENCODER, USERS_AUTOENCODER\n",
    "\n",
    "from recommender.engine.agents.pre_agent.models import NEURAL_CF\n",
    "from recommender.engine.agents.pre_agent.training.neural_collaborative_filtering import train_ncf, evaluate_ncf, accuracy_function\n",
    "from recommender.engine.agents.pre_agent.models.neural_colaborative_filtering import create_nfc_model, get_preds_for_ds"
   ]
  },
  {
   "cell_type": "markdown",
   "id": "insured-locator",
   "metadata": {},
   "source": [
    "### connect to database"
   ]
  },
  {
   "cell_type": "code",
   "execution_count": 9,
   "id": "worth-snapshot",
   "metadata": {},
   "outputs": [
    {
     "data": {
      "text/plain": [
       "MongoClient(host=['127.0.0.1:27016'], document_class=dict, tz_aware=False, connect=True, read_preference=Primary())"
      ]
     },
     "execution_count": 9,
     "metadata": {},
     "output_type": "execute_result"
    }
   ],
   "source": [
    "disconnect()\n",
    "connect(host=DevelopmentConfig.MONGODB_HOST)"
   ]
  },
  {
   "cell_type": "markdown",
   "id": "4b55fa93",
   "metadata": {},
   "source": [
    "### set device"
   ]
  },
  {
   "cell_type": "code",
   "execution_count": 5,
   "id": "filled-playback",
   "metadata": {},
   "outputs": [
    {
     "data": {
      "text/plain": [
       "device(type='cuda')"
      ]
     },
     "execution_count": 5,
     "metadata": {},
     "output_type": "execute_result"
    }
   ],
   "source": [
    "device = torch.device(\"cuda\" if torch.cuda.is_available() else \"cpu\")\n",
    "device"
   ]
  },
  {
   "cell_type": "markdown",
   "id": "0eb8468e",
   "metadata": {},
   "source": [
    "### writer\n",
    "Needed for logging trainings results to the tensorboard (start tensorboard from terminal with `tensorboard --logdir=runs`)"
   ]
  },
  {
   "cell_type": "code",
   "execution_count": 6,
   "id": "55910253",
   "metadata": {},
   "outputs": [],
   "source": [
    "writer = SummaryWriter()"
   ]
  },
  {
   "cell_type": "markdown",
   "id": "0bc49852",
   "metadata": {},
   "source": [
    "### datasets generation"
   ]
  },
  {
   "cell_type": "markdown",
   "id": "89e47df8",
   "metadata": {},
   "source": [
    "Use if there are no datasets available in the database"
   ]
  },
  {
   "cell_type": "code",
   "execution_count": 7,
   "id": "44a19aae",
   "metadata": {},
   "outputs": [],
   "source": [
    "# all_datasets = create_datasets()"
   ]
  },
  {
   "cell_type": "markdown",
   "id": "42aa7abf",
   "metadata": {},
   "source": [
    "# User and Service Auto-Encoders"
   ]
  },
  {
   "cell_type": "markdown",
   "id": "ba1443f2",
   "metadata": {},
   "source": [
    "### Load Service Autoencoder datasets"
   ]
  },
  {
   "cell_type": "code",
   "execution_count": 10,
   "id": "f1ddfbb0",
   "metadata": {},
   "outputs": [
    {
     "ename": "ValueError",
     "evalue": "num_samples should be a positive integer value, but got num_samples=0",
     "output_type": "error",
     "traceback": [
      "\u001B[0;31m---------------------------------------------------------------------------\u001B[0m",
      "\u001B[0;31mValueError\u001B[0m                                Traceback (most recent call last)",
      "\u001B[0;32m/tmp/ipykernel_17229/2179561353.py\u001B[0m in \u001B[0;36m<module>\u001B[0;34m\u001B[0m\n\u001B[1;32m      9\u001B[0m                                              shuffle=True)\n\u001B[1;32m     10\u001B[0m service_autoencoder_valid_ds_dl = DataLoader(service_autoencoder_valid_ds, batch_size=SERVICE_AE_BATCH_SIZE,\n\u001B[0;32m---> 11\u001B[0;31m                                              shuffle=True)\n\u001B[0m\u001B[1;32m     12\u001B[0m service_autoencoder_test_ds_dl = DataLoader(service_autoencoder_test_ds, batch_size=SERVICE_AE_BATCH_SIZE,\n\u001B[1;32m     13\u001B[0m                                             shuffle=True)\n",
      "\u001B[0;32m~/.local/share/virtualenvs/recommender-system-r71yvAN0/lib/python3.7/site-packages/torch/utils/data/dataloader.py\u001B[0m in \u001B[0;36m__init__\u001B[0;34m(self, dataset, batch_size, shuffle, sampler, batch_sampler, num_workers, collate_fn, pin_memory, drop_last, timeout, worker_init_fn, multiprocessing_context, generator, prefetch_factor, persistent_workers)\u001B[0m\n\u001B[1;32m    268\u001B[0m                     \u001B[0;31m# Cannot statically verify that dataset is Sized\u001B[0m\u001B[0;34m\u001B[0m\u001B[0;34m\u001B[0m\u001B[0;34m\u001B[0m\u001B[0m\n\u001B[1;32m    269\u001B[0m                     \u001B[0;31m# Somewhat related: see NOTE [ Lack of Default `__len__` in Python Abstract Base Classes ]\u001B[0m\u001B[0;34m\u001B[0m\u001B[0;34m\u001B[0m\u001B[0;34m\u001B[0m\u001B[0m\n\u001B[0;32m--> 270\u001B[0;31m                     \u001B[0msampler\u001B[0m \u001B[0;34m=\u001B[0m \u001B[0mRandomSampler\u001B[0m\u001B[0;34m(\u001B[0m\u001B[0mdataset\u001B[0m\u001B[0;34m,\u001B[0m \u001B[0mgenerator\u001B[0m\u001B[0;34m=\u001B[0m\u001B[0mgenerator\u001B[0m\u001B[0;34m)\u001B[0m  \u001B[0;31m# type: ignore[arg-type]\u001B[0m\u001B[0;34m\u001B[0m\u001B[0;34m\u001B[0m\u001B[0m\n\u001B[0m\u001B[1;32m    271\u001B[0m                 \u001B[0;32melse\u001B[0m\u001B[0;34m:\u001B[0m\u001B[0;34m\u001B[0m\u001B[0;34m\u001B[0m\u001B[0m\n\u001B[1;32m    272\u001B[0m                     \u001B[0msampler\u001B[0m \u001B[0;34m=\u001B[0m \u001B[0mSequentialSampler\u001B[0m\u001B[0;34m(\u001B[0m\u001B[0mdataset\u001B[0m\u001B[0;34m)\u001B[0m  \u001B[0;31m# type: ignore[arg-type]\u001B[0m\u001B[0;34m\u001B[0m\u001B[0;34m\u001B[0m\u001B[0m\n",
      "\u001B[0;32m~/.local/share/virtualenvs/recommender-system-r71yvAN0/lib/python3.7/site-packages/torch/utils/data/sampler.py\u001B[0m in \u001B[0;36m__init__\u001B[0;34m(self, data_source, replacement, num_samples, generator)\u001B[0m\n\u001B[1;32m    101\u001B[0m         \u001B[0;32mif\u001B[0m \u001B[0;32mnot\u001B[0m \u001B[0misinstance\u001B[0m\u001B[0;34m(\u001B[0m\u001B[0mself\u001B[0m\u001B[0;34m.\u001B[0m\u001B[0mnum_samples\u001B[0m\u001B[0;34m,\u001B[0m \u001B[0mint\u001B[0m\u001B[0;34m)\u001B[0m \u001B[0;32mor\u001B[0m \u001B[0mself\u001B[0m\u001B[0;34m.\u001B[0m\u001B[0mnum_samples\u001B[0m \u001B[0;34m<=\u001B[0m \u001B[0;36m0\u001B[0m\u001B[0;34m:\u001B[0m\u001B[0;34m\u001B[0m\u001B[0;34m\u001B[0m\u001B[0m\n\u001B[1;32m    102\u001B[0m             raise ValueError(\"num_samples should be a positive integer \"\n\u001B[0;32m--> 103\u001B[0;31m                              \"value, but got num_samples={}\".format(self.num_samples))\n\u001B[0m\u001B[1;32m    104\u001B[0m \u001B[0;34m\u001B[0m\u001B[0m\n\u001B[1;32m    105\u001B[0m     \u001B[0;34m@\u001B[0m\u001B[0mproperty\u001B[0m\u001B[0;34m\u001B[0m\u001B[0;34m\u001B[0m\u001B[0m\n",
      "\u001B[0;31mValueError\u001B[0m: num_samples should be a positive integer value, but got num_samples=0"
     ]
    }
   ],
   "source": [
    "# SERVICE AUTOENCODER\n",
    "service_autoencoder_train_ds = load_last_dataset(get_autoencoder_dataset_name(SERVICES, TRAIN))\n",
    "service_autoencoder_valid_ds = load_last_dataset(get_autoencoder_dataset_name(SERVICES, VALID))\n",
    "service_autoencoder_test_ds = load_last_dataset(get_autoencoder_dataset_name(SERVICES, TEST))\n",
    "\n",
    "SERVICE_AE_BATCH_SIZE = 128\n",
    "\n",
    "service_autoencoder_train_ds_dl = DataLoader(service_autoencoder_train_ds, batch_size=SERVICE_AE_BATCH_SIZE,\n",
    "                                             shuffle=True)\n",
    "service_autoencoder_valid_ds_dl = DataLoader(service_autoencoder_valid_ds, batch_size=SERVICE_AE_BATCH_SIZE,\n",
    "                                             shuffle=True)\n",
    "service_autoencoder_test_ds_dl = DataLoader(service_autoencoder_test_ds, batch_size=SERVICE_AE_BATCH_SIZE,\n",
    "                                            shuffle=True)"
   ]
  },
  {
   "cell_type": "markdown",
   "id": "1889dcc0",
   "metadata": {},
   "source": [
    "### Create and train Service  Autoencoder"
   ]
  },
  {
   "cell_type": "code",
   "execution_count": 7,
   "id": "d2403d8c",
   "metadata": {},
   "outputs": [],
   "source": [
    "SERVICE_FEATURES_DIM = len(Service.objects[0].tensor)\n",
    "SERVICE_EMBEDDING_DIM = 64\n",
    "\n",
    "service_autoencoder_model = create_autoencoder_model(\n",
    "    SERVICES,\n",
    "    features_dim=SERVICE_FEATURES_DIM,\n",
    "    embedding_dim=SERVICE_EMBEDDING_DIM,\n",
    "    writer=writer,\n",
    "    train_ds_dl=service_autoencoder_train_ds_dl,\n",
    "    device=device\n",
    ")\n",
    "\n",
    "LR = 0.01\n",
    "optimizer = Adam(service_autoencoder_model.parameters(), lr=LR)\n",
    "\n",
    "EPOCHS = 2000\n",
    "\n",
    "trained_service_autoencoder_model = train_autoencoder(\n",
    "    model=service_autoencoder_model,\n",
    "    optimizer=optimizer,\n",
    "    loss_function=autoencoder_loss_function,\n",
    "    epochs=EPOCHS,\n",
    "    train_ds_dl=service_autoencoder_train_ds_dl,\n",
    "    valid_ds_dl=service_autoencoder_valid_ds_dl,\n",
    "    writer=writer,\n",
    "    save_period=10,\n",
    "    verbose=False,\n",
    "    device=device)"
   ]
  },
  {
   "cell_type": "markdown",
   "id": "532a2a37",
   "metadata": {},
   "source": [
    "### Visualize Service Autoencoder reconstructions"
   ]
  },
  {
   "cell_type": "code",
   "execution_count": 8,
   "id": "d9a2402b",
   "metadata": {},
   "outputs": [
    {
     "data": {
      "image/png": "[encoded data removed]",
      "text/plain": [
       "<Figure size 1440x864 with 10 Axes>"
      ]
     },
     "metadata": {
      "needs_background": "light"
     },
     "output_type": "display_data"
    }
   ],
   "source": [
    "features, reconstructions = get_random_reconstructions(trained_service_autoencoder_model, service_autoencoder_valid_ds, device=device)\n",
    "plot_reconstructions(features, reconstructions)"
   ]
  },
  {
   "cell_type": "markdown",
   "id": "2807a70e",
   "metadata": {},
   "source": [
    "### Save Service Autoencoder model"
   ]
  },
  {
   "cell_type": "code",
   "execution_count": 9,
   "id": "46b870ae",
   "metadata": {},
   "outputs": [],
   "source": [
    "save_module(trained_service_autoencoder_model, name=SERVICES_AUTOENCODER)"
   ]
  },
  {
   "cell_type": "markdown",
   "id": "972cfd72",
   "metadata": {},
   "source": [
    "### Load User Autoencoder datasets"
   ]
  },
  {
   "cell_type": "code",
   "execution_count": 10,
   "id": "58e11b90",
   "metadata": {},
   "outputs": [],
   "source": [
    "user_autoencoder_train_ds = load_last_dataset(get_autoencoder_dataset_name(USERS, TRAIN))\n",
    "user_autoencoder_valid_ds = load_last_dataset(get_autoencoder_dataset_name(USERS, VALID))\n",
    "user_autoencoder_test_ds = load_last_dataset(get_autoencoder_dataset_name(USERS, TEST))\n",
    "\n",
    "USER_AE_BATCH_SIZE = 128\n",
    "\n",
    "user_autoencoder_train_ds_dl = DataLoader(user_autoencoder_train_ds, batch_size=USER_AE_BATCH_SIZE, shuffle=True)\n",
    "user_autoencoder_valid_ds_dl = DataLoader(user_autoencoder_valid_ds, batch_size=USER_AE_BATCH_SIZE, shuffle=True)\n",
    "user_autoencoder_test_ds_dl = DataLoader(user_autoencoder_test_ds, batch_size=USER_AE_BATCH_SIZE, shuffle=True)"
   ]
  },
  {
   "cell_type": "markdown",
   "id": "4971691c",
   "metadata": {},
   "source": [
    "### Create and train User  Autoencoder"
   ]
  },
  {
   "cell_type": "code",
   "execution_count": 11,
   "id": "cc17365f",
   "metadata": {},
   "outputs": [],
   "source": [
    "USER_FEATURES_DIM = len(User.objects[0].tensor)\n",
    "USER_EMBEDDING_DIM = 32\n",
    "\n",
    "user_autoencoder_model = create_autoencoder_model(\n",
    "    USERS,\n",
    "    features_dim=USER_FEATURES_DIM,\n",
    "    embedding_dim=USER_EMBEDDING_DIM,\n",
    "    writer=writer,\n",
    "    train_ds_dl=user_autoencoder_train_ds_dl,\n",
    "    device=device\n",
    ")\n",
    "\n",
    "LR = 0.01\n",
    "optimizer = Adam(user_autoencoder_model.parameters(), lr=LR)\n",
    "\n",
    "EPOCHS = 2000\n",
    "\n",
    "trained_user_autoencoder_model = train_autoencoder(\n",
    "    model=user_autoencoder_model,\n",
    "    optimizer=optimizer,\n",
    "    loss_function=autoencoder_loss_function,\n",
    "    epochs=EPOCHS,\n",
    "    train_ds_dl=user_autoencoder_train_ds_dl,\n",
    "    valid_ds_dl=user_autoencoder_valid_ds_dl,\n",
    "    writer=writer,\n",
    "    save_period=10,\n",
    "    verbose=False,\n",
    "    device=device)"
   ]
  },
  {
   "cell_type": "markdown",
   "id": "edde05b9",
   "metadata": {},
   "source": [
    "### Visualize User Autoencoder reconstructions"
   ]
  },
  {
   "cell_type": "code",
   "execution_count": 12,
   "id": "991ce0b1",
   "metadata": {},
   "outputs": [
    {
     "data": {
      "image/png": "[encoded data removed]",
      "text/plain": [
       "<Figure size 1440x864 with 10 Axes>"
      ]
     },
     "metadata": {
      "needs_background": "light"
     },
     "output_type": "display_data"
    }
   ],
   "source": [
    "features, reconstructions = get_random_reconstructions(trained_user_autoencoder_model, user_autoencoder_valid_ds, device=device)\n",
    "plot_reconstructions(features, reconstructions)"
   ]
  },
  {
   "cell_type": "markdown",
   "id": "cd8a81f9",
   "metadata": {},
   "source": [
    "### Save User Autoencoder model"
   ]
  },
  {
   "cell_type": "code",
   "execution_count": 13,
   "id": "6675fb93",
   "metadata": {},
   "outputs": [],
   "source": [
    "save_module(trained_user_autoencoder_model, name=USERS_AUTOENCODER)"
   ]
  },
  {
   "cell_type": "markdown",
   "id": "5e56a55a",
   "metadata": {},
   "source": [
    "# NCF"
   ]
  },
  {
   "cell_type": "markdown",
   "id": "interesting-identification",
   "metadata": {},
   "source": [
    "### Users orders number histogram"
   ]
  },
  {
   "cell_type": "code",
   "execution_count": 14,
   "id": "426c88fd",
   "metadata": {},
   "outputs": [
    {
     "data": {
      "image/png": "[encoded data removed]",
      "text/plain": [
       "<Figure size 1440x720 with 1 Axes>"
      ]
     },
     "metadata": {
      "needs_background": "light"
     },
     "output_type": "display_data"
    }
   ],
   "source": [
    "orderings = [len(user.accessed_services) for user in User.objects]\n",
    "y = list(filter(lambda x: x>0, orderings))\n",
    "fig =plt.figure(figsize=(20, 10))\n",
    "plt.hist(y, np.arange(max(y)+1)-0.5)\n",
    "None"
   ]
  },
  {
   "cell_type": "markdown",
   "id": "a4bcc50d",
   "metadata": {},
   "source": [
    "### Load NCF Autoencoder datasets"
   ]
  },
  {
   "cell_type": "code",
   "execution_count": 15,
   "id": "968865eb",
   "metadata": {},
   "outputs": [
    {
     "name": "stdout",
     "output_type": "stream",
     "text": [
      "train_ds size: 840\n",
      "valid_ds size: 134\n",
      "test_ds size: 54\n"
     ]
    }
   ],
   "source": [
    "ncf_train_ds = load_last_dataset(f\"{NEURAL_CF} {TRAIN} dataset\")\n",
    "ncf_valid_ds = load_last_dataset(f\"{NEURAL_CF} {VALID} dataset\")\n",
    "ncf_test_ds = load_last_dataset(f\"{NEURAL_CF} {TEST} dataset\")\n",
    "\n",
    "print(f\"train_ds size: {len(ncf_train_ds)}\")\n",
    "print(f\"valid_ds size: {len(ncf_valid_ds)}\")\n",
    "print(f\"test_ds size: {len(ncf_test_ds)}\")\n",
    "\n",
    "BATCH_SIZE = 32\n",
    "\n",
    "ncf_train_ds_dl = DataLoader(ncf_train_ds, batch_size=BATCH_SIZE, shuffle=True)\n",
    "ncf_valid_ds_dl = DataLoader(ncf_valid_ds, batch_size=BATCH_SIZE, shuffle=True)\n",
    "ncf_test_ds_dl = DataLoader(ncf_test_ds, batch_size=BATCH_SIZE, shuffle=True)"
   ]
  },
  {
   "cell_type": "markdown",
   "id": "d38b06d5",
   "metadata": {},
   "source": [
    "### Create User and Service Embedders from Autoencoders"
   ]
  },
  {
   "cell_type": "code",
   "execution_count": 16,
   "id": "d349ea9c",
   "metadata": {},
   "outputs": [],
   "source": [
    "service_embedder = create_embedder(trained_service_autoencoder_model)"
   ]
  },
  {
   "cell_type": "code",
   "execution_count": 17,
   "id": "5f3e9567",
   "metadata": {},
   "outputs": [],
   "source": [
    "user_embedder = create_embedder(trained_user_autoencoder_model)"
   ]
  },
  {
   "cell_type": "markdown",
   "id": "246fc895",
   "metadata": {},
   "source": [
    "### Set some training constants"
   ]
  },
  {
   "cell_type": "code",
   "execution_count": 18,
   "id": "dff49fe4",
   "metadata": {},
   "outputs": [],
   "source": [
    "USERS_MAX_ID = User.objects.order_by(\"-id\").first().id\n",
    "SERVICES_MAX_ID = Service.objects.order_by(\"-id\").first().id\n",
    "\n",
    "MF_EMBEDDING_DIM = 64\n",
    "USER_IDS_EMBEDDING_DIM = 64\n",
    "SERVICE_IDS_EMBEDDING_DIM = 64\n",
    "\n",
    "MLP_LAYERS_SPEC = [64, 32, 16, 8]\n",
    "CONTENT_MLP_LAYERS_SPEC = [128, 64, 32]"
   ]
  },
  {
   "cell_type": "markdown",
   "id": "acoustic-nightlife",
   "metadata": {},
   "source": [
    "### Neural Collaborative Filtering Model Schema"
   ]
  },
  {
   "cell_type": "code",
   "execution_count": 19,
   "id": "dd8fc049",
   "metadata": {},
   "outputs": [
    {
     "data": {
      "text/html": [
       "<img src=\"./recommender/engine/pre_agent/models/neural_cf_architecture.png\" width=\"800\"/>"
      ],
      "text/plain": [
       "<IPython.core.display.Image object>"
      ]
     },
     "execution_count": 19,
     "metadata": {},
     "output_type": "execute_result"
    }
   ],
   "source": [
    "ncf_architecture_image_path = \"./recommender/engine/pre_agent/models/neural_cf_architecture.png\"\n",
    "Image(url=ncf_architecture_image_path, width=800)"
   ]
  },
  {
   "cell_type": "markdown",
   "id": "0e8e1c65",
   "metadata": {},
   "source": [
    "### Create and train NCF model"
   ]
  },
  {
   "cell_type": "code",
   "execution_count": 20,
   "id": "c0782c67",
   "metadata": {},
   "outputs": [],
   "source": [
    "ncf_model = create_nfc_model(\n",
    "    users_max_id=USERS_MAX_ID,\n",
    "    services_max_id=SERVICES_MAX_ID,\n",
    "    mf_embedding_dim=MF_EMBEDDING_DIM,\n",
    "    user_ids_embedding_dim=USER_IDS_EMBEDDING_DIM,\n",
    "    service_ids_embedding_dim=SERVICE_IDS_EMBEDDING_DIM,\n",
    "    user_embedder=user_embedder,\n",
    "    service_embedder=service_embedder,\n",
    "    mlp_layers_spec=MLP_LAYERS_SPEC,\n",
    "    content_mlp_layers_spec=CONTENT_MLP_LAYERS_SPEC,\n",
    "    writer=writer,\n",
    "    train_ds_dl=ncf_train_ds_dl,\n",
    "    device=device\n",
    ")\n",
    "\n",
    "ncf_loss_function = torch.nn.BCELoss()\n",
    "\n",
    "LR = 0.01\n",
    "ncf_optimizer = Adam(ncf_model.parameters(), lr=LR)\n",
    "\n",
    "EPOCHS = 500\n",
    "\n",
    "trained_ncf_model = train_ncf(\n",
    "    model=ncf_model,\n",
    "    optimizer=ncf_optimizer,\n",
    "    loss_function=ncf_loss_function,\n",
    "    epochs=EPOCHS,\n",
    "    train_ds_dl=ncf_train_ds_dl,\n",
    "    valid_ds_dl=ncf_valid_ds_dl,\n",
    "    save_period=10,\n",
    "    writer=writer,\n",
    "    verbose=False,\n",
    "    device=device\n",
    ")"
   ]
  },
  {
   "cell_type": "markdown",
   "id": "ongoing-variety",
   "metadata": {},
   "source": [
    "### Model Evaluation"
   ]
  },
  {
   "cell_type": "code",
   "execution_count": 21,
   "id": "macro-treatment",
   "metadata": {},
   "outputs": [
    {
     "name": "stdout",
     "output_type": "stream",
     "text": [
      "Testing loss: 1.1634321212768555, testing accuracy: 0.7272727272727273\n"
     ]
    }
   ],
   "source": [
    "loss, acc = evaluate_ncf(trained_ncf_model, ncf_test_ds_dl, ncf_loss_function, accuracy_function, device)\n",
    "print(f\"Testing loss: {loss}, testing accuracy: {acc}\")"
   ]
  },
  {
   "cell_type": "markdown",
   "id": "8183415b",
   "metadata": {},
   "source": [
    "### Classification report"
   ]
  },
  {
   "cell_type": "code",
   "execution_count": 22,
   "id": "a4397006",
   "metadata": {},
   "outputs": [
    {
     "name": "stdout",
     "output_type": "stream",
     "text": [
      "              precision    recall  f1-score   support\n",
      "\n",
      "         0.0       0.75      0.78      0.76        27\n",
      "         1.0       0.77      0.74      0.75        27\n",
      "\n",
      "    accuracy                           0.76        54\n",
      "   macro avg       0.76      0.76      0.76        54\n",
      "weighted avg       0.76      0.76      0.76        54\n",
      "\n"
     ]
    }
   ],
   "source": [
    "labels, preds = get_preds_for_ds(trained_ncf_model, ncf_test_ds)\n",
    "print(classification_report(labels, preds > 0.5))"
   ]
  },
  {
   "cell_type": "markdown",
   "id": "2dd8312f",
   "metadata": {},
   "source": [
    "### Precision Recall Curve"
   ]
  },
  {
   "cell_type": "code",
   "execution_count": 23,
   "id": "74f6e6d7",
   "metadata": {},
   "outputs": [
    {
     "data": {
      "text/plain": [
       "[<matplotlib.lines.Line2D at 0x7f47040eda90>]"
      ]
     },
     "execution_count": 23,
     "metadata": {},
     "output_type": "execute_result"
    },
    {
     "data": {
      "image/png": "[encoded data removed]",
      "text/plain": [
       "<Figure size 432x288 with 1 Axes>"
      ]
     },
     "metadata": {
      "needs_background": "light"
     },
     "output_type": "display_data"
    }
   ],
   "source": [
    "precision, recall, thresholds = precision_recall_curve(labels, preds)\n",
    "plt.plot(precision, recall)"
   ]
  },
  {
   "cell_type": "markdown",
   "id": "596f2190",
   "metadata": {},
   "source": [
    "### ROC Curve"
   ]
  },
  {
   "cell_type": "code",
   "execution_count": 24,
   "id": "1222b326",
   "metadata": {},
   "outputs": [
    {
     "data": {
      "image/png": "[encoded data removed]",
      "text/plain": [
       "<Figure size 432x288 with 1 Axes>"
      ]
     },
     "metadata": {
      "needs_background": "light"
     },
     "output_type": "display_data"
    }
   ],
   "source": [
    "fpr, tpr, thresholds = roc_curve(labels, preds)\n",
    "x = plt.plot(fpr, tpr)"
   ]
  },
  {
   "cell_type": "markdown",
   "id": "sized-heath",
   "metadata": {},
   "source": [
    "### NCF Model saving"
   ]
  },
  {
   "cell_type": "markdown",
   "id": "vulnerable-fantasy",
   "metadata": {},
   "source": [
    "Transformers are save automatically after creation and fitting inside raw_dataset_to_tensors function so only model should be saved manually."
   ]
  },
  {
   "cell_type": "code",
   "execution_count": 25,
   "id": "experimental-martin",
   "metadata": {},
   "outputs": [],
   "source": [
    "save_module(trained_ncf_model, name=NEURAL_CF)"
   ]
  },
  {
   "cell_type": "markdown",
   "id": "engaging-guinea",
   "metadata": {},
   "source": [
    "### Inferention test"
   ]
  },
  {
   "cell_type": "markdown",
   "id": "unexpected-intelligence",
   "metadata": {},
   "source": [
    "Model loading:"
   ]
  },
  {
   "cell_type": "code",
   "execution_count": 26,
   "id": "advanced-respect",
   "metadata": {},
   "outputs": [],
   "source": [
    "loaded_ncf_model = load_last_module(NEURAL_CF)"
   ]
  },
  {
   "cell_type": "markdown",
   "id": "convinced-sierra",
   "metadata": {},
   "source": [
    "Inferention data preparing"
   ]
  },
  {
   "cell_type": "code",
   "execution_count": 27,
   "id": "southern-controversy",
   "metadata": {},
   "outputs": [],
   "source": [
    "user = User.objects[0]\n",
    "services = list(Service.objects)\n",
    "service = services[0]"
   ]
  },
  {
   "cell_type": "code",
   "execution_count": 28,
   "id": "informational-riding",
   "metadata": {},
   "outputs": [
    {
     "name": "stdout",
     "output_type": "stream",
     "text": [
      "CPU times: user 1.63 ms, sys: 81 µs, total: 1.71 ms\n",
      "Wall time: 1.67 ms\n"
     ]
    }
   ],
   "source": [
    "%%time\n",
    "users_ids, users_tensor, services_ids, services_tensor = user_and_service_to_tensors(user, service)"
   ]
  },
  {
   "cell_type": "code",
   "execution_count": 29,
   "id": "furnished-prerequisite",
   "metadata": {},
   "outputs": [
    {
     "name": "stdout",
     "output_type": "stream",
     "text": [
      "CPU times: user 1.78 ms, sys: 87 µs, total: 1.86 ms\n",
      "Wall time: 1.65 ms\n"
     ]
    }
   ],
   "source": [
    "%%time\n",
    "prediction = loaded_ncf_model(users_ids, users_tensor, services_ids, services_tensor).item()"
   ]
  },
  {
   "cell_type": "code",
   "execution_count": 30,
   "id": "herbal-running",
   "metadata": {},
   "outputs": [
    {
     "name": "stdout",
     "output_type": "stream",
     "text": [
      "Inferenced probability: 0.011953976936638355\n"
     ]
    }
   ],
   "source": [
    "print(f\"Inferenced probability: {prediction}\")"
   ]
  },
  {
   "cell_type": "code",
   "execution_count": 31,
   "id": "appreciated-jason",
   "metadata": {},
   "outputs": [
    {
     "name": "stdout",
     "output_type": "stream",
     "text": [
      "CPU times: user 247 ms, sys: 0 ns, total: 247 ms\n",
      "Wall time: 246 ms\n"
     ]
    }
   ],
   "source": [
    "%%time\n",
    "users_ids, users_tensor, services_ids, services_tensor = user_and_services_to_tensors(user, services)"
   ]
  },
  {
   "cell_type": "code",
   "execution_count": 32,
   "id": "mechanical-joining",
   "metadata": {},
   "outputs": [
    {
     "name": "stdout",
     "output_type": "stream",
     "text": [
      "CPU times: user 3 µs, sys: 1 µs, total: 4 µs\n",
      "Wall time: 7.63 µs\n"
     ]
    }
   ],
   "source": [
    "%time\n",
    "predictions = loaded_ncf_model(users_ids, users_tensor, services_ids, services_tensor)"
   ]
  },
  {
   "cell_type": "code",
   "execution_count": 33,
   "id": "continued-secondary",
   "metadata": {},
   "outputs": [
    {
     "name": "stdout",
     "output_type": "stream",
     "text": [
      "Inferenced probabilities: tensor([[1.1954e-02],\n",
      "        [2.2071e-01],\n",
      "        [9.9882e-01],\n",
      "        [7.6400e-03],\n",
      "        [1.2707e-02],\n",
      "        [7.6607e-05],\n",
      "        [1.9134e-01],\n",
      "        [4.9203e-01],\n",
      "        [4.7839e-05],\n",
      "        [1.8156e-04],\n",
      "        [1.1601e-01],\n",
      "        [3.1915e-02],\n",
      "        [7.1820e-01],\n",
      "        [4.1285e-04],\n",
      "        [1.0498e-04],\n",
      "        [2.8035e-01],\n",
      "        [6.6242e-01],\n",
      "        [2.1551e-05],\n",
      "        [2.3359e-05],\n",
      "        [7.8448e-02],\n",
      "        [3.6766e-04],\n",
      "        [1.7133e-02],\n",
      "        [2.1821e-02],\n",
      "        [5.3534e-03],\n",
      "        [2.3267e-01],\n",
      "        [3.6103e-04],\n",
      "        [5.4788e-02],\n",
      "        [9.9588e-01],\n",
      "        [7.0121e-03],\n",
      "        [8.5977e-01],\n",
      "        [5.1413e-04],\n",
      "        [5.1531e-03],\n",
      "        [5.0935e-03],\n",
      "        [9.0383e-04],\n",
      "        [8.2331e-01],\n",
      "        [1.0631e-02],\n",
      "        [6.0791e-01],\n",
      "        [8.1915e-02],\n",
      "        [5.1437e-01],\n",
      "        [2.8590e-01],\n",
      "        [1.7564e-03],\n",
      "        [1.5433e-02],\n",
      "        [1.2838e-01],\n",
      "        [9.4030e-01],\n",
      "        [9.9530e-01],\n",
      "        [5.7518e-03],\n",
      "        [9.9466e-01],\n",
      "        [1.3712e-03],\n",
      "        [1.5702e-01],\n",
      "        [2.0865e-04],\n",
      "        [6.5075e-01],\n",
      "        [8.2627e-02],\n",
      "        [9.0999e-01],\n",
      "        [1.8015e-01],\n",
      "        [9.9791e-01],\n",
      "        [2.4924e-02],\n",
      "        [5.2346e-01],\n",
      "        [1.2098e-01],\n",
      "        [7.9547e-04],\n",
      "        [1.2226e-02],\n",
      "        [4.6696e-01],\n",
      "        [1.0538e-03],\n",
      "        [4.2045e-04],\n",
      "        [3.2798e-02],\n",
      "        [9.8446e-05],\n",
      "        [1.3660e-02],\n",
      "        [8.3065e-03],\n",
      "        [8.0647e-01],\n",
      "        [1.3352e-01],\n",
      "        [7.7240e-01],\n",
      "        [9.9267e-01],\n",
      "        [1.6921e-01],\n",
      "        [1.9012e-02],\n",
      "        [9.9982e-01],\n",
      "        [6.2377e-01],\n",
      "        [1.6929e-01],\n",
      "        [3.7984e-03],\n",
      "        [3.6857e-02],\n",
      "        [3.4355e-05],\n",
      "        [6.4356e-05],\n",
      "        [9.8767e-01],\n",
      "        [9.9985e-01],\n",
      "        [1.9343e-01],\n",
      "        [1.1225e-04],\n",
      "        [9.9850e-01],\n",
      "        [2.6321e-02],\n",
      "        [1.8255e-06],\n",
      "        [1.4987e-02],\n",
      "        [9.9945e-01],\n",
      "        [2.5892e-03],\n",
      "        [3.1306e-01],\n",
      "        [9.5302e-01],\n",
      "        [6.3041e-02],\n",
      "        [2.1243e-01],\n",
      "        [1.3565e-02],\n",
      "        [6.8579e-01],\n",
      "        [9.6236e-03],\n",
      "        [2.9883e-04],\n",
      "        [1.0849e-01],\n",
      "        [1.8879e-01],\n",
      "        [9.6198e-01],\n",
      "        [2.2410e-02],\n",
      "        [2.7369e-03],\n",
      "        [7.5375e-04],\n",
      "        [4.6792e-01],\n",
      "        [2.5864e-04],\n",
      "        [6.9061e-03],\n",
      "        [6.8299e-03],\n",
      "        [8.1691e-04],\n",
      "        [3.3270e-01],\n",
      "        [7.8797e-02],\n",
      "        [1.0814e-03],\n",
      "        [3.4599e-02],\n",
      "        [7.0899e-01],\n",
      "        [3.6859e-04],\n",
      "        [3.9061e-02],\n",
      "        [1.3249e-05],\n",
      "        [3.2676e-03],\n",
      "        [2.3487e-01],\n",
      "        [6.6147e-03],\n",
      "        [4.1062e-01],\n",
      "        [4.8880e-05],\n",
      "        [4.0530e-03],\n",
      "        [6.0427e-02],\n",
      "        [2.0440e-02],\n",
      "        [2.4264e-05],\n",
      "        [9.8348e-01],\n",
      "        [6.9820e-02],\n",
      "        [9.7667e-01],\n",
      "        [1.6120e-01],\n",
      "        [2.0621e-03],\n",
      "        [8.7485e-04],\n",
      "        [1.0000e+00],\n",
      "        [6.4485e-02],\n",
      "        [7.6800e-01],\n",
      "        [8.6574e-01],\n",
      "        [7.3840e-05],\n",
      "        [3.3760e-01],\n",
      "        [9.0458e-02],\n",
      "        [2.9214e-02],\n",
      "        [5.8271e-04],\n",
      "        [4.3047e-01],\n",
      "        [8.4297e-01],\n",
      "        [9.9584e-01],\n",
      "        [1.0499e-01],\n",
      "        [7.4629e-01],\n",
      "        [6.5926e-02],\n",
      "        [2.1882e-01],\n",
      "        [3.3843e-02],\n",
      "        [1.3065e-01],\n",
      "        [5.8193e-02],\n",
      "        [9.9882e-01],\n",
      "        [8.1892e-03],\n",
      "        [5.5875e-02],\n",
      "        [7.6840e-01],\n",
      "        [2.3108e-01],\n",
      "        [4.0941e-02],\n",
      "        [7.1538e-01],\n",
      "        [1.4737e-03],\n",
      "        [6.0711e-04],\n",
      "        [9.7575e-01],\n",
      "        [1.1011e-02],\n",
      "        [1.6566e-01],\n",
      "        [1.4047e-01],\n",
      "        [2.3845e-04],\n",
      "        [5.5094e-03],\n",
      "        [1.2293e-01],\n",
      "        [1.1480e-03],\n",
      "        [9.0234e-04],\n",
      "        [7.5443e-02],\n",
      "        [6.3577e-02],\n",
      "        [1.8789e-04],\n",
      "        [4.0590e-02],\n",
      "        [7.9437e-06],\n",
      "        [5.7862e-03],\n",
      "        [3.6882e-01],\n",
      "        [2.1734e-02],\n",
      "        [1.9671e-01],\n",
      "        [3.1262e-02],\n",
      "        [7.9367e-01],\n",
      "        [1.6833e-01],\n",
      "        [7.4136e-01],\n",
      "        [2.1818e-01],\n",
      "        [9.6250e-03],\n",
      "        [1.9516e-04],\n",
      "        [4.2075e-03],\n",
      "        [1.4700e-04],\n",
      "        [9.3247e-01],\n",
      "        [9.9542e-01],\n",
      "        [4.7475e-02],\n",
      "        [2.6048e-05],\n",
      "        [2.7412e-03],\n",
      "        [9.7071e-01],\n",
      "        [4.3396e-04],\n",
      "        [3.4171e-01],\n",
      "        [3.3864e-01],\n",
      "        [7.6379e-01],\n",
      "        [5.2353e-04],\n",
      "        [4.2061e-04],\n",
      "        [1.3995e-01],\n",
      "        [7.0362e-02],\n",
      "        [7.4218e-05],\n",
      "        [1.2749e-01],\n",
      "        [9.9539e-01],\n",
      "        [9.9992e-01],\n",
      "        [1.4438e-03],\n",
      "        [1.4093e-04],\n",
      "        [9.7270e-03],\n",
      "        [8.8575e-02],\n",
      "        [1.0369e-01],\n",
      "        [9.6068e-01],\n",
      "        [5.1088e-02],\n",
      "        [7.7988e-02],\n",
      "        [9.9998e-01],\n",
      "        [2.2350e-04],\n",
      "        [1.0519e-03],\n",
      "        [6.1305e-03],\n",
      "        [1.1493e-06],\n",
      "        [3.2845e-01],\n",
      "        [6.0901e-04],\n",
      "        [1.9442e-04],\n",
      "        [2.6255e-03],\n",
      "        [1.7952e-03],\n",
      "        [2.2394e-03],\n",
      "        [2.3999e-02],\n",
      "        [9.8905e-01],\n",
      "        [9.8918e-01],\n",
      "        [1.4006e-02],\n",
      "        [5.9384e-02],\n",
      "        [9.0465e-01],\n",
      "        [5.0767e-03],\n",
      "        [9.9790e-01],\n",
      "        [9.6170e-05],\n",
      "        [9.3444e-01],\n",
      "        [1.9264e-01],\n",
      "        [7.4765e-03],\n",
      "        [1.5221e-01],\n",
      "        [1.5352e-02],\n",
      "        [2.5472e-02],\n",
      "        [5.5945e-04],\n",
      "        [5.2413e-04],\n",
      "        [7.8191e-02],\n",
      "        [9.1643e-01],\n",
      "        [5.1216e-01],\n",
      "        [7.4888e-01],\n",
      "        [2.5191e-01],\n",
      "        [7.5208e-04],\n",
      "        [9.8585e-01],\n",
      "        [2.6691e-01],\n",
      "        [9.5678e-03],\n",
      "        [2.9944e-04],\n",
      "        [3.6253e-01],\n",
      "        [4.1063e-02],\n",
      "        [6.1184e-03],\n",
      "        [3.2948e-03],\n",
      "        [5.1393e-01],\n",
      "        [9.5317e-01],\n",
      "        [4.3795e-01],\n",
      "        [1.2012e-02],\n",
      "        [2.3680e-03],\n",
      "        [2.7254e-02],\n",
      "        [2.0251e-05],\n",
      "        [4.9691e-01],\n",
      "        [1.1967e-02],\n",
      "        [8.6451e-04],\n",
      "        [6.6759e-05],\n",
      "        [5.8153e-03],\n",
      "        [7.7237e-04],\n",
      "        [9.1453e-01],\n",
      "        [3.1415e-01],\n",
      "        [1.5613e-03],\n",
      "        [7.9932e-01],\n",
      "        [1.3511e-02],\n",
      "        [4.3836e-01],\n",
      "        [9.8878e-01],\n",
      "        [1.0608e-01],\n",
      "        [2.4531e-04],\n",
      "        [1.1523e-02],\n",
      "        [9.9583e-01],\n",
      "        [1.7636e-01],\n",
      "        [4.8608e-01],\n",
      "        [3.0231e-03],\n",
      "        [1.9917e-01],\n",
      "        [2.6078e-01],\n",
      "        [2.0388e-01],\n",
      "        [1.0956e-03],\n",
      "        [7.0545e-04],\n",
      "        [2.5958e-03],\n",
      "        [3.8222e-02],\n",
      "        [9.2775e-02],\n",
      "        [3.0255e-04],\n",
      "        [3.4607e-03],\n",
      "        [9.9621e-01],\n",
      "        [6.7510e-04],\n",
      "        [9.9997e-01],\n",
      "        [6.4421e-03],\n",
      "        [6.5468e-03],\n",
      "        [2.6393e-01],\n",
      "        [4.6979e-01],\n",
      "        [1.4762e-03],\n",
      "        [2.5975e-03],\n",
      "        [2.2125e-02],\n",
      "        [1.4379e-05],\n",
      "        [9.1606e-01],\n",
      "        [4.7102e-01],\n",
      "        [3.4304e-02],\n",
      "        [1.2502e-03],\n",
      "        [6.3553e-02],\n",
      "        [5.3606e-01],\n",
      "        [1.4874e-01],\n",
      "        [4.4619e-02],\n",
      "        [2.3998e-01],\n",
      "        [9.9762e-01],\n",
      "        [9.1682e-01],\n",
      "        [9.9681e-01],\n",
      "        [1.3186e-02]], grad_fn=<SigmoidBackward>)\n"
     ]
    }
   ],
   "source": [
    "print(f\"Inferenced probabilities: {predictions}\")"
   ]
  }
 ],
 "metadata": {
  "kernelspec": {
   "display_name": "Python 3",
   "language": "python",
   "name": "python3"
  },
  "language_info": {
   "codemirror_mode": {
    "name": "ipython",
    "version": 3
   },
   "file_extension": ".py",
   "mimetype": "text/x-python",
   "name": "python",
   "nbconvert_exporter": "python",
   "pygments_lexer": "ipython3",
   "version": "3.7.10"
  }
 },
 "nbformat": 4,
 "nbformat_minor": 5
}