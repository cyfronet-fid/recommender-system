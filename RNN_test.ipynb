{
 "cells": [
  {
   "cell_type": "code",
   "execution_count": 30,
   "id": "secret-curtis",
   "metadata": {},
   "outputs": [],
   "source": [
    "from dotenv import load_dotenv\n",
    "load_dotenv()\n",
    "\n",
    "import torch\n",
    "import torchtext\n",
    "from torchtext.datasets import AG_NEWS\n",
    "import pandas as pd\n",
    "\n",
    "from torchtext.data.utils import get_tokenizer\n",
    "from collections import Counter\n",
    "from torchtext.vocab import Vocab\n",
    "from torch.nn.utils.rnn import pad_sequence\n",
    "\n",
    "from torch.utils.data import Dataset\n",
    "from torch.utils.data import random_split\n",
    "from torch.utils.data import DataLoader\n",
    "\n",
    "from torch.nn import BCEWithLogitsLoss\n",
    "from torch.optim import SGD, Adam\n",
    "import time\n",
    "from tqdm.auto import tqdm\n",
    "from recommender.engine.pre_agent.training import accuracy_function\n",
    "\n",
    "import matplotlib.pyplot as plt\n",
    "import torch.nn.functional as F\n",
    "\n",
    "from torch.nn.utils.rnn import pack_sequence, pad_packed_sequence, pack_padded_sequence\n",
    "\n",
    "from transformers import XLNetModel, XLNetTokenizer"
   ]
  },
  {
   "cell_type": "code",
   "execution_count": 31,
   "id": "hired-professor",
   "metadata": {},
   "outputs": [],
   "source": [
    "device = torch.device(\"cuda\" if torch.cuda.is_available() else \"cpu\")"
   ]
  },
  {
   "cell_type": "code",
   "execution_count": 32,
   "id": "excellent-failure",
   "metadata": {},
   "outputs": [],
   "source": [
    "# def label2vec(label, classes_no):\n",
    "#     label_vec = torch.zeros(classes_no, dtype=torch.float32)\n",
    "#     label_vec[int(label-1)] = 1\n",
    "#     return label_vec"
   ]
  },
  {
   "cell_type": "code",
   "execution_count": 33,
   "id": "oriental-twenty",
   "metadata": {},
   "outputs": [],
   "source": [
    "tokenizer = XLNetTokenizer.from_pretrained('xlnet-base-cased', do_lower_case=True)"
   ]
  },
  {
   "cell_type": "code",
   "execution_count": 34,
   "id": "typical-clause",
   "metadata": {},
   "outputs": [],
   "source": [
    "def text2ids(text, tokenizer):\n",
    "    tokenized_texts = tokenizer.tokenize(text)\n",
    "    input_ids = [tokenizer.convert_tokens_to_ids(x) for x in tokenized_texts]\n",
    "    return input_ids"
   ]
  },
  {
   "cell_type": "code",
   "execution_count": 35,
   "id": "conceptual-publicity",
   "metadata": {},
   "outputs": [],
   "source": [
    "def collate_batch(batch):\n",
    "    labels = []\n",
    "    lines_ids = []\n",
    "    for line, label in batch:\n",
    "        labels.append(label)\n",
    "        lines_ids.append(torch.tensor(text2ids(line, tokenizer)))\n",
    "    labels = torch.tensor(labels).reshape(-1,1).float()\n",
    "    features = pad_sequence(lines_ids, batch_first=True)\n",
    "    attention_mask = (features > 0).float()\n",
    "    return labels.to(device), features.to(device), attention_mask.to(device)"
   ]
  },
  {
   "cell_type": "code",
   "execution_count": 36,
   "id": "satellite-nickname",
   "metadata": {},
   "outputs": [],
   "source": [
    "raw_ds = pd.read_csv(\"./tweets.csv\",encoding=\"UTF-8\")\n",
    "numpy_ds = raw_ds[[\"text\", \"target\"]].to_numpy()\n",
    "\n",
    "classes_no = len(raw_ds[\"target\"].unique())\n",
    "\n",
    "all_size = numpy_ds.shape[0]\n",
    "train_size = int(0.6*all_size)\n",
    "valid_size = int(0.2*all_size)\n",
    "\n",
    "train_ds = numpy_ds[:train_size]\n",
    "valid_ds = numpy_ds[train_size:train_size+valid_size]\n",
    "test_ds = numpy_ds[train_size+valid_size:]"
   ]
  },
  {
   "cell_type": "code",
   "execution_count": 37,
   "id": "seeing-flexibility",
   "metadata": {},
   "outputs": [],
   "source": [
    "train_ds_dl = DataLoader(train_ds, batch_size=32, shuffle=False, collate_fn=collate_batch)\n",
    "valid_ds_dl = DataLoader(valid_ds, batch_size=32, shuffle=False, collate_fn=collate_batch)\n",
    "test_ds_dl = DataLoader(test_ds, batch_size=32, shuffle=False, collate_fn=collate_batch)"
   ]
  },
  {
   "cell_type": "code",
   "execution_count": 38,
   "id": "amateur-camera",
   "metadata": {},
   "outputs": [],
   "source": [
    "batch = next(iter(train_ds_dl))\n",
    "labels, features, attention_masks = batch"
   ]
  },
  {
   "cell_type": "code",
   "execution_count": 39,
   "id": "charming-louisiana",
   "metadata": {},
   "outputs": [],
   "source": [
    "# print(labels.shape)\n",
    "# print(features.shape)\n",
    "# print(attention_masks.shape)"
   ]
  },
  {
   "cell_type": "code",
   "execution_count": 40,
   "id": "charitable-tennessee",
   "metadata": {},
   "outputs": [],
   "source": [
    "# print(labels)\n",
    "# print(features)\n",
    "# print(attention_masks)"
   ]
  },
  {
   "cell_type": "code",
   "execution_count": 41,
   "id": "interim-mission",
   "metadata": {},
   "outputs": [],
   "source": [
    "# print(labels[5])\n",
    "# print(features[5])\n",
    "# print(attention_masks[5])"
   ]
  },
  {
   "cell_type": "code",
   "execution_count": 42,
   "id": "competitive-college",
   "metadata": {},
   "outputs": [],
   "source": [
    "# def get_last_sequence_values(batch, indices):\n",
    "#     last_values = []\n",
    "#     indices = indices-2\n",
    "#     for i, seq in enumerate(batch):\n",
    "#         last_values.append(seq[indices[i]])\n",
    "#     return torch.stack(last_values)\n",
    "        "
   ]
  },
  {
   "cell_type": "code",
   "execution_count": 43,
   "id": "white-excerpt",
   "metadata": {},
   "outputs": [],
   "source": [
    "class MyModel(torch.nn.Module):\n",
    "    def __init__(self):\n",
    "        super().__init__()\n",
    "#         self.num_layers = num_layers\n",
    "#         self.embeding_dim = embeding_dim\n",
    "        \n",
    "#         self.rnn = torch.nn.LSTM(\n",
    "#             input_size=embeding_dim,\n",
    "#             hidden_size=embeding_dim,\n",
    "#             num_layers=num_layers,\n",
    "#             batch_first=True,\n",
    "#             dropout=0.2\n",
    "#         )\n",
    "        \n",
    "#         self.fc1 = torch.nn.Linear(embeding_dim, 512)\n",
    "#         self.fc2 = torch.nn.Linear(512, classes_no)\n",
    "        \n",
    "        self.xlnet = XLNetModel.from_pretrained('xlnet-base-cased')\n",
    "        self.fc1 = torch.nn.Linear(768, 128)\n",
    "        self.fc2 = torch.nn.Linear(128, 1)\n",
    "        \n",
    "    def forward(self, input_ids, attention_mask):\n",
    "        \n",
    "#         packed_input = pack_padded_sequence(features, lengths, batch_first=True, enforce_sorted=False)\n",
    "#         packed_output, _ = self.rnn(packed_input)\n",
    "#         output, _ = pad_packed_sequence(packed_output, batch_first=True)\n",
    "#         out_forward = torch.mean(features, 1)\n",
    "        \n",
    "#         out_forward = output[range(len(output)), lenghts - 1, :self.embeding_dim]\n",
    "#         out_forward = get_last_sequence_values(output, lengths)\n",
    "        \n",
    "        last_hidden_state = self.xlnet(\n",
    "            input_ids=input_ids,\n",
    "            attention_mask=attention_mask,\n",
    "            token_type_ids=None\n",
    "        )\n",
    "        \n",
    "        mean_last_hidden_state = self.pool_hidden_state(last_hidden_state)\n",
    "        \n",
    "        x = self.fc1(mean_last_hidden_state)\n",
    "        x = F.sigmoid(x)\n",
    "        \n",
    "        x = self.fc2(x)\n",
    "        x = F.sigmoid(x)\n",
    "\n",
    "        return x\n",
    "\n",
    "    def pool_hidden_state(self, last_hidden_state):\n",
    "        \"\"\"\n",
    "        Pool the output vectors into a single mean vector \n",
    "        \"\"\"\n",
    "        last_hidden_state = last_hidden_state[0]\n",
    "        mean_last_hidden_state = torch.mean(last_hidden_state, 1)\n",
    "        return mean_last_hidden_state\n",
    "    \n",
    "    def freeze_xlnet_decoder(self):\n",
    "        \"\"\"\n",
    "        Freeze XLNet weight parameters. They will not be updated during training.\n",
    "        \"\"\"\n",
    "        for param in self.xlnet.parameters():\n",
    "            param.requires_grad = False\n",
    "    \n",
    "    def unfreeze_xlnet_decoder(self):\n",
    "        \"\"\"\n",
    "        Unfreeze XLNet weight parameters. They will be updated during training.\n",
    "        \"\"\"\n",
    "        for param in self.xlnet.parameters():\n",
    "            param.requires_grad = True"
   ]
  },
  {
   "cell_type": "code",
   "execution_count": 44,
   "id": "horizontal-prefix",
   "metadata": {},
   "outputs": [],
   "source": [
    "model = MyModel().to(device)\n",
    "model.freeze_xlnet_decoder()"
   ]
  },
  {
   "cell_type": "code",
   "execution_count": 45,
   "id": "bulgarian-donor",
   "metadata": {},
   "outputs": [
    {
     "name": "stdout",
     "output_type": "stream",
     "text": [
      "tensor([[0.1000],\n",
      "        [0.5001],\n",
      "        [0.7000]])\n",
      "tensor([[0.],\n",
      "        [1.],\n",
      "        [0.]])\n"
     ]
    }
   ],
   "source": [
    "preds = torch.tensor([0.1, 0.5001, 0.7]).reshape(-1,1).float()\n",
    "print(preds)\n",
    "\n",
    "targets = torch.tensor([0, 1, 0]).reshape(-1,1).float()\n",
    "print(targets)"
   ]
  },
  {
   "cell_type": "code",
   "execution_count": 46,
   "id": "guilty-indianapolis",
   "metadata": {},
   "outputs": [],
   "source": [
    "def accuracy_function(preds, targets):\n",
    "    processed_preds = torch.round(preds).bool()\n",
    "    processed_targets = targets.bool()\n",
    "    equality = processed_preds == processed_targets\n",
    "    x = torch.sum(equality,1)/processed_targets.shape[1]\n",
    "    x = torch.mean(x)\n",
    "    return x.item()"
   ]
  },
  {
   "cell_type": "code",
   "execution_count": 47,
   "id": "pharmaceutical-science",
   "metadata": {},
   "outputs": [
    {
     "data": {
      "text/plain": [
       "0.6666666865348816"
      ]
     },
     "execution_count": 47,
     "metadata": {},
     "output_type": "execute_result"
    }
   ],
   "source": [
    "accuracy_function(preds, targets)"
   ]
  },
  {
   "cell_type": "code",
   "execution_count": 48,
   "id": "sonic-emerald",
   "metadata": {},
   "outputs": [],
   "source": [
    "def evaluate(model, dataloader, loss_function, accuracy_function):\n",
    "    model.eval()\n",
    "    with torch.no_grad():\n",
    "        for batch in dataloader:\n",
    "            labels, features, attention_masks = batch\n",
    "            preds = model(features, attention_masks)\n",
    "            loss = loss_function(preds, labels).item()\n",
    "            acc = accuracy_function(preds, labels)\n",
    "        return loss, acc"
   ]
  },
  {
   "cell_type": "code",
   "execution_count": 49,
   "id": "disabled-findings",
   "metadata": {},
   "outputs": [],
   "source": [
    "# TODO: return ndentation in evaluate in pycharm !!!!"
   ]
  },
  {
   "cell_type": "code",
   "execution_count": 50,
   "id": "chicken-expert",
   "metadata": {},
   "outputs": [],
   "source": [
    "from torch.utils.tensorboard import SummaryWriter\n",
    "writer = SummaryWriter()"
   ]
  },
  {
   "cell_type": "code",
   "execution_count": 51,
   "id": "classical-attraction",
   "metadata": {},
   "outputs": [],
   "source": [
    "loss_function = torch.nn.BCELoss()\n",
    "LR = 0.01\n",
    "optimizer = Adam(model.parameters(), lr=LR)\n",
    "\n",
    "losses = []\n",
    "accuracies = []\n",
    "\n",
    "val_losses = []\n",
    "val_accuracies = []"
   ]
  },
  {
   "cell_type": "code",
   "execution_count": 52,
   "id": "filled-handle",
   "metadata": {
    "scrolled": false
   },
   "outputs": [
    {
     "data": {
      "application/vnd.jupyter.widget-view+json": {
       "model_id": "f488061698404e3bb2d5b8576a9bd1d4",
       "version_major": 2,
       "version_minor": 0
      },
      "text/plain": [
       "  0%|          | 0/214 [00:00<?, ?batch/s]"
      ]
     },
     "metadata": {},
     "output_type": "display_data"
    },
    {
     "data": {
      "application/vnd.jupyter.widget-view+json": {
       "model_id": "4d66685ff1ba42588a0f75b22507aef6",
       "version_major": 2,
       "version_minor": 0
      },
      "text/plain": [
       "  0%|          | 0/214 [00:00<?, ?batch/s]"
      ]
     },
     "metadata": {},
     "output_type": "display_data"
    },
    {
     "data": {
      "application/vnd.jupyter.widget-view+json": {
       "model_id": "3d9e441d8c6d4403af06fe7cabea4c52",
       "version_major": 2,
       "version_minor": 0
      },
      "text/plain": [
       "  0%|          | 0/214 [00:00<?, ?batch/s]"
      ]
     },
     "metadata": {},
     "output_type": "display_data"
    },
    {
     "data": {
      "application/vnd.jupyter.widget-view+json": {
       "model_id": "5aeb2d97f6c441dba558f555b52f66a7",
       "version_major": 2,
       "version_minor": 0
      },
      "text/plain": [
       "  0%|          | 0/214 [00:00<?, ?batch/s]"
      ]
     },
     "metadata": {},
     "output_type": "display_data"
    },
    {
     "data": {
      "application/vnd.jupyter.widget-view+json": {
       "model_id": "f2a9c37a0c8545a7bc0f00a2807501ca",
       "version_major": 2,
       "version_minor": 0
      },
      "text/plain": [
       "  0%|          | 0/214 [00:00<?, ?batch/s]"
      ]
     },
     "metadata": {},
     "output_type": "display_data"
    },
    {
     "data": {
      "application/vnd.jupyter.widget-view+json": {
       "model_id": "7120a5b652f24be1adb5f8c5ec8f09de",
       "version_major": 2,
       "version_minor": 0
      },
      "text/plain": [
       "  0%|          | 0/214 [00:00<?, ?batch/s]"
      ]
     },
     "metadata": {},
     "output_type": "display_data"
    },
    {
     "data": {
      "application/vnd.jupyter.widget-view+json": {
       "model_id": "2ee20374949a4b5bb0bc1630c2496446",
       "version_major": 2,
       "version_minor": 0
      },
      "text/plain": [
       "  0%|          | 0/214 [00:00<?, ?batch/s]"
      ]
     },
     "metadata": {},
     "output_type": "display_data"
    },
    {
     "data": {
      "application/vnd.jupyter.widget-view+json": {
       "model_id": "619fad8eeef04c96ad967579f8f3045e",
       "version_major": 2,
       "version_minor": 0
      },
      "text/plain": [
       "  0%|          | 0/214 [00:00<?, ?batch/s]"
      ]
     },
     "metadata": {},
     "output_type": "display_data"
    },
    {
     "data": {
      "application/vnd.jupyter.widget-view+json": {
       "model_id": "de58f29b1584493eb4d22d4ba0fecfde",
       "version_major": 2,
       "version_minor": 0
      },
      "text/plain": [
       "  0%|          | 0/214 [00:00<?, ?batch/s]"
      ]
     },
     "metadata": {},
     "output_type": "display_data"
    },
    {
     "data": {
      "application/vnd.jupyter.widget-view+json": {
       "model_id": "0d0f46952b714b75ab5e9cba98f1447e",
       "version_major": 2,
       "version_minor": 0
      },
      "text/plain": [
       "  0%|          | 0/214 [00:00<?, ?batch/s]"
      ]
     },
     "metadata": {},
     "output_type": "display_data"
    },
    {
     "data": {
      "application/vnd.jupyter.widget-view+json": {
       "model_id": "bd94ed27f51748f5b946f9b4befd1040",
       "version_major": 2,
       "version_minor": 0
      },
      "text/plain": [
       "  0%|          | 0/214 [00:00<?, ?batch/s]"
      ]
     },
     "metadata": {},
     "output_type": "display_data"
    },
    {
     "data": {
      "application/vnd.jupyter.widget-view+json": {
       "model_id": "0a09554392d549deb5f584eca9b31f0e",
       "version_major": 2,
       "version_minor": 0
      },
      "text/plain": [
       "  0%|          | 0/214 [00:00<?, ?batch/s]"
      ]
     },
     "metadata": {},
     "output_type": "display_data"
    },
    {
     "data": {
      "application/vnd.jupyter.widget-view+json": {
       "model_id": "38ef2899339f4a4bac925d58032fd0bd",
       "version_major": 2,
       "version_minor": 0
      },
      "text/plain": [
       "  0%|          | 0/214 [00:00<?, ?batch/s]"
      ]
     },
     "metadata": {},
     "output_type": "display_data"
    },
    {
     "data": {
      "application/vnd.jupyter.widget-view+json": {
       "model_id": "6b3bc2441bf847e2a1023fad86ca4e22",
       "version_major": 2,
       "version_minor": 0
      },
      "text/plain": [
       "  0%|          | 0/214 [00:00<?, ?batch/s]"
      ]
     },
     "metadata": {},
     "output_type": "display_data"
    },
    {
     "data": {
      "application/vnd.jupyter.widget-view+json": {
       "model_id": "4ea9ff6fa4ce411c99afe3471def6a46",
       "version_major": 2,
       "version_minor": 0
      },
      "text/plain": [
       "  0%|          | 0/214 [00:00<?, ?batch/s]"
      ]
     },
     "metadata": {},
     "output_type": "display_data"
    },
    {
     "data": {
      "application/vnd.jupyter.widget-view+json": {
       "model_id": "d579a724a8344ccf95879a49c4a286b9",
       "version_major": 2,
       "version_minor": 0
      },
      "text/plain": [
       "  0%|          | 0/214 [00:00<?, ?batch/s]"
      ]
     },
     "metadata": {},
     "output_type": "display_data"
    },
    {
     "data": {
      "application/vnd.jupyter.widget-view+json": {
       "model_id": "963753da59654fadb2afbfd1b6bc8be3",
       "version_major": 2,
       "version_minor": 0
      },
      "text/plain": [
       "  0%|          | 0/214 [00:00<?, ?batch/s]"
      ]
     },
     "metadata": {},
     "output_type": "display_data"
    },
    {
     "data": {
      "application/vnd.jupyter.widget-view+json": {
       "model_id": "153d304311ea47a08ec03b0e58c4ed15",
       "version_major": 2,
       "version_minor": 0
      },
      "text/plain": [
       "  0%|          | 0/214 [00:00<?, ?batch/s]"
      ]
     },
     "metadata": {},
     "output_type": "display_data"
    },
    {
     "data": {
      "application/vnd.jupyter.widget-view+json": {
       "model_id": "bce5e82279e74c3a98d68574c629fc70",
       "version_major": 2,
       "version_minor": 0
      },
      "text/plain": [
       "  0%|          | 0/214 [00:00<?, ?batch/s]"
      ]
     },
     "metadata": {},
     "output_type": "display_data"
    },
    {
     "data": {
      "application/vnd.jupyter.widget-view+json": {
       "model_id": "695b6114bed74511ab59df023823b5d7",
       "version_major": 2,
       "version_minor": 0
      },
      "text/plain": [
       "  0%|          | 0/214 [00:00<?, ?batch/s]"
      ]
     },
     "metadata": {},
     "output_type": "display_data"
    },
    {
     "name": "stdout",
     "output_type": "stream",
     "text": [
      "Total training time: 673.024759054184\n"
     ]
    },
    {
     "data": {
      "image/png": "[encoded data removed]",
      "text/plain": [
       "<Figure size 432x288 with 1 Axes>"
      ]
     },
     "metadata": {
      "needs_background": "light"
     },
     "output_type": "display_data"
    },
    {
     "data": {
      "image/png": "[encoded data removed]",
      "text/plain": [
       "<Figure size 432x288 with 1 Axes>"
      ]
     },
     "metadata": {
      "needs_background": "light"
     },
     "output_type": "display_data"
    },
    {
     "name": "stdout",
     "output_type": "stream",
     "text": [
      "Testing loss: 1.003000259399414, testing accuracy: 0.5\n"
     ]
    }
   ],
   "source": [
    "batch_size=32\n",
    "\n",
    "EPOCHS = 20\n",
    "\n",
    "start = time.time()\n",
    "for epoch in range(EPOCHS):\n",
    "    with tqdm(train_ds_dl, unit=\"batch\") as tepoch:\n",
    "        model.train()\n",
    "        for batch in tepoch:\n",
    "            tepoch.set_description(f\"[Epoch {epoch}]\")\n",
    "            labels, features, attention_masks = batch\n",
    "            preds = model(features, attention_masks)\n",
    "\n",
    "            loss = loss_function(preds, labels)\n",
    "            acc = accuracy_function(preds, labels)\n",
    "\n",
    "            loss.backward()\n",
    "            \n",
    "            torch.nn.utils.clip_grad_norm_(model.parameters(), 0.1)\n",
    "            optimizer.step()\n",
    "            optimizer.zero_grad()\n",
    "\n",
    "            loss = loss.item()\n",
    "            tepoch.set_postfix(loss=loss, acc=acc)\n",
    "\n",
    "        losses.append(loss)\n",
    "        accuracies.append(acc)\n",
    "        writer.add_scalar(\"Loss/train\", loss, epoch)\n",
    "        writer.add_scalar(\"Accuracy/train\", acc, epoch)\n",
    "        writer.flush()\n",
    "\n",
    "        val_loss, val_acc = evaluate(\n",
    "            model, test_ds_dl, loss_function, accuracy_function\n",
    "        )\n",
    "        \n",
    "        val_losses.append(val_loss)\n",
    "        val_accuracies.append(val_acc)\n",
    "        writer.add_scalar(\"Loss/valid\", val_loss, epoch)\n",
    "        writer.add_scalar(\"Accuracy/valid\", val_acc, epoch)\n",
    "        writer.flush()\n",
    "        \n",
    "        tepoch.set_postfix(loss=loss, acc=acc, val_loss=val_loss, val_acc=val_acc)\n",
    "\n",
    "end = time.time()\n",
    "print(f\"Total training time: {end - start}\")\n",
    "\n",
    "plt.plot([float(loss) for loss in losses])\n",
    "plt.plot([float(loss) for loss in val_losses], color=\"red\")\n",
    "plt.show()\n",
    "\n",
    "plt.plot([float(acc) for acc in accuracies])\n",
    "plt.plot([float(acc) for acc in val_accuracies], color=\"red\")\n",
    "plt.show()\n",
    "\n",
    "loss, acc = evaluate(model, test_ds_dl, loss_function, accuracy_function)\n",
    "print(f\"Testing loss: {loss}, testing accuracy: {acc}\")"
   ]
  },
  {
   "cell_type": "code",
   "execution_count": 261,
   "id": "perceived-bristol",
   "metadata": {},
   "outputs": [],
   "source": [
    "torch.cuda.empty_cache()"
   ]
  },
  {
   "cell_type": "code",
   "execution_count": null,
   "id": "integral-mention",
   "metadata": {},
   "outputs": [],
   "source": []
  }
 ],
 "metadata": {
  "kernelspec": {
   "display_name": "Python 3",
   "language": "python",
   "name": "python3"
  },
  "language_info": {
   "codemirror_mode": {
    "name": "ipython",
    "version": 3
   },
   "file_extension": ".py",
   "mimetype": "text/x-python",
   "name": "python",
   "nbconvert_exporter": "python",
   "pygments_lexer": "ipython3",
   "version": "3.7.10"
  }
 },
 "nbformat": 4,
 "nbformat_minor": 5
}
